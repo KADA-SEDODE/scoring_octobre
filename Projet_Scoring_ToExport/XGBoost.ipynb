{
  "cells": [
    {
      "cell_type": "markdown",
      "metadata": {},
      "source": [
        "<div style=\"text-align: center;\">\n",
        "    <span style=\"font-size: 48px; color: darkred; text-decoration: underline;\"><strong>XGBoost</strong></span>\n",
        "</div>\n"
      ]
    },
    {
      "cell_type": "code",
      "execution_count": 1,
      "metadata": {},
      "outputs": [
        {
          "name": "stderr",
          "output_type": "stream",
          "text": [
            "c:\\Users\\alexi\\Desktop\\Projet_Scoring_1\\.venv\\Lib\\site-packages\\tqdm\\auto.py:21: TqdmWarning: IProgress not found. Please update jupyter and ipywidgets. See https://ipywidgets.readthedocs.io/en/stable/user_install.html\n",
            "  from .autonotebook import tqdm as notebook_tqdm\n"
          ]
        }
      ],
      "source": [
        "#Importation des Packages nécessaires\n",
        "import pandas as pd\n",
        "import numpy as np\n",
        "import plotly.express\n",
        "import plotly.graph_objects as go\n",
        "import matplotlib.pyplot as  plt\n",
        "import shap\n",
        "import xgboost as xgb\n",
        "from xgboost import XGBClassifier\n",
        "\n",
        "from sklearn.metrics import log_loss, precision_score, recall_score, f1_score, accuracy_score, classification_report, roc_auc_score, roc_curve, confusion_matrix, ConfusionMatrixDisplay\n",
        "from sklearn.model_selection import GridSearchCV, StratifiedKFold, train_test_split\n",
        "\n",
        "import random"
      ]
    },
    {
      "cell_type": "code",
      "execution_count": 2,
      "metadata": {
        "colab": {
          "base_uri": "https://localhost:8080/"
        },
        "id": "FdUaIXf1F57T",
        "outputId": "47968d03-a90d-419f-c1e9-38d9910c12bf"
      },
      "outputs": [],
      "source": [
        "# Import des données brutes pour comparaison\n",
        "data_score_raw = pd.read_csv(\"data/hmeq.csv\")\n",
        "\n",
        "# Création des ensembles de train et test sur les données brutes\n",
        "data_train_raw, data_test_raw = train_test_split(data_score_raw,\n",
        "                                                 test_size=0.3,random_state=99,stratify=data_score_raw['BAD'])"
      ]
    },
    {
      "cell_type": "markdown",
      "metadata": {},
      "source": [
        "Afin de voir l'impact de notre EDA sur le modèle XGBoost, nous allons comparer les résultats sur la base de données nettoyée et sur la base de données brute.\n",
        "\n"
      ]
    },
    {
      "cell_type": "code",
      "execution_count": 3,
      "metadata": {
        "id": "meELkG2pE9BN"
      },
      "outputs": [],
      "source": [
        "# Import des données nettoyées, définition des Features et des variables cibles\n",
        "\n",
        "data_train = pd.read_csv(\"data/data_train.csv\")\n",
        "data_test = pd.read_csv(\"data/data_test.csv\")\n",
        "\n",
        "y_test = data_test['BAD']\n",
        "y_train = data_train['BAD']\n",
        "\n",
        "col_with_med = ['LOAN', 'VALUE', 'YOJ', 'DEROG', 'DELINQ', 'CLAGE',\n",
        "     'NINQ', 'CLNO','DEBTINC',\n",
        "     'REASON_HomeImp', 'JOB_Office', 'JOB_Other',\n",
        "     'JOB_ProfExe', 'JOB_Sales', 'JOB_Self']\n",
        "\n",
        "raw_col = ['LOAN', 'MORTDUE', 'VALUE', 'YOJ', 'DEROG', 'DELINQ', 'CLAGE',\n",
        "     'NINQ', 'CLNO', 'DEBTINC']\n",
        "\n",
        "# Train nettoyé\n",
        "x_train_med = data_train[col_with_med]\n",
        "\n",
        "# Test nettoyé\n",
        "x_test_med = data_test[col_with_med]\n",
        "\n",
        "# Train données brutes\n",
        "x_train_raw = data_train_raw[raw_col]\n",
        "y_train_raw = data_train_raw['BAD']\n",
        "\n",
        "# Test données brutes\n",
        "x_test_raw = data_test_raw[raw_col]\n",
        "y_test_raw = data_test_raw['BAD']\n",
        "\n",
        "# Pour lancer XGBoost, il est préférable de transformer les données en DMatrix\n",
        "# qui est un format adapté pour ce package. Les algorithmes sont plus performants\n",
        "# et convergent plus rapidement si les inputs sont sous ce format.\n",
        "\n",
        "data_dmatrix_train_med = xgb.DMatrix(data=x_train_med,label=y_train)\n",
        "data_dmatrix_test_med = xgb.DMatrix(data=x_test_med,label=y_test)\n",
        "\n",
        "data_dmatrix_train_raw = xgb.DMatrix(data=x_train_raw,label=y_train_raw)\n",
        "data_dmatrix_test_raw = xgb.DMatrix(data=x_test_raw,label=y_test_raw)"
      ]
    },
    {
      "cell_type": "markdown",
      "metadata": {},
      "source": [
        "<span style=\"font-size: 24px; color: darkred; text-decoration: underline;\"><strong>XGBoost simple</strong></span>"
      ]
    },
    {
      "cell_type": "code",
      "execution_count": 4,
      "metadata": {
        "colab": {
          "base_uri": "https://localhost:8080/"
        },
        "id": "o7oY98toGmen",
        "outputId": "f7900618-9cce-485c-a32d-a014f5486a0c"
      },
      "outputs": [],
      "source": [
        "# Indiquons quelqules paramètres afin de lancer un modèle en premier lieu non\n",
        "# optimisé\n",
        "\n",
        "params = {\n",
        "            'objective':'binary:logistic', # On veut prédire une valeur binaire\n",
        "            'max_depth': 1, #  Commencons avec des arbres simples\n",
        "            'alpha': 10,\n",
        "            'learning_rate': 1.0\n",
        "        }\n",
        "\n",
        "# Entrainement des modèles\n",
        "\n",
        "xgb_clf_med = xgb.train(params, dtrain= data_dmatrix_train_med)\n",
        "xgb_clf_raw = xgb.train(params, dtrain= data_dmatrix_train_raw)"
      ]
    },
    {
      "cell_type": "code",
      "execution_count": 5,
      "metadata": {
        "colab": {
          "base_uri": "https://localhost:8080/"
        },
        "id": "FLV5OdkBGm2w",
        "outputId": "cf7afb4a-440b-4287-8631-3696994556ec"
      },
      "outputs": [
        {
          "name": "stdout",
          "output_type": "stream",
          "text": [
            "Le F1 Score de notre XGBoost utilisant l'imputation par médiane est : 0.61\n",
            "Le F1 Score de notre XGBoost utilisant les données brutes est : 0.68\n"
          ]
        }
      ],
      "source": [
        "# La fonction predict nous donne la probabilité de chaque individus d'appartenir\n",
        "# à la classe 1\n",
        "y_pred_med_probs = xgb_clf_med.predict(data_dmatrix_test_med)\n",
        "\n",
        "# Si l'on veut obtenir un résultat binaire, on peut ainsi arrondir les probabilités\n",
        "y_pred_med = [round(p) for p in y_pred_med_probs]\n",
        "\n",
        "y_pred_raw_probs = xgb_clf_raw.predict(data_dmatrix_test_raw)\n",
        "y_pred_raw = [round(p) for p in y_pred_raw_probs]\n",
        "\n",
        "print(f\"Le F1 Score de notre XGBoost utilisant l'imputation par médiane est : {round(f1_score(y_test, y_pred_med),2)}\")\n",
        "print(f\"Le F1 Score de notre XGBoost utilisant les données brutes est : {round(f1_score(y_test_raw, y_pred_raw),2)}\")"
      ]
    },
    {
      "cell_type": "code",
      "execution_count": 6,
      "metadata": {
        "colab": {
          "base_uri": "https://localhost:8080/"
        },
        "id": "q9o4AcNWGnCE",
        "outputId": "9c96c001-1818-4e7c-f010-1aa9eeef88ae"
      },
      "outputs": [
        {
          "name": "stdout",
          "output_type": "stream",
          "text": [
            "\n",
            "Tableau des métriques pour la régression Modèle Complet \n",
            " \n",
            " :               precision    recall  f1-score   support\n",
            "\n",
            "           0       0.88      0.97      0.93      1431\n",
            "           1       0.82      0.49      0.61       357\n",
            "\n",
            "    accuracy                           0.88      1788\n",
            "   macro avg       0.85      0.73      0.77      1788\n",
            "weighted avg       0.87      0.88      0.86      1788\n",
            "\n",
            "\n",
            "Tableau des métriques pour la régression Données Brutes \n",
            " \n",
            " :               precision    recall  f1-score   support\n",
            "\n",
            "           0       0.91      0.96      0.93      1431\n",
            "           1       0.77      0.60      0.68       357\n",
            "\n",
            "    accuracy                           0.89      1788\n",
            "   macro avg       0.84      0.78      0.80      1788\n",
            "weighted avg       0.88      0.89      0.88      1788\n",
            "\n"
          ]
        }
      ],
      "source": [
        "results = [y_pred_med, y_pred_raw]\n",
        "test_type = [y_test, y_test_raw]\n",
        "\n",
        "prediction_type = ['Modèle Complet', 'Données Brutes']\n",
        "for i, pred_type in enumerate(results):\n",
        "    cr = classification_report(test_type[i], pred_type)\n",
        "    print(f\"\\nTableau des métriques pour la régression {prediction_type[i]} \\n \\n : {cr}\")"
      ]
    },
    {
      "cell_type": "markdown",
      "metadata": {},
      "source": [
        "<span style=\"font-size: 24px; color: darkred; text-decoration: underline;\"><strong>Réalisation des courbes ROC\n",
        "</strong></span>"
      ]
    },
    {
      "cell_type": "code",
      "execution_count": 7,
      "metadata": {
        "colab": {
          "base_uri": "https://localhost:8080/",
          "height": 597
        },
        "id": "cRmpCUmiGnIC",
        "outputId": "9aaf040d-5720-4fbd-c309-387bd4abf1dc"
      },
      "outputs": [
        {
          "name": "stdout",
          "output_type": "stream",
          "text": [
            "Naïf: ROC AUC = 0.5\n",
            "XGBoost | Médiane: ROC AUC = 0.88\n",
            "XGBoost | Raw : ROC AUC = 0.89\n"
          ]
        },
        {
          "data": {
            "application/vnd.plotly.v1+json": {
              "config": {
                "plotlyServerURL": "https://plot.ly"
              },
              "data": [
                {
                  "mode": "lines",
                  "name": "Modèle Naïf",
                  "type": "scatter",
                  "x": [
                    0,
                    1
                  ],
                  "y": [
                    0,
                    1
                  ]
                },
                {
                  "mode": "lines",
                  "name": "XGBoost | Modèle Simple",
                  "type": "scatter",
                  "x": [
                    0,
                    0,
                    0,
                    0,
                    0,
                    0,
                    0,
                    0.0006988120195667365,
                    0.0006988120195667365,
                    0.0006988120195667365,
                    0.002795248078266946,
                    0.0034940600978336828,
                    0.0034940600978336828,
                    0.015373864430468204,
                    0.01607267645003494,
                    0.020964360587002098,
                    0.02585604472396925,
                    0.026554856743535988,
                    0.03004891684136967,
                    0.06778476589797344,
                    0.07127882599580712,
                    0.07127882599580712,
                    0.0726764500349406,
                    0.07477288609364081,
                    0.1090146750524109,
                    0.1111111111111111,
                    0.11250873515024458,
                    0.1488469601677149,
                    0.14954577218728163,
                    0.14954577218728163,
                    0.15164220824598182,
                    0.15234102026554858,
                    0.15513626834381553,
                    0.1740041928721174,
                    0.206848357791754,
                    0.2445842068483578,
                    0.2445842068483578,
                    0.25157232704402516,
                    0.28232005590496156,
                    0.2830188679245283,
                    0.28581411600279527,
                    0.29000698812019565,
                    0.29909154437456326,
                    0.3256464011180992,
                    0.4863731656184486,
                    0.49056603773584906,
                    0.5010482180293501,
                    0.6778476589797344,
                    0.6834381551362684,
                    0.859538784067086,
                    1
                  ],
                  "y": [
                    0,
                    0.0056022408963585435,
                    0.008403361344537815,
                    0.025210084033613446,
                    0.036414565826330535,
                    0.04201680672268908,
                    0.06722689075630252,
                    0.11484593837535013,
                    0.12324929971988796,
                    0.12885154061624648,
                    0.13725490196078433,
                    0.15406162464985995,
                    0.16526610644257703,
                    0.31932773109243695,
                    0.3389355742296919,
                    0.39775910364145656,
                    0.48179271708683474,
                    0.49019607843137253,
                    0.49859943977591037,
                    0.6554621848739496,
                    0.6582633053221288,
                    0.6666666666666666,
                    0.6750700280112045,
                    0.680672268907563,
                    0.7366946778711485,
                    0.7366946778711485,
                    0.7394957983193278,
                    0.7759103641456583,
                    0.7759103641456583,
                    0.7787114845938375,
                    0.7815126050420168,
                    0.7815126050420168,
                    0.7899159663865546,
                    0.8011204481792717,
                    0.8095238095238095,
                    0.834733893557423,
                    0.8375350140056023,
                    0.8403361344537815,
                    0.84593837535014,
                    0.84593837535014,
                    0.84593837535014,
                    0.8543417366946778,
                    0.8571428571428571,
                    0.865546218487395,
                    0.927170868347339,
                    0.9299719887955182,
                    0.9327731092436975,
                    0.9663865546218487,
                    0.9663865546218487,
                    0.9859943977591037,
                    1
                  ]
                },
                {
                  "mode": "lines",
                  "name": "XGBoost | Modèle Brute",
                  "type": "scatter",
                  "x": [
                    0,
                    0,
                    0,
                    0,
                    0,
                    0,
                    0,
                    0,
                    0,
                    0,
                    0,
                    0,
                    0,
                    0.0006988120195667365,
                    0.0020964360587002098,
                    0.0020964360587002098,
                    0.002795248078266946,
                    0.002795248078266946,
                    0.002795248078266946,
                    0.002795248078266946,
                    0.0034940600978336828,
                    0.0034940600978336828,
                    0.0034940600978336828,
                    0.0041928721174004195,
                    0.0041928721174004195,
                    0.0041928721174004195,
                    0.0041928721174004195,
                    0.0041928721174004195,
                    0.0069881201956673656,
                    0.0069881201956673656,
                    0.0069881201956673656,
                    0.0069881201956673656,
                    0.0069881201956673656,
                    0.009084556254367574,
                    0.009084556254367574,
                    0.009783368273934312,
                    0.009783368273934312,
                    0.010482180293501049,
                    0.010482180293501049,
                    0.015373864430468204,
                    0.015373864430468204,
                    0.020964360587002098,
                    0.020964360587002098,
                    0.023759608665269043,
                    0.02445842068483578,
                    0.026554856743535988,
                    0.026554856743535988,
                    0.027253668763102725,
                    0.029350104821802937,
                    0.029350104821802937,
                    0.03004891684136967,
                    0.03004891684136967,
                    0.031446540880503145,
                    0.031446540880503145,
                    0.039133473095737246,
                    0.04122990915443746,
                    0.04122990915443746,
                    0.041928721174004195,
                    0.041928721174004195,
                    0.041928721174004195,
                    0.04262753319357093,
                    0.0440251572327044,
                    0.0440251572327044,
                    0.04612159329140461,
                    0.06429070580013976,
                    0.06429070580013976,
                    0.06638714185883997,
                    0.06848357791754019,
                    0.06848357791754019,
                    0.06918238993710692,
                    0.07127882599580712,
                    0.07337526205450734,
                    0.07407407407407407,
                    0.07547169811320754,
                    0.07617051013277429,
                    0.07756813417190776,
                    0.07966457023060797,
                    0.0803633822501747,
                    0.0803633822501747,
                    0.08245981830887492,
                    0.08385744234800839,
                    0.08525506638714186,
                    0.0880503144654088,
                    0.12299091544374563,
                    0.12368972746331237,
                    0.12508735150244585,
                    0.12718378756114604,
                    0.129979035639413,
                    0.1334730957372467,
                    0.1376659678546471,
                    0.13836477987421383,
                    0.14255765199161424,
                    0.15443745632424877,
                    0.15723270440251572,
                    0.1586303284416492,
                    0.15932914046121593,
                    0.1642208245981831,
                    0.16491963661774983,
                    0.1740041928721174,
                    0.1740041928721174,
                    0.18099231306778477,
                    0.18308874912648498,
                    0.19077568134171907,
                    0.19217330538085256,
                    0.19566736547868624,
                    0.19566736547868624,
                    0.21523410202655485,
                    0.21593291404612158,
                    0.2348008385744235,
                    0.26275331935709295,
                    0.2697414395527603,
                    0.2697414395527603,
                    0.28441649196366176,
                    0.2893081761006289,
                    0.2921034241788959,
                    0.2983927323549965,
                    0.30118798043326345,
                    0.30468204053109715,
                    0.30468204053109715,
                    0.3913347309573725,
                    0.40041928721174,
                    0.43186582809224316,
                    0.46540880503144655,
                    0.48777078965758214,
                    0.6876310272536688,
                    0.6967155835080363,
                    0.7127882599580713,
                    1
                  ],
                  "y": [
                    0,
                    0.0028011204481792717,
                    0.0196078431372549,
                    0.028011204481792718,
                    0.03361344537815126,
                    0.07563025210084033,
                    0.0784313725490196,
                    0.08403361344537816,
                    0.09523809523809523,
                    0.10364145658263306,
                    0.1092436974789916,
                    0.12044817927170869,
                    0.12324929971988796,
                    0.12324929971988796,
                    0.13445378151260504,
                    0.13725490196078433,
                    0.15126050420168066,
                    0.15966386554621848,
                    0.17086834733893558,
                    0.17647058823529413,
                    0.1792717086834734,
                    0.18207282913165265,
                    0.19607843137254902,
                    0.19887955182072828,
                    0.20448179271708683,
                    0.20728291316526612,
                    0.23529411764705882,
                    0.23809523809523808,
                    0.28851540616246496,
                    0.2913165266106443,
                    0.3025210084033613,
                    0.30532212885154064,
                    0.32212885154061627,
                    0.32492997198879553,
                    0.3333333333333333,
                    0.3445378151260504,
                    0.35014005602240894,
                    0.3557422969187675,
                    0.3585434173669468,
                    0.3753501400560224,
                    0.37815126050420167,
                    0.3949579831932773,
                    0.40896358543417366,
                    0.4369747899159664,
                    0.43977591036414565,
                    0.4649859943977591,
                    0.4677871148459384,
                    0.47058823529411764,
                    0.47058823529411764,
                    0.47619047619047616,
                    0.47619047619047616,
                    0.4789915966386555,
                    0.4789915966386555,
                    0.48179271708683474,
                    0.5434173669467787,
                    0.5574229691876751,
                    0.5602240896358543,
                    0.5602240896358543,
                    0.5630252100840336,
                    0.5686274509803921,
                    0.5938375350140056,
                    0.6022408963585434,
                    0.6050420168067226,
                    0.6190476190476191,
                    0.6834733893557423,
                    0.6862745098039216,
                    0.6890756302521008,
                    0.6890756302521008,
                    0.6918767507002801,
                    0.6918767507002801,
                    0.6918767507002801,
                    0.6946778711484594,
                    0.6946778711484594,
                    0.7002801120448179,
                    0.7030812324929971,
                    0.7030812324929971,
                    0.7030812324929971,
                    0.7030812324929971,
                    0.7058823529411765,
                    0.7058823529411765,
                    0.7058823529411765,
                    0.7086834733893558,
                    0.711484593837535,
                    0.7563025210084033,
                    0.7563025210084033,
                    0.7619047619047619,
                    0.7619047619047619,
                    0.7619047619047619,
                    0.7675070028011205,
                    0.7759103641456583,
                    0.7787114845938375,
                    0.7787114845938375,
                    0.7815126050420168,
                    0.7871148459383753,
                    0.7871148459383753,
                    0.7871148459383753,
                    0.7899159663865546,
                    0.7955182072829131,
                    0.7955182072829131,
                    0.7983193277310925,
                    0.8011204481792717,
                    0.8067226890756303,
                    0.8067226890756303,
                    0.8067226890756303,
                    0.8095238095238095,
                    0.8151260504201681,
                    0.8235294117647058,
                    0.8235294117647058,
                    0.834733893557423,
                    0.84593837535014,
                    0.8571428571428571,
                    0.8599439775910365,
                    0.8739495798319328,
                    0.8739495798319328,
                    0.8739495798319328,
                    0.8795518207282913,
                    0.8851540616246498,
                    0.8851540616246498,
                    0.8907563025210085,
                    0.9131652661064426,
                    0.9159663865546218,
                    0.9159663865546218,
                    0.9327731092436975,
                    0.9355742296918768,
                    0.9747899159663865,
                    0.9747899159663865,
                    0.9775910364145658,
                    1
                  ]
                }
              ],
              "layout": {
                "legend": {
                  "title": {
                    "text": "Modèles"
                  }
                },
                "template": {
                  "data": {
                    "bar": [
                      {
                        "error_x": {
                          "color": "#2a3f5f"
                        },
                        "error_y": {
                          "color": "#2a3f5f"
                        },
                        "marker": {
                          "line": {
                            "color": "white",
                            "width": 0.5
                          },
                          "pattern": {
                            "fillmode": "overlay",
                            "size": 10,
                            "solidity": 0.2
                          }
                        },
                        "type": "bar"
                      }
                    ],
                    "barpolar": [
                      {
                        "marker": {
                          "line": {
                            "color": "white",
                            "width": 0.5
                          },
                          "pattern": {
                            "fillmode": "overlay",
                            "size": 10,
                            "solidity": 0.2
                          }
                        },
                        "type": "barpolar"
                      }
                    ],
                    "carpet": [
                      {
                        "aaxis": {
                          "endlinecolor": "#2a3f5f",
                          "gridcolor": "#C8D4E3",
                          "linecolor": "#C8D4E3",
                          "minorgridcolor": "#C8D4E3",
                          "startlinecolor": "#2a3f5f"
                        },
                        "baxis": {
                          "endlinecolor": "#2a3f5f",
                          "gridcolor": "#C8D4E3",
                          "linecolor": "#C8D4E3",
                          "minorgridcolor": "#C8D4E3",
                          "startlinecolor": "#2a3f5f"
                        },
                        "type": "carpet"
                      }
                    ],
                    "choropleth": [
                      {
                        "colorbar": {
                          "outlinewidth": 0,
                          "ticks": ""
                        },
                        "type": "choropleth"
                      }
                    ],
                    "contour": [
                      {
                        "colorbar": {
                          "outlinewidth": 0,
                          "ticks": ""
                        },
                        "colorscale": [
                          [
                            0,
                            "#0d0887"
                          ],
                          [
                            0.1111111111111111,
                            "#46039f"
                          ],
                          [
                            0.2222222222222222,
                            "#7201a8"
                          ],
                          [
                            0.3333333333333333,
                            "#9c179e"
                          ],
                          [
                            0.4444444444444444,
                            "#bd3786"
                          ],
                          [
                            0.5555555555555556,
                            "#d8576b"
                          ],
                          [
                            0.6666666666666666,
                            "#ed7953"
                          ],
                          [
                            0.7777777777777778,
                            "#fb9f3a"
                          ],
                          [
                            0.8888888888888888,
                            "#fdca26"
                          ],
                          [
                            1,
                            "#f0f921"
                          ]
                        ],
                        "type": "contour"
                      }
                    ],
                    "contourcarpet": [
                      {
                        "colorbar": {
                          "outlinewidth": 0,
                          "ticks": ""
                        },
                        "type": "contourcarpet"
                      }
                    ],
                    "heatmap": [
                      {
                        "colorbar": {
                          "outlinewidth": 0,
                          "ticks": ""
                        },
                        "colorscale": [
                          [
                            0,
                            "#0d0887"
                          ],
                          [
                            0.1111111111111111,
                            "#46039f"
                          ],
                          [
                            0.2222222222222222,
                            "#7201a8"
                          ],
                          [
                            0.3333333333333333,
                            "#9c179e"
                          ],
                          [
                            0.4444444444444444,
                            "#bd3786"
                          ],
                          [
                            0.5555555555555556,
                            "#d8576b"
                          ],
                          [
                            0.6666666666666666,
                            "#ed7953"
                          ],
                          [
                            0.7777777777777778,
                            "#fb9f3a"
                          ],
                          [
                            0.8888888888888888,
                            "#fdca26"
                          ],
                          [
                            1,
                            "#f0f921"
                          ]
                        ],
                        "type": "heatmap"
                      }
                    ],
                    "heatmapgl": [
                      {
                        "colorbar": {
                          "outlinewidth": 0,
                          "ticks": ""
                        },
                        "colorscale": [
                          [
                            0,
                            "#0d0887"
                          ],
                          [
                            0.1111111111111111,
                            "#46039f"
                          ],
                          [
                            0.2222222222222222,
                            "#7201a8"
                          ],
                          [
                            0.3333333333333333,
                            "#9c179e"
                          ],
                          [
                            0.4444444444444444,
                            "#bd3786"
                          ],
                          [
                            0.5555555555555556,
                            "#d8576b"
                          ],
                          [
                            0.6666666666666666,
                            "#ed7953"
                          ],
                          [
                            0.7777777777777778,
                            "#fb9f3a"
                          ],
                          [
                            0.8888888888888888,
                            "#fdca26"
                          ],
                          [
                            1,
                            "#f0f921"
                          ]
                        ],
                        "type": "heatmapgl"
                      }
                    ],
                    "histogram": [
                      {
                        "marker": {
                          "pattern": {
                            "fillmode": "overlay",
                            "size": 10,
                            "solidity": 0.2
                          }
                        },
                        "type": "histogram"
                      }
                    ],
                    "histogram2d": [
                      {
                        "colorbar": {
                          "outlinewidth": 0,
                          "ticks": ""
                        },
                        "colorscale": [
                          [
                            0,
                            "#0d0887"
                          ],
                          [
                            0.1111111111111111,
                            "#46039f"
                          ],
                          [
                            0.2222222222222222,
                            "#7201a8"
                          ],
                          [
                            0.3333333333333333,
                            "#9c179e"
                          ],
                          [
                            0.4444444444444444,
                            "#bd3786"
                          ],
                          [
                            0.5555555555555556,
                            "#d8576b"
                          ],
                          [
                            0.6666666666666666,
                            "#ed7953"
                          ],
                          [
                            0.7777777777777778,
                            "#fb9f3a"
                          ],
                          [
                            0.8888888888888888,
                            "#fdca26"
                          ],
                          [
                            1,
                            "#f0f921"
                          ]
                        ],
                        "type": "histogram2d"
                      }
                    ],
                    "histogram2dcontour": [
                      {
                        "colorbar": {
                          "outlinewidth": 0,
                          "ticks": ""
                        },
                        "colorscale": [
                          [
                            0,
                            "#0d0887"
                          ],
                          [
                            0.1111111111111111,
                            "#46039f"
                          ],
                          [
                            0.2222222222222222,
                            "#7201a8"
                          ],
                          [
                            0.3333333333333333,
                            "#9c179e"
                          ],
                          [
                            0.4444444444444444,
                            "#bd3786"
                          ],
                          [
                            0.5555555555555556,
                            "#d8576b"
                          ],
                          [
                            0.6666666666666666,
                            "#ed7953"
                          ],
                          [
                            0.7777777777777778,
                            "#fb9f3a"
                          ],
                          [
                            0.8888888888888888,
                            "#fdca26"
                          ],
                          [
                            1,
                            "#f0f921"
                          ]
                        ],
                        "type": "histogram2dcontour"
                      }
                    ],
                    "mesh3d": [
                      {
                        "colorbar": {
                          "outlinewidth": 0,
                          "ticks": ""
                        },
                        "type": "mesh3d"
                      }
                    ],
                    "parcoords": [
                      {
                        "line": {
                          "colorbar": {
                            "outlinewidth": 0,
                            "ticks": ""
                          }
                        },
                        "type": "parcoords"
                      }
                    ],
                    "pie": [
                      {
                        "automargin": true,
                        "type": "pie"
                      }
                    ],
                    "scatter": [
                      {
                        "fillpattern": {
                          "fillmode": "overlay",
                          "size": 10,
                          "solidity": 0.2
                        },
                        "type": "scatter"
                      }
                    ],
                    "scatter3d": [
                      {
                        "line": {
                          "colorbar": {
                            "outlinewidth": 0,
                            "ticks": ""
                          }
                        },
                        "marker": {
                          "colorbar": {
                            "outlinewidth": 0,
                            "ticks": ""
                          }
                        },
                        "type": "scatter3d"
                      }
                    ],
                    "scattercarpet": [
                      {
                        "marker": {
                          "colorbar": {
                            "outlinewidth": 0,
                            "ticks": ""
                          }
                        },
                        "type": "scattercarpet"
                      }
                    ],
                    "scattergeo": [
                      {
                        "marker": {
                          "colorbar": {
                            "outlinewidth": 0,
                            "ticks": ""
                          }
                        },
                        "type": "scattergeo"
                      }
                    ],
                    "scattergl": [
                      {
                        "marker": {
                          "colorbar": {
                            "outlinewidth": 0,
                            "ticks": ""
                          }
                        },
                        "type": "scattergl"
                      }
                    ],
                    "scattermapbox": [
                      {
                        "marker": {
                          "colorbar": {
                            "outlinewidth": 0,
                            "ticks": ""
                          }
                        },
                        "type": "scattermapbox"
                      }
                    ],
                    "scatterpolar": [
                      {
                        "marker": {
                          "colorbar": {
                            "outlinewidth": 0,
                            "ticks": ""
                          }
                        },
                        "type": "scatterpolar"
                      }
                    ],
                    "scatterpolargl": [
                      {
                        "marker": {
                          "colorbar": {
                            "outlinewidth": 0,
                            "ticks": ""
                          }
                        },
                        "type": "scatterpolargl"
                      }
                    ],
                    "scatterternary": [
                      {
                        "marker": {
                          "colorbar": {
                            "outlinewidth": 0,
                            "ticks": ""
                          }
                        },
                        "type": "scatterternary"
                      }
                    ],
                    "surface": [
                      {
                        "colorbar": {
                          "outlinewidth": 0,
                          "ticks": ""
                        },
                        "colorscale": [
                          [
                            0,
                            "#0d0887"
                          ],
                          [
                            0.1111111111111111,
                            "#46039f"
                          ],
                          [
                            0.2222222222222222,
                            "#7201a8"
                          ],
                          [
                            0.3333333333333333,
                            "#9c179e"
                          ],
                          [
                            0.4444444444444444,
                            "#bd3786"
                          ],
                          [
                            0.5555555555555556,
                            "#d8576b"
                          ],
                          [
                            0.6666666666666666,
                            "#ed7953"
                          ],
                          [
                            0.7777777777777778,
                            "#fb9f3a"
                          ],
                          [
                            0.8888888888888888,
                            "#fdca26"
                          ],
                          [
                            1,
                            "#f0f921"
                          ]
                        ],
                        "type": "surface"
                      }
                    ],
                    "table": [
                      {
                        "cells": {
                          "fill": {
                            "color": "#EBF0F8"
                          },
                          "line": {
                            "color": "white"
                          }
                        },
                        "header": {
                          "fill": {
                            "color": "#C8D4E3"
                          },
                          "line": {
                            "color": "white"
                          }
                        },
                        "type": "table"
                      }
                    ]
                  },
                  "layout": {
                    "annotationdefaults": {
                      "arrowcolor": "#2a3f5f",
                      "arrowhead": 0,
                      "arrowwidth": 1
                    },
                    "autotypenumbers": "strict",
                    "coloraxis": {
                      "colorbar": {
                        "outlinewidth": 0,
                        "ticks": ""
                      }
                    },
                    "colorscale": {
                      "diverging": [
                        [
                          0,
                          "#8e0152"
                        ],
                        [
                          0.1,
                          "#c51b7d"
                        ],
                        [
                          0.2,
                          "#de77ae"
                        ],
                        [
                          0.3,
                          "#f1b6da"
                        ],
                        [
                          0.4,
                          "#fde0ef"
                        ],
                        [
                          0.5,
                          "#f7f7f7"
                        ],
                        [
                          0.6,
                          "#e6f5d0"
                        ],
                        [
                          0.7,
                          "#b8e186"
                        ],
                        [
                          0.8,
                          "#7fbc41"
                        ],
                        [
                          0.9,
                          "#4d9221"
                        ],
                        [
                          1,
                          "#276419"
                        ]
                      ],
                      "sequential": [
                        [
                          0,
                          "#0d0887"
                        ],
                        [
                          0.1111111111111111,
                          "#46039f"
                        ],
                        [
                          0.2222222222222222,
                          "#7201a8"
                        ],
                        [
                          0.3333333333333333,
                          "#9c179e"
                        ],
                        [
                          0.4444444444444444,
                          "#bd3786"
                        ],
                        [
                          0.5555555555555556,
                          "#d8576b"
                        ],
                        [
                          0.6666666666666666,
                          "#ed7953"
                        ],
                        [
                          0.7777777777777778,
                          "#fb9f3a"
                        ],
                        [
                          0.8888888888888888,
                          "#fdca26"
                        ],
                        [
                          1,
                          "#f0f921"
                        ]
                      ],
                      "sequentialminus": [
                        [
                          0,
                          "#0d0887"
                        ],
                        [
                          0.1111111111111111,
                          "#46039f"
                        ],
                        [
                          0.2222222222222222,
                          "#7201a8"
                        ],
                        [
                          0.3333333333333333,
                          "#9c179e"
                        ],
                        [
                          0.4444444444444444,
                          "#bd3786"
                        ],
                        [
                          0.5555555555555556,
                          "#d8576b"
                        ],
                        [
                          0.6666666666666666,
                          "#ed7953"
                        ],
                        [
                          0.7777777777777778,
                          "#fb9f3a"
                        ],
                        [
                          0.8888888888888888,
                          "#fdca26"
                        ],
                        [
                          1,
                          "#f0f921"
                        ]
                      ]
                    },
                    "colorway": [
                      "#636efa",
                      "#EF553B",
                      "#00cc96",
                      "#ab63fa",
                      "#FFA15A",
                      "#19d3f3",
                      "#FF6692",
                      "#B6E880",
                      "#FF97FF",
                      "#FECB52"
                    ],
                    "font": {
                      "color": "#2a3f5f"
                    },
                    "geo": {
                      "bgcolor": "white",
                      "lakecolor": "white",
                      "landcolor": "white",
                      "showlakes": true,
                      "showland": true,
                      "subunitcolor": "#C8D4E3"
                    },
                    "hoverlabel": {
                      "align": "left"
                    },
                    "hovermode": "closest",
                    "mapbox": {
                      "style": "light"
                    },
                    "paper_bgcolor": "white",
                    "plot_bgcolor": "white",
                    "polar": {
                      "angularaxis": {
                        "gridcolor": "#EBF0F8",
                        "linecolor": "#EBF0F8",
                        "ticks": ""
                      },
                      "bgcolor": "white",
                      "radialaxis": {
                        "gridcolor": "#EBF0F8",
                        "linecolor": "#EBF0F8",
                        "ticks": ""
                      }
                    },
                    "scene": {
                      "xaxis": {
                        "backgroundcolor": "white",
                        "gridcolor": "#DFE8F3",
                        "gridwidth": 2,
                        "linecolor": "#EBF0F8",
                        "showbackground": true,
                        "ticks": "",
                        "zerolinecolor": "#EBF0F8"
                      },
                      "yaxis": {
                        "backgroundcolor": "white",
                        "gridcolor": "#DFE8F3",
                        "gridwidth": 2,
                        "linecolor": "#EBF0F8",
                        "showbackground": true,
                        "ticks": "",
                        "zerolinecolor": "#EBF0F8"
                      },
                      "zaxis": {
                        "backgroundcolor": "white",
                        "gridcolor": "#DFE8F3",
                        "gridwidth": 2,
                        "linecolor": "#EBF0F8",
                        "showbackground": true,
                        "ticks": "",
                        "zerolinecolor": "#EBF0F8"
                      }
                    },
                    "shapedefaults": {
                      "line": {
                        "color": "#2a3f5f"
                      }
                    },
                    "ternary": {
                      "aaxis": {
                        "gridcolor": "#DFE8F3",
                        "linecolor": "#A2B1C6",
                        "ticks": ""
                      },
                      "baxis": {
                        "gridcolor": "#DFE8F3",
                        "linecolor": "#A2B1C6",
                        "ticks": ""
                      },
                      "bgcolor": "white",
                      "caxis": {
                        "gridcolor": "#DFE8F3",
                        "linecolor": "#A2B1C6",
                        "ticks": ""
                      }
                    },
                    "title": {
                      "x": 0.05
                    },
                    "xaxis": {
                      "automargin": true,
                      "gridcolor": "#EBF0F8",
                      "linecolor": "#EBF0F8",
                      "ticks": "",
                      "title": {
                        "standoff": 15
                      },
                      "zerolinecolor": "#EBF0F8",
                      "zerolinewidth": 2
                    },
                    "yaxis": {
                      "automargin": true,
                      "gridcolor": "#EBF0F8",
                      "linecolor": "#EBF0F8",
                      "ticks": "",
                      "title": {
                        "standoff": 15
                      },
                      "zerolinecolor": "#EBF0F8",
                      "zerolinewidth": 2
                    }
                  }
                },
                "title": {
                  "text": "Courbes ROC"
                },
                "xaxis": {
                  "title": {
                    "text": "Taux de Faux Positifs"
                  }
                },
                "yaxis": {
                  "title": {
                    "text": "Taux de Vrais Positifs"
                  }
                }
              }
            }
          },
          "metadata": {},
          "output_type": "display_data"
        }
      ],
      "source": [
        "# On commence par créer un modèle naïf prédisant toujours une proabilité de 0%\n",
        "# d'appartenir à la classe 1. Autrement dit il prédit toujours la classe 0.\n",
        "ns_probs = [0 for _ in range(len(y_test))]\n",
        "\n",
        "# Calcul des scores AUC\n",
        "# Entre les données de tests et les probabilité de chaque modèle\n",
        "ns_auc = roc_auc_score(y_test, ns_probs)\n",
        "lr_auc_med = roc_auc_score(y_test, y_pred_med_probs)\n",
        "lr_auc_raw = roc_auc_score(y_test_raw, y_pred_raw_probs)\n",
        "\n",
        "print(f'Naïf: ROC AUC = {np.round(ns_auc,2)}')\n",
        "print(f'XGBoost | Médiane: ROC AUC = {np.round(lr_auc_med,2)}')\n",
        "print(f'XGBoost | Raw : ROC AUC = {np.round(lr_auc_raw,2)}')\n",
        "\n",
        "# Calcul des courbes ROC via les taux de faux positifs et de vrai positifs\n",
        "ns_fpr, ns_tpr, _ = roc_curve(y_test, ns_probs)\n",
        "lr_fpr_med, lr_tpr_med, _ = roc_curve(y_test, y_pred_med_probs)\n",
        "lr_fpr_raw, lr_tpr_raw, _ = roc_curve(y_test_raw, y_pred_raw_probs)\n",
        "\n",
        "fig = go.Figure()\n",
        "\n",
        "fig.add_trace(go.Scatter(x=ns_fpr, y=ns_tpr, mode='lines',\n",
        "                         name='Modèle Naïf',\n",
        "                         ))\n",
        "\n",
        "fig.add_trace(go.Scatter(x=lr_fpr_med, y=lr_tpr_med, mode='lines',\n",
        "                         name='XGBoost | Modèle Simple',\n",
        "                         ))\n",
        "\n",
        "fig.add_trace(go.Scatter(x=lr_fpr_raw, y=lr_tpr_raw, mode='lines',\n",
        "                         name='XGBoost | Modèle Brute',\n",
        "                         ))\n",
        "\n",
        "fig.update_layout(\n",
        "    title=\"Courbes ROC\",\n",
        "    xaxis_title=\"Taux de Faux Positifs\",\n",
        "    yaxis_title=\"Taux de Vrais Positifs\",\n",
        "    legend_title=\"Modèles\",\n",
        "    template=\"plotly_white\"\n",
        ")\n",
        "fig.show()"
      ]
    },
    {
      "cell_type": "markdown",
      "metadata": {
        "id": "X-7aMMeVlqLt"
      },
      "source": [
        "Premièrement on observe que les modèles XGBoost développés font mieux que le hasard. En effet, leurs AUC est > 0.5 et visuellement les courbes sont au-deçu de celle du modèle naïf.\n",
        "\n",
        "Deuxièmement, on s'apercoit que les différences entre le modèle sur les données brutes et sur les données issues de l'EDA ne sont pas très grandes indiquant que le modèle performe sensiblement aussi bien sur l'un que sur l'autre. Cela peut s'expliquer par le fait que XGBoost est un modèle préparé à travailler sur des données non optimisées et il gère ainsi bien les données manquantes et outliers par exemple.\n",
        "\n",
        "On effectue ensuite un Grid Search ainsi qu'une Cross Validation afin d'estimer de manière plus précise les performance de notre modèle sur différentes observations et dans le même temps de l'opitmiser."
      ]
    },
    {
      "cell_type": "code",
      "execution_count": 8,
      "metadata": {
        "colab": {
          "base_uri": "https://localhost:8080/",
          "height": 135
        },
        "id": "h4Eb2rAwGnJ5",
        "outputId": "11202fbc-926a-4ff9-d2c5-7ad278a14424"
      },
      "outputs": [
        {
          "name": "stderr",
          "output_type": "stream",
          "text": [
            "c:\\Users\\alexi\\Desktop\\Projet_Scoring_1\\.venv\\Lib\\site-packages\\numpy\\ma\\core.py:2820: RuntimeWarning:\n",
            "\n",
            "invalid value encountered in cast\n",
            "\n"
          ]
        },
        {
          "data": {
            "text/html": [
              "<style>#sk-container-id-1 {\n",
              "  /* Definition of color scheme common for light and dark mode */\n",
              "  --sklearn-color-text: black;\n",
              "  --sklearn-color-line: gray;\n",
              "  /* Definition of color scheme for unfitted estimators */\n",
              "  --sklearn-color-unfitted-level-0: #fff5e6;\n",
              "  --sklearn-color-unfitted-level-1: #f6e4d2;\n",
              "  --sklearn-color-unfitted-level-2: #ffe0b3;\n",
              "  --sklearn-color-unfitted-level-3: chocolate;\n",
              "  /* Definition of color scheme for fitted estimators */\n",
              "  --sklearn-color-fitted-level-0: #f0f8ff;\n",
              "  --sklearn-color-fitted-level-1: #d4ebff;\n",
              "  --sklearn-color-fitted-level-2: #b3dbfd;\n",
              "  --sklearn-color-fitted-level-3: cornflowerblue;\n",
              "\n",
              "  /* Specific color for light theme */\n",
              "  --sklearn-color-text-on-default-background: var(--sg-text-color, var(--theme-code-foreground, var(--jp-content-font-color1, black)));\n",
              "  --sklearn-color-background: var(--sg-background-color, var(--theme-background, var(--jp-layout-color0, white)));\n",
              "  --sklearn-color-border-box: var(--sg-text-color, var(--theme-code-foreground, var(--jp-content-font-color1, black)));\n",
              "  --sklearn-color-icon: #696969;\n",
              "\n",
              "  @media (prefers-color-scheme: dark) {\n",
              "    /* Redefinition of color scheme for dark theme */\n",
              "    --sklearn-color-text-on-default-background: var(--sg-text-color, var(--theme-code-foreground, var(--jp-content-font-color1, white)));\n",
              "    --sklearn-color-background: var(--sg-background-color, var(--theme-background, var(--jp-layout-color0, #111)));\n",
              "    --sklearn-color-border-box: var(--sg-text-color, var(--theme-code-foreground, var(--jp-content-font-color1, white)));\n",
              "    --sklearn-color-icon: #878787;\n",
              "  }\n",
              "}\n",
              "\n",
              "#sk-container-id-1 {\n",
              "  color: var(--sklearn-color-text);\n",
              "}\n",
              "\n",
              "#sk-container-id-1 pre {\n",
              "  padding: 0;\n",
              "}\n",
              "\n",
              "#sk-container-id-1 input.sk-hidden--visually {\n",
              "  border: 0;\n",
              "  clip: rect(1px 1px 1px 1px);\n",
              "  clip: rect(1px, 1px, 1px, 1px);\n",
              "  height: 1px;\n",
              "  margin: -1px;\n",
              "  overflow: hidden;\n",
              "  padding: 0;\n",
              "  position: absolute;\n",
              "  width: 1px;\n",
              "}\n",
              "\n",
              "#sk-container-id-1 div.sk-dashed-wrapped {\n",
              "  border: 1px dashed var(--sklearn-color-line);\n",
              "  margin: 0 0.4em 0.5em 0.4em;\n",
              "  box-sizing: border-box;\n",
              "  padding-bottom: 0.4em;\n",
              "  background-color: var(--sklearn-color-background);\n",
              "}\n",
              "\n",
              "#sk-container-id-1 div.sk-container {\n",
              "  /* jupyter's `normalize.less` sets `[hidden] { display: none; }`\n",
              "     but bootstrap.min.css set `[hidden] { display: none !important; }`\n",
              "     so we also need the `!important` here to be able to override the\n",
              "     default hidden behavior on the sphinx rendered scikit-learn.org.\n",
              "     See: https://github.com/scikit-learn/scikit-learn/issues/21755 */\n",
              "  display: inline-block !important;\n",
              "  position: relative;\n",
              "}\n",
              "\n",
              "#sk-container-id-1 div.sk-text-repr-fallback {\n",
              "  display: none;\n",
              "}\n",
              "\n",
              "div.sk-parallel-item,\n",
              "div.sk-serial,\n",
              "div.sk-item {\n",
              "  /* draw centered vertical line to link estimators */\n",
              "  background-image: linear-gradient(var(--sklearn-color-text-on-default-background), var(--sklearn-color-text-on-default-background));\n",
              "  background-size: 2px 100%;\n",
              "  background-repeat: no-repeat;\n",
              "  background-position: center center;\n",
              "}\n",
              "\n",
              "/* Parallel-specific style estimator block */\n",
              "\n",
              "#sk-container-id-1 div.sk-parallel-item::after {\n",
              "  content: \"\";\n",
              "  width: 100%;\n",
              "  border-bottom: 2px solid var(--sklearn-color-text-on-default-background);\n",
              "  flex-grow: 1;\n",
              "}\n",
              "\n",
              "#sk-container-id-1 div.sk-parallel {\n",
              "  display: flex;\n",
              "  align-items: stretch;\n",
              "  justify-content: center;\n",
              "  background-color: var(--sklearn-color-background);\n",
              "  position: relative;\n",
              "}\n",
              "\n",
              "#sk-container-id-1 div.sk-parallel-item {\n",
              "  display: flex;\n",
              "  flex-direction: column;\n",
              "}\n",
              "\n",
              "#sk-container-id-1 div.sk-parallel-item:first-child::after {\n",
              "  align-self: flex-end;\n",
              "  width: 50%;\n",
              "}\n",
              "\n",
              "#sk-container-id-1 div.sk-parallel-item:last-child::after {\n",
              "  align-self: flex-start;\n",
              "  width: 50%;\n",
              "}\n",
              "\n",
              "#sk-container-id-1 div.sk-parallel-item:only-child::after {\n",
              "  width: 0;\n",
              "}\n",
              "\n",
              "/* Serial-specific style estimator block */\n",
              "\n",
              "#sk-container-id-1 div.sk-serial {\n",
              "  display: flex;\n",
              "  flex-direction: column;\n",
              "  align-items: center;\n",
              "  background-color: var(--sklearn-color-background);\n",
              "  padding-right: 1em;\n",
              "  padding-left: 1em;\n",
              "}\n",
              "\n",
              "\n",
              "/* Toggleable style: style used for estimator/Pipeline/ColumnTransformer box that is\n",
              "clickable and can be expanded/collapsed.\n",
              "- Pipeline and ColumnTransformer use this feature and define the default style\n",
              "- Estimators will overwrite some part of the style using the `sk-estimator` class\n",
              "*/\n",
              "\n",
              "/* Pipeline and ColumnTransformer style (default) */\n",
              "\n",
              "#sk-container-id-1 div.sk-toggleable {\n",
              "  /* Default theme specific background. It is overwritten whether we have a\n",
              "  specific estimator or a Pipeline/ColumnTransformer */\n",
              "  background-color: var(--sklearn-color-background);\n",
              "}\n",
              "\n",
              "/* Toggleable label */\n",
              "#sk-container-id-1 label.sk-toggleable__label {\n",
              "  cursor: pointer;\n",
              "  display: block;\n",
              "  width: 100%;\n",
              "  margin-bottom: 0;\n",
              "  padding: 0.5em;\n",
              "  box-sizing: border-box;\n",
              "  text-align: center;\n",
              "}\n",
              "\n",
              "#sk-container-id-1 label.sk-toggleable__label-arrow:before {\n",
              "  /* Arrow on the left of the label */\n",
              "  content: \"▸\";\n",
              "  float: left;\n",
              "  margin-right: 0.25em;\n",
              "  color: var(--sklearn-color-icon);\n",
              "}\n",
              "\n",
              "#sk-container-id-1 label.sk-toggleable__label-arrow:hover:before {\n",
              "  color: var(--sklearn-color-text);\n",
              "}\n",
              "\n",
              "/* Toggleable content - dropdown */\n",
              "\n",
              "#sk-container-id-1 div.sk-toggleable__content {\n",
              "  max-height: 0;\n",
              "  max-width: 0;\n",
              "  overflow: hidden;\n",
              "  text-align: left;\n",
              "  /* unfitted */\n",
              "  background-color: var(--sklearn-color-unfitted-level-0);\n",
              "}\n",
              "\n",
              "#sk-container-id-1 div.sk-toggleable__content.fitted {\n",
              "  /* fitted */\n",
              "  background-color: var(--sklearn-color-fitted-level-0);\n",
              "}\n",
              "\n",
              "#sk-container-id-1 div.sk-toggleable__content pre {\n",
              "  margin: 0.2em;\n",
              "  border-radius: 0.25em;\n",
              "  color: var(--sklearn-color-text);\n",
              "  /* unfitted */\n",
              "  background-color: var(--sklearn-color-unfitted-level-0);\n",
              "}\n",
              "\n",
              "#sk-container-id-1 div.sk-toggleable__content.fitted pre {\n",
              "  /* unfitted */\n",
              "  background-color: var(--sklearn-color-fitted-level-0);\n",
              "}\n",
              "\n",
              "#sk-container-id-1 input.sk-toggleable__control:checked~div.sk-toggleable__content {\n",
              "  /* Expand drop-down */\n",
              "  max-height: 200px;\n",
              "  max-width: 100%;\n",
              "  overflow: auto;\n",
              "}\n",
              "\n",
              "#sk-container-id-1 input.sk-toggleable__control:checked~label.sk-toggleable__label-arrow:before {\n",
              "  content: \"▾\";\n",
              "}\n",
              "\n",
              "/* Pipeline/ColumnTransformer-specific style */\n",
              "\n",
              "#sk-container-id-1 div.sk-label input.sk-toggleable__control:checked~label.sk-toggleable__label {\n",
              "  color: var(--sklearn-color-text);\n",
              "  background-color: var(--sklearn-color-unfitted-level-2);\n",
              "}\n",
              "\n",
              "#sk-container-id-1 div.sk-label.fitted input.sk-toggleable__control:checked~label.sk-toggleable__label {\n",
              "  background-color: var(--sklearn-color-fitted-level-2);\n",
              "}\n",
              "\n",
              "/* Estimator-specific style */\n",
              "\n",
              "/* Colorize estimator box */\n",
              "#sk-container-id-1 div.sk-estimator input.sk-toggleable__control:checked~label.sk-toggleable__label {\n",
              "  /* unfitted */\n",
              "  background-color: var(--sklearn-color-unfitted-level-2);\n",
              "}\n",
              "\n",
              "#sk-container-id-1 div.sk-estimator.fitted input.sk-toggleable__control:checked~label.sk-toggleable__label {\n",
              "  /* fitted */\n",
              "  background-color: var(--sklearn-color-fitted-level-2);\n",
              "}\n",
              "\n",
              "#sk-container-id-1 div.sk-label label.sk-toggleable__label,\n",
              "#sk-container-id-1 div.sk-label label {\n",
              "  /* The background is the default theme color */\n",
              "  color: var(--sklearn-color-text-on-default-background);\n",
              "}\n",
              "\n",
              "/* On hover, darken the color of the background */\n",
              "#sk-container-id-1 div.sk-label:hover label.sk-toggleable__label {\n",
              "  color: var(--sklearn-color-text);\n",
              "  background-color: var(--sklearn-color-unfitted-level-2);\n",
              "}\n",
              "\n",
              "/* Label box, darken color on hover, fitted */\n",
              "#sk-container-id-1 div.sk-label.fitted:hover label.sk-toggleable__label.fitted {\n",
              "  color: var(--sklearn-color-text);\n",
              "  background-color: var(--sklearn-color-fitted-level-2);\n",
              "}\n",
              "\n",
              "/* Estimator label */\n",
              "\n",
              "#sk-container-id-1 div.sk-label label {\n",
              "  font-family: monospace;\n",
              "  font-weight: bold;\n",
              "  display: inline-block;\n",
              "  line-height: 1.2em;\n",
              "}\n",
              "\n",
              "#sk-container-id-1 div.sk-label-container {\n",
              "  text-align: center;\n",
              "}\n",
              "\n",
              "/* Estimator-specific */\n",
              "#sk-container-id-1 div.sk-estimator {\n",
              "  font-family: monospace;\n",
              "  border: 1px dotted var(--sklearn-color-border-box);\n",
              "  border-radius: 0.25em;\n",
              "  box-sizing: border-box;\n",
              "  margin-bottom: 0.5em;\n",
              "  /* unfitted */\n",
              "  background-color: var(--sklearn-color-unfitted-level-0);\n",
              "}\n",
              "\n",
              "#sk-container-id-1 div.sk-estimator.fitted {\n",
              "  /* fitted */\n",
              "  background-color: var(--sklearn-color-fitted-level-0);\n",
              "}\n",
              "\n",
              "/* on hover */\n",
              "#sk-container-id-1 div.sk-estimator:hover {\n",
              "  /* unfitted */\n",
              "  background-color: var(--sklearn-color-unfitted-level-2);\n",
              "}\n",
              "\n",
              "#sk-container-id-1 div.sk-estimator.fitted:hover {\n",
              "  /* fitted */\n",
              "  background-color: var(--sklearn-color-fitted-level-2);\n",
              "}\n",
              "\n",
              "/* Specification for estimator info (e.g. \"i\" and \"?\") */\n",
              "\n",
              "/* Common style for \"i\" and \"?\" */\n",
              "\n",
              ".sk-estimator-doc-link,\n",
              "a:link.sk-estimator-doc-link,\n",
              "a:visited.sk-estimator-doc-link {\n",
              "  float: right;\n",
              "  font-size: smaller;\n",
              "  line-height: 1em;\n",
              "  font-family: monospace;\n",
              "  background-color: var(--sklearn-color-background);\n",
              "  border-radius: 1em;\n",
              "  height: 1em;\n",
              "  width: 1em;\n",
              "  text-decoration: none !important;\n",
              "  margin-left: 1ex;\n",
              "  /* unfitted */\n",
              "  border: var(--sklearn-color-unfitted-level-1) 1pt solid;\n",
              "  color: var(--sklearn-color-unfitted-level-1);\n",
              "}\n",
              "\n",
              ".sk-estimator-doc-link.fitted,\n",
              "a:link.sk-estimator-doc-link.fitted,\n",
              "a:visited.sk-estimator-doc-link.fitted {\n",
              "  /* fitted */\n",
              "  border: var(--sklearn-color-fitted-level-1) 1pt solid;\n",
              "  color: var(--sklearn-color-fitted-level-1);\n",
              "}\n",
              "\n",
              "/* On hover */\n",
              "div.sk-estimator:hover .sk-estimator-doc-link:hover,\n",
              ".sk-estimator-doc-link:hover,\n",
              "div.sk-label-container:hover .sk-estimator-doc-link:hover,\n",
              ".sk-estimator-doc-link:hover {\n",
              "  /* unfitted */\n",
              "  background-color: var(--sklearn-color-unfitted-level-3);\n",
              "  color: var(--sklearn-color-background);\n",
              "  text-decoration: none;\n",
              "}\n",
              "\n",
              "div.sk-estimator.fitted:hover .sk-estimator-doc-link.fitted:hover,\n",
              ".sk-estimator-doc-link.fitted:hover,\n",
              "div.sk-label-container:hover .sk-estimator-doc-link.fitted:hover,\n",
              ".sk-estimator-doc-link.fitted:hover {\n",
              "  /* fitted */\n",
              "  background-color: var(--sklearn-color-fitted-level-3);\n",
              "  color: var(--sklearn-color-background);\n",
              "  text-decoration: none;\n",
              "}\n",
              "\n",
              "/* Span, style for the box shown on hovering the info icon */\n",
              ".sk-estimator-doc-link span {\n",
              "  display: none;\n",
              "  z-index: 9999;\n",
              "  position: relative;\n",
              "  font-weight: normal;\n",
              "  right: .2ex;\n",
              "  padding: .5ex;\n",
              "  margin: .5ex;\n",
              "  width: min-content;\n",
              "  min-width: 20ex;\n",
              "  max-width: 50ex;\n",
              "  color: var(--sklearn-color-text);\n",
              "  box-shadow: 2pt 2pt 4pt #999;\n",
              "  /* unfitted */\n",
              "  background: var(--sklearn-color-unfitted-level-0);\n",
              "  border: .5pt solid var(--sklearn-color-unfitted-level-3);\n",
              "}\n",
              "\n",
              ".sk-estimator-doc-link.fitted span {\n",
              "  /* fitted */\n",
              "  background: var(--sklearn-color-fitted-level-0);\n",
              "  border: var(--sklearn-color-fitted-level-3);\n",
              "}\n",
              "\n",
              ".sk-estimator-doc-link:hover span {\n",
              "  display: block;\n",
              "}\n",
              "\n",
              "/* \"?\"-specific style due to the `<a>` HTML tag */\n",
              "\n",
              "#sk-container-id-1 a.estimator_doc_link {\n",
              "  float: right;\n",
              "  font-size: 1rem;\n",
              "  line-height: 1em;\n",
              "  font-family: monospace;\n",
              "  background-color: var(--sklearn-color-background);\n",
              "  border-radius: 1rem;\n",
              "  height: 1rem;\n",
              "  width: 1rem;\n",
              "  text-decoration: none;\n",
              "  /* unfitted */\n",
              "  color: var(--sklearn-color-unfitted-level-1);\n",
              "  border: var(--sklearn-color-unfitted-level-1) 1pt solid;\n",
              "}\n",
              "\n",
              "#sk-container-id-1 a.estimator_doc_link.fitted {\n",
              "  /* fitted */\n",
              "  border: var(--sklearn-color-fitted-level-1) 1pt solid;\n",
              "  color: var(--sklearn-color-fitted-level-1);\n",
              "}\n",
              "\n",
              "/* On hover */\n",
              "#sk-container-id-1 a.estimator_doc_link:hover {\n",
              "  /* unfitted */\n",
              "  background-color: var(--sklearn-color-unfitted-level-3);\n",
              "  color: var(--sklearn-color-background);\n",
              "  text-decoration: none;\n",
              "}\n",
              "\n",
              "#sk-container-id-1 a.estimator_doc_link.fitted:hover {\n",
              "  /* fitted */\n",
              "  background-color: var(--sklearn-color-fitted-level-3);\n",
              "}\n",
              "</style><div id=\"sk-container-id-1\" class=\"sk-top-container\"><div class=\"sk-text-repr-fallback\"><pre>GridSearchCV(cv=StratifiedKFold(n_splits=4, random_state=None, shuffle=False),\n",
              "             estimator=XGBClassifier(base_score=None, booster=None,\n",
              "                                     callbacks=None, colsample_bylevel=None,\n",
              "                                     colsample_bynode=None,\n",
              "                                     colsample_bytree=None, device=None,\n",
              "                                     early_stopping_rounds=None,\n",
              "                                     enable_categorical=False, eval_metric=None,\n",
              "                                     feature_types=None, gamma=None,\n",
              "                                     grow_policy=None, importance_...\n",
              "                                     max_leaves=None, min_child_weight=None,\n",
              "                                     missing=nan, monotone_constraints=None,\n",
              "                                     multi_strategy=None, n_estimators=None,\n",
              "                                     n_jobs=None, num_parallel_tree=None,\n",
              "                                     random_state=None, ...),\n",
              "             param_grid={&#x27;colsample_bytree&#x27;: [0.7, 0.8], &#x27;gamma&#x27;: [0, 0.01],\n",
              "                         &#x27;learning_rate&#x27;: [0.01, 0.05], &#x27;max_depth&#x27;: [6, 7],\n",
              "                         &#x27;min_child_weight&#x27;: [1, 2], &#x27;n_estimators&#x27;: [400, 600],\n",
              "                         &#x27;subsample&#x27;: [0.6, 0.7]},\n",
              "             scoring=&#x27;roc_auc&#x27;)</pre><b>In a Jupyter environment, please rerun this cell to show the HTML representation or trust the notebook. <br />On GitHub, the HTML representation is unable to render, please try loading this page with nbviewer.org.</b></div><div class=\"sk-container\" hidden><div class=\"sk-item sk-dashed-wrapped\"><div class=\"sk-label-container\"><div class=\"sk-label fitted sk-toggleable\"><input class=\"sk-toggleable__control sk-hidden--visually\" id=\"sk-estimator-id-1\" type=\"checkbox\" ><label for=\"sk-estimator-id-1\" class=\"sk-toggleable__label fitted sk-toggleable__label-arrow fitted\">&nbsp;&nbsp;GridSearchCV<a class=\"sk-estimator-doc-link fitted\" rel=\"noreferrer\" target=\"_blank\" href=\"https://scikit-learn.org/1.5/modules/generated/sklearn.model_selection.GridSearchCV.html\">?<span>Documentation for GridSearchCV</span></a><span class=\"sk-estimator-doc-link fitted\">i<span>Fitted</span></span></label><div class=\"sk-toggleable__content fitted\"><pre>GridSearchCV(cv=StratifiedKFold(n_splits=4, random_state=None, shuffle=False),\n",
              "             estimator=XGBClassifier(base_score=None, booster=None,\n",
              "                                     callbacks=None, colsample_bylevel=None,\n",
              "                                     colsample_bynode=None,\n",
              "                                     colsample_bytree=None, device=None,\n",
              "                                     early_stopping_rounds=None,\n",
              "                                     enable_categorical=False, eval_metric=None,\n",
              "                                     feature_types=None, gamma=None,\n",
              "                                     grow_policy=None, importance_...\n",
              "                                     max_leaves=None, min_child_weight=None,\n",
              "                                     missing=nan, monotone_constraints=None,\n",
              "                                     multi_strategy=None, n_estimators=None,\n",
              "                                     n_jobs=None, num_parallel_tree=None,\n",
              "                                     random_state=None, ...),\n",
              "             param_grid={&#x27;colsample_bytree&#x27;: [0.7, 0.8], &#x27;gamma&#x27;: [0, 0.01],\n",
              "                         &#x27;learning_rate&#x27;: [0.01, 0.05], &#x27;max_depth&#x27;: [6, 7],\n",
              "                         &#x27;min_child_weight&#x27;: [1, 2], &#x27;n_estimators&#x27;: [400, 600],\n",
              "                         &#x27;subsample&#x27;: [0.6, 0.7]},\n",
              "             scoring=&#x27;roc_auc&#x27;)</pre></div> </div></div><div class=\"sk-parallel\"><div class=\"sk-parallel-item\"><div class=\"sk-item\"><div class=\"sk-label-container\"><div class=\"sk-label fitted sk-toggleable\"><input class=\"sk-toggleable__control sk-hidden--visually\" id=\"sk-estimator-id-2\" type=\"checkbox\" ><label for=\"sk-estimator-id-2\" class=\"sk-toggleable__label fitted sk-toggleable__label-arrow fitted\">best_estimator_: XGBClassifier</label><div class=\"sk-toggleable__content fitted\"><pre>XGBClassifier(base_score=None, booster=None, callbacks=None,\n",
              "              colsample_bylevel=None, colsample_bynode=None,\n",
              "              colsample_bytree=0.7, device=None, early_stopping_rounds=None,\n",
              "              enable_categorical=False, eval_metric=None, feature_types=None,\n",
              "              gamma=0, grow_policy=None, importance_type=None,\n",
              "              interaction_constraints=None, learning_rate=0.05, max_bin=None,\n",
              "              max_cat_threshold=None, max_cat_to_onehot=None,\n",
              "              max_delta_step=None, max_depth=7, max_leaves=None,\n",
              "              min_child_weight=1, missing=nan, monotone_constraints=None,\n",
              "              multi_strategy=None, n_estimators=600, n_jobs=None,\n",
              "              num_parallel_tree=None, random_state=None, ...)</pre></div> </div></div><div class=\"sk-serial\"><div class=\"sk-item\"><div class=\"sk-estimator fitted sk-toggleable\"><input class=\"sk-toggleable__control sk-hidden--visually\" id=\"sk-estimator-id-3\" type=\"checkbox\" ><label for=\"sk-estimator-id-3\" class=\"sk-toggleable__label fitted sk-toggleable__label-arrow fitted\">XGBClassifier</label><div class=\"sk-toggleable__content fitted\"><pre>XGBClassifier(base_score=None, booster=None, callbacks=None,\n",
              "              colsample_bylevel=None, colsample_bynode=None,\n",
              "              colsample_bytree=0.7, device=None, early_stopping_rounds=None,\n",
              "              enable_categorical=False, eval_metric=None, feature_types=None,\n",
              "              gamma=0, grow_policy=None, importance_type=None,\n",
              "              interaction_constraints=None, learning_rate=0.05, max_bin=None,\n",
              "              max_cat_threshold=None, max_cat_to_onehot=None,\n",
              "              max_delta_step=None, max_depth=7, max_leaves=None,\n",
              "              min_child_weight=1, missing=nan, monotone_constraints=None,\n",
              "              multi_strategy=None, n_estimators=600, n_jobs=None,\n",
              "              num_parallel_tree=None, random_state=None, ...)</pre></div> </div></div></div></div></div></div></div></div></div>"
            ],
            "text/plain": [
              "GridSearchCV(cv=StratifiedKFold(n_splits=4, random_state=None, shuffle=False),\n",
              "             estimator=XGBClassifier(base_score=None, booster=None,\n",
              "                                     callbacks=None, colsample_bylevel=None,\n",
              "                                     colsample_bynode=None,\n",
              "                                     colsample_bytree=None, device=None,\n",
              "                                     early_stopping_rounds=None,\n",
              "                                     enable_categorical=False, eval_metric=None,\n",
              "                                     feature_types=None, gamma=None,\n",
              "                                     grow_policy=None, importance_...\n",
              "                                     max_leaves=None, min_child_weight=None,\n",
              "                                     missing=nan, monotone_constraints=None,\n",
              "                                     multi_strategy=None, n_estimators=None,\n",
              "                                     n_jobs=None, num_parallel_tree=None,\n",
              "                                     random_state=None, ...),\n",
              "             param_grid={'colsample_bytree': [0.7, 0.8], 'gamma': [0, 0.01],\n",
              "                         'learning_rate': [0.01, 0.05], 'max_depth': [6, 7],\n",
              "                         'min_child_weight': [1, 2], 'n_estimators': [400, 600],\n",
              "                         'subsample': [0.6, 0.7]},\n",
              "             scoring='roc_auc')"
            ]
          },
          "execution_count": 8,
          "metadata": {},
          "output_type": "execute_result"
        }
      ],
      "source": [
        "# Sélection des hyper-paramètres du Grid Search\n",
        "params_grid = {\n",
        "    'learning_rate': [0.01, 0.05],\n",
        "    'gamma':[0, 0.01],\n",
        "    'max_depth': [6, 7],\n",
        "    'min_child_weight': [1, 2],\n",
        "    'subsample': [0.6, 0.7,],\n",
        "    'n_estimators': [400, 600],\n",
        "    'colsample_bytree':[0.7, 0.8],\n",
        "}\n",
        "\n",
        "stratified_kfold = StratifiedKFold(n_splits=4)\n",
        "\n",
        "classifier = XGBClassifier()\n",
        "\n",
        "grid_classifier = GridSearchCV(\n",
        "    estimator=classifier,\n",
        "    param_grid=params_grid,\n",
        "    scoring='roc_auc',\n",
        "    cv=stratified_kfold # Utilisation du Stratified K-Fold comme méthode de Cross Validation\n",
        "    # Afin de s'assurer que chaque segment créée dispose bien des mêmes proportions de\n",
        "    # la variable cible.\n",
        ")\n",
        "grid_classifier.fit(x_train_med, y_train)"
      ]
    },
    {
      "cell_type": "code",
      "execution_count": 9,
      "metadata": {
        "colab": {
          "base_uri": "https://localhost:8080/"
        },
        "id": "z1BOwnDxGnMB",
        "outputId": "b4d6ebdc-0e2e-470a-9dc7-1fa50b40fa77"
      },
      "outputs": [
        {
          "data": {
            "text/plain": [
              "{'colsample_bytree': 0.7,\n",
              " 'gamma': 0,\n",
              " 'learning_rate': 0.05,\n",
              " 'max_depth': 7,\n",
              " 'min_child_weight': 1,\n",
              " 'n_estimators': 600,\n",
              " 'subsample': 0.7}"
            ]
          },
          "execution_count": 9,
          "metadata": {},
          "output_type": "execute_result"
        }
      ],
      "source": [
        "# On récupère les meilleurs hyper-paramètres du modèle\n",
        "best_parameters = grid_classifier.best_params_\n",
        "best_parameters"
      ]
    },
    {
      "cell_type": "markdown",
      "metadata": {},
      "source": [
        "<span style=\"font-size: 24px; color: darkred; text-decoration: underline;\"><strong>Courbes ROC du modèle avant et après optimisation</strong></span>"
      ]
    },
    {
      "cell_type": "code",
      "execution_count": 10,
      "metadata": {
        "colab": {
          "base_uri": "https://localhost:8080/"
        },
        "id": "qAr_6umVGnNr",
        "outputId": "48970e7a-3221-49c9-f4e5-41b7a254fbd8"
      },
      "outputs": [
        {
          "name": "stdout",
          "output_type": "stream",
          "text": [
            "Naïf: ROC AUC = 0.5\n",
            "XGBoost | Données Brutes: ROC AUC = 0.89\n",
            "XGBoost | Avant GridSearch: ROC AUC = 0.88\n",
            "XGBoost | Après GridSearch: ROC AUC = 0.96\n"
          ]
        },
        {
          "data": {
            "application/vnd.plotly.v1+json": {
              "config": {
                "plotlyServerURL": "https://plot.ly"
              },
              "data": [
                {
                  "mode": "lines",
                  "name": "No Skill",
                  "type": "scatter",
                  "x": [
                    0,
                    1
                  ],
                  "y": [
                    0,
                    1
                  ]
                },
                {
                  "mode": "lines",
                  "name": "XGBoost | Après GridSearch",
                  "type": "scatter",
                  "x": [
                    0,
                    0,
                    0,
                    0.0006988120195667365,
                    0.0006988120195667365,
                    0.001397624039133473,
                    0.001397624039133473,
                    0.0020964360587002098,
                    0.0020964360587002098,
                    0.002795248078266946,
                    0.002795248078266946,
                    0.0034940600978336828,
                    0.0034940600978336828,
                    0.004891684136967156,
                    0.004891684136967156,
                    0.005590496156533892,
                    0.005590496156533892,
                    0.006289308176100629,
                    0.006289308176100629,
                    0.0069881201956673656,
                    0.0069881201956673656,
                    0.007686932215234102,
                    0.007686932215234102,
                    0.008385744234800839,
                    0.008385744234800839,
                    0.009084556254367574,
                    0.009084556254367574,
                    0.009783368273934312,
                    0.009783368273934312,
                    0.010482180293501049,
                    0.010482180293501049,
                    0.011180992313067784,
                    0.011180992313067784,
                    0.012578616352201259,
                    0.012578616352201259,
                    0.015373864430468204,
                    0.015373864430468204,
                    0.01607267645003494,
                    0.01607267645003494,
                    0.01816911250873515,
                    0.01816911250873515,
                    0.018867924528301886,
                    0.018867924528301886,
                    0.019566736547868623,
                    0.019566736547868623,
                    0.02026554856743536,
                    0.02026554856743536,
                    0.02166317260656883,
                    0.02166317260656883,
                    0.02236198462613557,
                    0.02236198462613557,
                    0.023060796645702306,
                    0.023060796645702306,
                    0.023759608665269043,
                    0.023759608665269043,
                    0.025157232704402517,
                    0.025157232704402517,
                    0.026554856743535988,
                    0.026554856743535988,
                    0.027253668763102725,
                    0.027253668763102725,
                    0.027952480782669462,
                    0.027952480782669462,
                    0.0286512928022362,
                    0.0286512928022362,
                    0.029350104821802937,
                    0.029350104821802937,
                    0.03004891684136967,
                    0.03004891684136967,
                    0.030747728860936407,
                    0.030747728860936407,
                    0.031446540880503145,
                    0.031446540880503145,
                    0.03284416491963662,
                    0.03284416491963662,
                    0.033542976939203356,
                    0.033542976939203356,
                    0.03424178895877009,
                    0.03424178895877009,
                    0.03494060097833683,
                    0.03494060097833683,
                    0.03563941299790356,
                    0.03563941299790356,
                    0.037037037037037035,
                    0.037037037037037035,
                    0.03773584905660377,
                    0.03773584905660377,
                    0.039832285115303984,
                    0.039832285115303984,
                    0.04053109713487072,
                    0.04053109713487072,
                    0.04122990915443746,
                    0.04122990915443746,
                    0.041928721174004195,
                    0.041928721174004195,
                    0.0440251572327044,
                    0.0440251572327044,
                    0.04472396925227114,
                    0.04472396925227114,
                    0.045422781271837874,
                    0.045422781271837874,
                    0.04682040531097135,
                    0.04682040531097135,
                    0.04821802935010482,
                    0.04821802935010482,
                    0.050314465408805034,
                    0.050314465408805034,
                    0.05241090146750524,
                    0.05241090146750524,
                    0.05450733752620545,
                    0.05450733752620545,
                    0.05660377358490566,
                    0.05660377358490566,
                    0.058001397624039136,
                    0.058001397624039136,
                    0.05870020964360587,
                    0.05870020964360587,
                    0.06009783368273934,
                    0.06009783368273934,
                    0.06289308176100629,
                    0.06289308176100629,
                    0.06359189378057302,
                    0.06359189378057302,
                    0.0649895178197065,
                    0.0649895178197065,
                    0.06988120195667366,
                    0.06988120195667366,
                    0.07337526205450734,
                    0.07337526205450734,
                    0.07407407407407407,
                    0.07407407407407407,
                    0.07826694619147449,
                    0.07826694619147449,
                    0.07896575821104122,
                    0.07896575821104122,
                    0.08315863032844165,
                    0.08315863032844165,
                    0.08455625436757512,
                    0.08455625436757512,
                    0.08525506638714186,
                    0.08525506638714186,
                    0.09154437456324249,
                    0.09154437456324249,
                    0.10062893081761007,
                    0.10062893081761007,
                    0.10412299091544375,
                    0.10412299091544375,
                    0.10761705101327743,
                    0.10761705101327743,
                    0.11530398322851153,
                    0.11530398322851153,
                    0.11600279524807827,
                    0.11600279524807827,
                    0.11740041928721175,
                    0.11740041928721175,
                    0.12089447938504543,
                    0.12089447938504543,
                    0.1222921034241789,
                    0.1222921034241789,
                    0.12508735150244585,
                    0.12508735150244585,
                    0.13137665967854648,
                    0.13137665967854648,
                    0.13487071977638015,
                    0.13487071977638015,
                    0.14046121593291405,
                    0.14046121593291405,
                    0.143256464011181,
                    0.143256464011181,
                    0.14605171208944795,
                    0.14605171208944795,
                    0.16701607267645002,
                    0.16701607267645002,
                    0.17120894479385046,
                    0.17120894479385046,
                    0.17470300489168414,
                    0.17470300489168414,
                    0.18588399720475193,
                    0.18588399720475193,
                    0.18798043326345212,
                    0.18798043326345212,
                    0.19007686932215234,
                    0.19007686932215234,
                    0.2103424178895877,
                    0.2103424178895877,
                    0.22711390635918938,
                    0.22711390635918938,
                    0.2445842068483578,
                    0.2445842068483578,
                    0.2613556953179595,
                    0.2613556953179595,
                    0.27253668763102723,
                    0.27253668763102723,
                    0.27952480782669464,
                    0.27952480782669464,
                    0.30328441649196364,
                    0.30328441649196364,
                    0.31865828092243187,
                    0.31865828092243187,
                    0.3284416491963662,
                    0.3284416491963662,
                    0.33962264150943394,
                    0.33962264150943394,
                    0.36547868623340324,
                    0.36547868623340324,
                    0.376659678546471,
                    0.376659678546471,
                    0.47099930118798045,
                    0.47099930118798045,
                    0.5108315863032844,
                    0.5108315863032844,
                    0.517120894479385,
                    0.517120894479385,
                    0.5681341719077568,
                    0.5681341719077568,
                    0.7099930118798043,
                    0.7099930118798043,
                    0.7295597484276729,
                    0.7295597484276729,
                    0.9182389937106918,
                    0.9182389937106918,
                    1
                  ],
                  "y": [
                    0,
                    0.0028011204481792717,
                    0.24649859943977592,
                    0.24649859943977592,
                    0.2605042016806723,
                    0.2605042016806723,
                    0.33053221288515405,
                    0.33053221288515405,
                    0.39215686274509803,
                    0.39215686274509803,
                    0.40336134453781514,
                    0.40336134453781514,
                    0.4257703081232493,
                    0.4257703081232493,
                    0.42857142857142855,
                    0.42857142857142855,
                    0.453781512605042,
                    0.453781512605042,
                    0.49859943977591037,
                    0.49859943977591037,
                    0.5014005602240896,
                    0.5014005602240896,
                    0.5294117647058824,
                    0.5294117647058824,
                    0.5434173669467787,
                    0.5434173669467787,
                    0.5490196078431373,
                    0.5490196078431373,
                    0.5546218487394958,
                    0.5546218487394958,
                    0.5770308123249299,
                    0.5770308123249299,
                    0.5798319327731093,
                    0.5798319327731093,
                    0.5882352941176471,
                    0.5882352941176471,
                    0.5938375350140056,
                    0.5938375350140056,
                    0.5994397759103641,
                    0.5994397759103641,
                    0.6078431372549019,
                    0.6078431372549019,
                    0.6218487394957983,
                    0.6218487394957983,
                    0.6274509803921569,
                    0.6274509803921569,
                    0.6330532212885154,
                    0.6330532212885154,
                    0.6358543417366946,
                    0.6358543417366946,
                    0.6470588235294118,
                    0.6470588235294118,
                    0.6526610644257703,
                    0.6526610644257703,
                    0.6554621848739496,
                    0.6554621848739496,
                    0.6666666666666666,
                    0.6666666666666666,
                    0.6722689075630253,
                    0.6722689075630253,
                    0.6946778711484594,
                    0.6946778711484594,
                    0.6974789915966386,
                    0.6974789915966386,
                    0.711484593837535,
                    0.711484593837535,
                    0.7142857142857143,
                    0.7142857142857143,
                    0.7170868347338936,
                    0.7170868347338936,
                    0.7254901960784313,
                    0.7254901960784313,
                    0.7310924369747899,
                    0.7310924369747899,
                    0.7338935574229691,
                    0.7338935574229691,
                    0.7366946778711485,
                    0.7366946778711485,
                    0.7394957983193278,
                    0.7394957983193278,
                    0.742296918767507,
                    0.742296918767507,
                    0.7478991596638656,
                    0.7478991596638656,
                    0.7507002801120448,
                    0.7507002801120448,
                    0.7591036414565826,
                    0.7591036414565826,
                    0.7619047619047619,
                    0.7619047619047619,
                    0.7647058823529411,
                    0.7647058823529411,
                    0.7675070028011205,
                    0.7675070028011205,
                    0.773109243697479,
                    0.773109243697479,
                    0.7787114845938375,
                    0.7787114845938375,
                    0.7899159663865546,
                    0.7899159663865546,
                    0.7955182072829131,
                    0.7955182072829131,
                    0.7983193277310925,
                    0.7983193277310925,
                    0.803921568627451,
                    0.803921568627451,
                    0.8095238095238095,
                    0.8095238095238095,
                    0.8207282913165266,
                    0.8207282913165266,
                    0.8263305322128851,
                    0.8263305322128851,
                    0.8291316526610645,
                    0.8291316526610645,
                    0.8319327731092437,
                    0.8319327731092437,
                    0.834733893557423,
                    0.834733893557423,
                    0.8403361344537815,
                    0.8403361344537815,
                    0.84593837535014,
                    0.84593837535014,
                    0.8487394957983193,
                    0.8487394957983193,
                    0.8543417366946778,
                    0.8543417366946778,
                    0.8599439775910365,
                    0.8599439775910365,
                    0.8627450980392157,
                    0.8627450980392157,
                    0.865546218487395,
                    0.865546218487395,
                    0.8739495798319328,
                    0.8739495798319328,
                    0.876750700280112,
                    0.876750700280112,
                    0.8795518207282913,
                    0.8795518207282913,
                    0.8823529411764706,
                    0.8823529411764706,
                    0.8851540616246498,
                    0.8851540616246498,
                    0.8907563025210085,
                    0.8907563025210085,
                    0.8935574229691877,
                    0.8935574229691877,
                    0.896358543417367,
                    0.896358543417367,
                    0.8991596638655462,
                    0.8991596638655462,
                    0.9019607843137255,
                    0.9019607843137255,
                    0.9047619047619048,
                    0.9047619047619048,
                    0.907563025210084,
                    0.907563025210084,
                    0.9103641456582633,
                    0.9103641456582633,
                    0.9131652661064426,
                    0.9131652661064426,
                    0.9159663865546218,
                    0.9159663865546218,
                    0.9187675070028011,
                    0.9187675070028011,
                    0.9215686274509803,
                    0.9215686274509803,
                    0.9243697478991597,
                    0.9243697478991597,
                    0.927170868347339,
                    0.927170868347339,
                    0.9299719887955182,
                    0.9299719887955182,
                    0.9327731092436975,
                    0.9327731092436975,
                    0.9355742296918768,
                    0.9355742296918768,
                    0.938375350140056,
                    0.938375350140056,
                    0.9411764705882353,
                    0.9411764705882353,
                    0.9439775910364145,
                    0.9439775910364145,
                    0.9467787114845938,
                    0.9467787114845938,
                    0.9495798319327731,
                    0.9495798319327731,
                    0.9523809523809523,
                    0.9523809523809523,
                    0.9551820728291317,
                    0.9551820728291317,
                    0.957983193277311,
                    0.957983193277311,
                    0.9607843137254902,
                    0.9607843137254902,
                    0.9635854341736695,
                    0.9635854341736695,
                    0.9663865546218487,
                    0.9663865546218487,
                    0.969187675070028,
                    0.969187675070028,
                    0.9719887955182073,
                    0.9719887955182073,
                    0.9747899159663865,
                    0.9747899159663865,
                    0.9775910364145658,
                    0.9775910364145658,
                    0.9803921568627451,
                    0.9803921568627451,
                    0.9831932773109243,
                    0.9831932773109243,
                    0.9859943977591037,
                    0.9859943977591037,
                    0.988795518207283,
                    0.988795518207283,
                    0.9915966386554622,
                    0.9915966386554622,
                    0.9943977591036415,
                    0.9943977591036415,
                    0.9971988795518207,
                    0.9971988795518207,
                    1,
                    1
                  ]
                },
                {
                  "mode": "lines",
                  "name": "XGBoost | Avant GridSearch",
                  "type": "scatter",
                  "x": [
                    0,
                    0,
                    0,
                    0,
                    0,
                    0,
                    0,
                    0.0006988120195667365,
                    0.0006988120195667365,
                    0.0006988120195667365,
                    0.002795248078266946,
                    0.0034940600978336828,
                    0.0034940600978336828,
                    0.015373864430468204,
                    0.01607267645003494,
                    0.020964360587002098,
                    0.02585604472396925,
                    0.026554856743535988,
                    0.03004891684136967,
                    0.06778476589797344,
                    0.07127882599580712,
                    0.07127882599580712,
                    0.0726764500349406,
                    0.07477288609364081,
                    0.1090146750524109,
                    0.1111111111111111,
                    0.11250873515024458,
                    0.1488469601677149,
                    0.14954577218728163,
                    0.14954577218728163,
                    0.15164220824598182,
                    0.15234102026554858,
                    0.15513626834381553,
                    0.1740041928721174,
                    0.206848357791754,
                    0.2445842068483578,
                    0.2445842068483578,
                    0.25157232704402516,
                    0.28232005590496156,
                    0.2830188679245283,
                    0.28581411600279527,
                    0.29000698812019565,
                    0.29909154437456326,
                    0.3256464011180992,
                    0.4863731656184486,
                    0.49056603773584906,
                    0.5010482180293501,
                    0.6778476589797344,
                    0.6834381551362684,
                    0.859538784067086,
                    1
                  ],
                  "y": [
                    0,
                    0.0056022408963585435,
                    0.008403361344537815,
                    0.025210084033613446,
                    0.036414565826330535,
                    0.04201680672268908,
                    0.06722689075630252,
                    0.11484593837535013,
                    0.12324929971988796,
                    0.12885154061624648,
                    0.13725490196078433,
                    0.15406162464985995,
                    0.16526610644257703,
                    0.31932773109243695,
                    0.3389355742296919,
                    0.39775910364145656,
                    0.48179271708683474,
                    0.49019607843137253,
                    0.49859943977591037,
                    0.6554621848739496,
                    0.6582633053221288,
                    0.6666666666666666,
                    0.6750700280112045,
                    0.680672268907563,
                    0.7366946778711485,
                    0.7366946778711485,
                    0.7394957983193278,
                    0.7759103641456583,
                    0.7759103641456583,
                    0.7787114845938375,
                    0.7815126050420168,
                    0.7815126050420168,
                    0.7899159663865546,
                    0.8011204481792717,
                    0.8095238095238095,
                    0.834733893557423,
                    0.8375350140056023,
                    0.8403361344537815,
                    0.84593837535014,
                    0.84593837535014,
                    0.84593837535014,
                    0.8543417366946778,
                    0.8571428571428571,
                    0.865546218487395,
                    0.927170868347339,
                    0.9299719887955182,
                    0.9327731092436975,
                    0.9663865546218487,
                    0.9663865546218487,
                    0.9859943977591037,
                    1
                  ]
                },
                {
                  "mode": "lines",
                  "name": "XGBoost | Données Brutes",
                  "type": "scatter",
                  "x": [
                    0,
                    0,
                    0,
                    0,
                    0,
                    0,
                    0,
                    0,
                    0,
                    0,
                    0,
                    0,
                    0,
                    0.0006988120195667365,
                    0.0020964360587002098,
                    0.0020964360587002098,
                    0.002795248078266946,
                    0.002795248078266946,
                    0.002795248078266946,
                    0.002795248078266946,
                    0.0034940600978336828,
                    0.0034940600978336828,
                    0.0034940600978336828,
                    0.0041928721174004195,
                    0.0041928721174004195,
                    0.0041928721174004195,
                    0.0041928721174004195,
                    0.0041928721174004195,
                    0.0069881201956673656,
                    0.0069881201956673656,
                    0.0069881201956673656,
                    0.0069881201956673656,
                    0.0069881201956673656,
                    0.009084556254367574,
                    0.009084556254367574,
                    0.009783368273934312,
                    0.009783368273934312,
                    0.010482180293501049,
                    0.010482180293501049,
                    0.015373864430468204,
                    0.015373864430468204,
                    0.020964360587002098,
                    0.020964360587002098,
                    0.023759608665269043,
                    0.02445842068483578,
                    0.026554856743535988,
                    0.026554856743535988,
                    0.027253668763102725,
                    0.029350104821802937,
                    0.029350104821802937,
                    0.03004891684136967,
                    0.03004891684136967,
                    0.031446540880503145,
                    0.031446540880503145,
                    0.039133473095737246,
                    0.04122990915443746,
                    0.04122990915443746,
                    0.041928721174004195,
                    0.041928721174004195,
                    0.041928721174004195,
                    0.04262753319357093,
                    0.0440251572327044,
                    0.0440251572327044,
                    0.04612159329140461,
                    0.06429070580013976,
                    0.06429070580013976,
                    0.06638714185883997,
                    0.06848357791754019,
                    0.06848357791754019,
                    0.06918238993710692,
                    0.07127882599580712,
                    0.07337526205450734,
                    0.07407407407407407,
                    0.07547169811320754,
                    0.07617051013277429,
                    0.07756813417190776,
                    0.07966457023060797,
                    0.0803633822501747,
                    0.0803633822501747,
                    0.08245981830887492,
                    0.08385744234800839,
                    0.08525506638714186,
                    0.0880503144654088,
                    0.12299091544374563,
                    0.12368972746331237,
                    0.12508735150244585,
                    0.12718378756114604,
                    0.129979035639413,
                    0.1334730957372467,
                    0.1376659678546471,
                    0.13836477987421383,
                    0.14255765199161424,
                    0.15443745632424877,
                    0.15723270440251572,
                    0.1586303284416492,
                    0.15932914046121593,
                    0.1642208245981831,
                    0.16491963661774983,
                    0.1740041928721174,
                    0.1740041928721174,
                    0.18099231306778477,
                    0.18308874912648498,
                    0.19077568134171907,
                    0.19217330538085256,
                    0.19566736547868624,
                    0.19566736547868624,
                    0.21523410202655485,
                    0.21593291404612158,
                    0.2348008385744235,
                    0.26275331935709295,
                    0.2697414395527603,
                    0.2697414395527603,
                    0.28441649196366176,
                    0.2893081761006289,
                    0.2921034241788959,
                    0.2983927323549965,
                    0.30118798043326345,
                    0.30468204053109715,
                    0.30468204053109715,
                    0.3913347309573725,
                    0.40041928721174,
                    0.43186582809224316,
                    0.46540880503144655,
                    0.48777078965758214,
                    0.6876310272536688,
                    0.6967155835080363,
                    0.7127882599580713,
                    1
                  ],
                  "y": [
                    0,
                    0.0028011204481792717,
                    0.0196078431372549,
                    0.028011204481792718,
                    0.03361344537815126,
                    0.07563025210084033,
                    0.0784313725490196,
                    0.08403361344537816,
                    0.09523809523809523,
                    0.10364145658263306,
                    0.1092436974789916,
                    0.12044817927170869,
                    0.12324929971988796,
                    0.12324929971988796,
                    0.13445378151260504,
                    0.13725490196078433,
                    0.15126050420168066,
                    0.15966386554621848,
                    0.17086834733893558,
                    0.17647058823529413,
                    0.1792717086834734,
                    0.18207282913165265,
                    0.19607843137254902,
                    0.19887955182072828,
                    0.20448179271708683,
                    0.20728291316526612,
                    0.23529411764705882,
                    0.23809523809523808,
                    0.28851540616246496,
                    0.2913165266106443,
                    0.3025210084033613,
                    0.30532212885154064,
                    0.32212885154061627,
                    0.32492997198879553,
                    0.3333333333333333,
                    0.3445378151260504,
                    0.35014005602240894,
                    0.3557422969187675,
                    0.3585434173669468,
                    0.3753501400560224,
                    0.37815126050420167,
                    0.3949579831932773,
                    0.40896358543417366,
                    0.4369747899159664,
                    0.43977591036414565,
                    0.4649859943977591,
                    0.4677871148459384,
                    0.47058823529411764,
                    0.47058823529411764,
                    0.47619047619047616,
                    0.47619047619047616,
                    0.4789915966386555,
                    0.4789915966386555,
                    0.48179271708683474,
                    0.5434173669467787,
                    0.5574229691876751,
                    0.5602240896358543,
                    0.5602240896358543,
                    0.5630252100840336,
                    0.5686274509803921,
                    0.5938375350140056,
                    0.6022408963585434,
                    0.6050420168067226,
                    0.6190476190476191,
                    0.6834733893557423,
                    0.6862745098039216,
                    0.6890756302521008,
                    0.6890756302521008,
                    0.6918767507002801,
                    0.6918767507002801,
                    0.6918767507002801,
                    0.6946778711484594,
                    0.6946778711484594,
                    0.7002801120448179,
                    0.7030812324929971,
                    0.7030812324929971,
                    0.7030812324929971,
                    0.7030812324929971,
                    0.7058823529411765,
                    0.7058823529411765,
                    0.7058823529411765,
                    0.7086834733893558,
                    0.711484593837535,
                    0.7563025210084033,
                    0.7563025210084033,
                    0.7619047619047619,
                    0.7619047619047619,
                    0.7619047619047619,
                    0.7675070028011205,
                    0.7759103641456583,
                    0.7787114845938375,
                    0.7787114845938375,
                    0.7815126050420168,
                    0.7871148459383753,
                    0.7871148459383753,
                    0.7871148459383753,
                    0.7899159663865546,
                    0.7955182072829131,
                    0.7955182072829131,
                    0.7983193277310925,
                    0.8011204481792717,
                    0.8067226890756303,
                    0.8067226890756303,
                    0.8067226890756303,
                    0.8095238095238095,
                    0.8151260504201681,
                    0.8235294117647058,
                    0.8235294117647058,
                    0.834733893557423,
                    0.84593837535014,
                    0.8571428571428571,
                    0.8599439775910365,
                    0.8739495798319328,
                    0.8739495798319328,
                    0.8739495798319328,
                    0.8795518207282913,
                    0.8851540616246498,
                    0.8851540616246498,
                    0.8907563025210085,
                    0.9131652661064426,
                    0.9159663865546218,
                    0.9159663865546218,
                    0.9327731092436975,
                    0.9355742296918768,
                    0.9747899159663865,
                    0.9747899159663865,
                    0.9775910364145658,
                    1
                  ]
                },
                {
                  "marker": {
                    "color": "black",
                    "size": 10
                  },
                  "mode": "markers+text",
                  "name": "Meilleur Seuil",
                  "text": [
                    "Threshold: 0.11<br>TPR: 0.89<br>FPR: 0.09"
                  ],
                  "textposition": "bottom center",
                  "type": "scatter",
                  "x": [
                    0.08525506638714186
                  ],
                  "y": [
                    0.8851540616246498
                  ]
                }
              ],
              "layout": {
                "height": 600,
                "legend": {
                  "title": {
                    "text": "Modèles"
                  }
                },
                "template": {
                  "data": {
                    "bar": [
                      {
                        "error_x": {
                          "color": "#2a3f5f"
                        },
                        "error_y": {
                          "color": "#2a3f5f"
                        },
                        "marker": {
                          "line": {
                            "color": "white",
                            "width": 0.5
                          },
                          "pattern": {
                            "fillmode": "overlay",
                            "size": 10,
                            "solidity": 0.2
                          }
                        },
                        "type": "bar"
                      }
                    ],
                    "barpolar": [
                      {
                        "marker": {
                          "line": {
                            "color": "white",
                            "width": 0.5
                          },
                          "pattern": {
                            "fillmode": "overlay",
                            "size": 10,
                            "solidity": 0.2
                          }
                        },
                        "type": "barpolar"
                      }
                    ],
                    "carpet": [
                      {
                        "aaxis": {
                          "endlinecolor": "#2a3f5f",
                          "gridcolor": "#C8D4E3",
                          "linecolor": "#C8D4E3",
                          "minorgridcolor": "#C8D4E3",
                          "startlinecolor": "#2a3f5f"
                        },
                        "baxis": {
                          "endlinecolor": "#2a3f5f",
                          "gridcolor": "#C8D4E3",
                          "linecolor": "#C8D4E3",
                          "minorgridcolor": "#C8D4E3",
                          "startlinecolor": "#2a3f5f"
                        },
                        "type": "carpet"
                      }
                    ],
                    "choropleth": [
                      {
                        "colorbar": {
                          "outlinewidth": 0,
                          "ticks": ""
                        },
                        "type": "choropleth"
                      }
                    ],
                    "contour": [
                      {
                        "colorbar": {
                          "outlinewidth": 0,
                          "ticks": ""
                        },
                        "colorscale": [
                          [
                            0,
                            "#0d0887"
                          ],
                          [
                            0.1111111111111111,
                            "#46039f"
                          ],
                          [
                            0.2222222222222222,
                            "#7201a8"
                          ],
                          [
                            0.3333333333333333,
                            "#9c179e"
                          ],
                          [
                            0.4444444444444444,
                            "#bd3786"
                          ],
                          [
                            0.5555555555555556,
                            "#d8576b"
                          ],
                          [
                            0.6666666666666666,
                            "#ed7953"
                          ],
                          [
                            0.7777777777777778,
                            "#fb9f3a"
                          ],
                          [
                            0.8888888888888888,
                            "#fdca26"
                          ],
                          [
                            1,
                            "#f0f921"
                          ]
                        ],
                        "type": "contour"
                      }
                    ],
                    "contourcarpet": [
                      {
                        "colorbar": {
                          "outlinewidth": 0,
                          "ticks": ""
                        },
                        "type": "contourcarpet"
                      }
                    ],
                    "heatmap": [
                      {
                        "colorbar": {
                          "outlinewidth": 0,
                          "ticks": ""
                        },
                        "colorscale": [
                          [
                            0,
                            "#0d0887"
                          ],
                          [
                            0.1111111111111111,
                            "#46039f"
                          ],
                          [
                            0.2222222222222222,
                            "#7201a8"
                          ],
                          [
                            0.3333333333333333,
                            "#9c179e"
                          ],
                          [
                            0.4444444444444444,
                            "#bd3786"
                          ],
                          [
                            0.5555555555555556,
                            "#d8576b"
                          ],
                          [
                            0.6666666666666666,
                            "#ed7953"
                          ],
                          [
                            0.7777777777777778,
                            "#fb9f3a"
                          ],
                          [
                            0.8888888888888888,
                            "#fdca26"
                          ],
                          [
                            1,
                            "#f0f921"
                          ]
                        ],
                        "type": "heatmap"
                      }
                    ],
                    "heatmapgl": [
                      {
                        "colorbar": {
                          "outlinewidth": 0,
                          "ticks": ""
                        },
                        "colorscale": [
                          [
                            0,
                            "#0d0887"
                          ],
                          [
                            0.1111111111111111,
                            "#46039f"
                          ],
                          [
                            0.2222222222222222,
                            "#7201a8"
                          ],
                          [
                            0.3333333333333333,
                            "#9c179e"
                          ],
                          [
                            0.4444444444444444,
                            "#bd3786"
                          ],
                          [
                            0.5555555555555556,
                            "#d8576b"
                          ],
                          [
                            0.6666666666666666,
                            "#ed7953"
                          ],
                          [
                            0.7777777777777778,
                            "#fb9f3a"
                          ],
                          [
                            0.8888888888888888,
                            "#fdca26"
                          ],
                          [
                            1,
                            "#f0f921"
                          ]
                        ],
                        "type": "heatmapgl"
                      }
                    ],
                    "histogram": [
                      {
                        "marker": {
                          "pattern": {
                            "fillmode": "overlay",
                            "size": 10,
                            "solidity": 0.2
                          }
                        },
                        "type": "histogram"
                      }
                    ],
                    "histogram2d": [
                      {
                        "colorbar": {
                          "outlinewidth": 0,
                          "ticks": ""
                        },
                        "colorscale": [
                          [
                            0,
                            "#0d0887"
                          ],
                          [
                            0.1111111111111111,
                            "#46039f"
                          ],
                          [
                            0.2222222222222222,
                            "#7201a8"
                          ],
                          [
                            0.3333333333333333,
                            "#9c179e"
                          ],
                          [
                            0.4444444444444444,
                            "#bd3786"
                          ],
                          [
                            0.5555555555555556,
                            "#d8576b"
                          ],
                          [
                            0.6666666666666666,
                            "#ed7953"
                          ],
                          [
                            0.7777777777777778,
                            "#fb9f3a"
                          ],
                          [
                            0.8888888888888888,
                            "#fdca26"
                          ],
                          [
                            1,
                            "#f0f921"
                          ]
                        ],
                        "type": "histogram2d"
                      }
                    ],
                    "histogram2dcontour": [
                      {
                        "colorbar": {
                          "outlinewidth": 0,
                          "ticks": ""
                        },
                        "colorscale": [
                          [
                            0,
                            "#0d0887"
                          ],
                          [
                            0.1111111111111111,
                            "#46039f"
                          ],
                          [
                            0.2222222222222222,
                            "#7201a8"
                          ],
                          [
                            0.3333333333333333,
                            "#9c179e"
                          ],
                          [
                            0.4444444444444444,
                            "#bd3786"
                          ],
                          [
                            0.5555555555555556,
                            "#d8576b"
                          ],
                          [
                            0.6666666666666666,
                            "#ed7953"
                          ],
                          [
                            0.7777777777777778,
                            "#fb9f3a"
                          ],
                          [
                            0.8888888888888888,
                            "#fdca26"
                          ],
                          [
                            1,
                            "#f0f921"
                          ]
                        ],
                        "type": "histogram2dcontour"
                      }
                    ],
                    "mesh3d": [
                      {
                        "colorbar": {
                          "outlinewidth": 0,
                          "ticks": ""
                        },
                        "type": "mesh3d"
                      }
                    ],
                    "parcoords": [
                      {
                        "line": {
                          "colorbar": {
                            "outlinewidth": 0,
                            "ticks": ""
                          }
                        },
                        "type": "parcoords"
                      }
                    ],
                    "pie": [
                      {
                        "automargin": true,
                        "type": "pie"
                      }
                    ],
                    "scatter": [
                      {
                        "fillpattern": {
                          "fillmode": "overlay",
                          "size": 10,
                          "solidity": 0.2
                        },
                        "type": "scatter"
                      }
                    ],
                    "scatter3d": [
                      {
                        "line": {
                          "colorbar": {
                            "outlinewidth": 0,
                            "ticks": ""
                          }
                        },
                        "marker": {
                          "colorbar": {
                            "outlinewidth": 0,
                            "ticks": ""
                          }
                        },
                        "type": "scatter3d"
                      }
                    ],
                    "scattercarpet": [
                      {
                        "marker": {
                          "colorbar": {
                            "outlinewidth": 0,
                            "ticks": ""
                          }
                        },
                        "type": "scattercarpet"
                      }
                    ],
                    "scattergeo": [
                      {
                        "marker": {
                          "colorbar": {
                            "outlinewidth": 0,
                            "ticks": ""
                          }
                        },
                        "type": "scattergeo"
                      }
                    ],
                    "scattergl": [
                      {
                        "marker": {
                          "colorbar": {
                            "outlinewidth": 0,
                            "ticks": ""
                          }
                        },
                        "type": "scattergl"
                      }
                    ],
                    "scattermapbox": [
                      {
                        "marker": {
                          "colorbar": {
                            "outlinewidth": 0,
                            "ticks": ""
                          }
                        },
                        "type": "scattermapbox"
                      }
                    ],
                    "scatterpolar": [
                      {
                        "marker": {
                          "colorbar": {
                            "outlinewidth": 0,
                            "ticks": ""
                          }
                        },
                        "type": "scatterpolar"
                      }
                    ],
                    "scatterpolargl": [
                      {
                        "marker": {
                          "colorbar": {
                            "outlinewidth": 0,
                            "ticks": ""
                          }
                        },
                        "type": "scatterpolargl"
                      }
                    ],
                    "scatterternary": [
                      {
                        "marker": {
                          "colorbar": {
                            "outlinewidth": 0,
                            "ticks": ""
                          }
                        },
                        "type": "scatterternary"
                      }
                    ],
                    "surface": [
                      {
                        "colorbar": {
                          "outlinewidth": 0,
                          "ticks": ""
                        },
                        "colorscale": [
                          [
                            0,
                            "#0d0887"
                          ],
                          [
                            0.1111111111111111,
                            "#46039f"
                          ],
                          [
                            0.2222222222222222,
                            "#7201a8"
                          ],
                          [
                            0.3333333333333333,
                            "#9c179e"
                          ],
                          [
                            0.4444444444444444,
                            "#bd3786"
                          ],
                          [
                            0.5555555555555556,
                            "#d8576b"
                          ],
                          [
                            0.6666666666666666,
                            "#ed7953"
                          ],
                          [
                            0.7777777777777778,
                            "#fb9f3a"
                          ],
                          [
                            0.8888888888888888,
                            "#fdca26"
                          ],
                          [
                            1,
                            "#f0f921"
                          ]
                        ],
                        "type": "surface"
                      }
                    ],
                    "table": [
                      {
                        "cells": {
                          "fill": {
                            "color": "#EBF0F8"
                          },
                          "line": {
                            "color": "white"
                          }
                        },
                        "header": {
                          "fill": {
                            "color": "#C8D4E3"
                          },
                          "line": {
                            "color": "white"
                          }
                        },
                        "type": "table"
                      }
                    ]
                  },
                  "layout": {
                    "annotationdefaults": {
                      "arrowcolor": "#2a3f5f",
                      "arrowhead": 0,
                      "arrowwidth": 1
                    },
                    "autotypenumbers": "strict",
                    "coloraxis": {
                      "colorbar": {
                        "outlinewidth": 0,
                        "ticks": ""
                      }
                    },
                    "colorscale": {
                      "diverging": [
                        [
                          0,
                          "#8e0152"
                        ],
                        [
                          0.1,
                          "#c51b7d"
                        ],
                        [
                          0.2,
                          "#de77ae"
                        ],
                        [
                          0.3,
                          "#f1b6da"
                        ],
                        [
                          0.4,
                          "#fde0ef"
                        ],
                        [
                          0.5,
                          "#f7f7f7"
                        ],
                        [
                          0.6,
                          "#e6f5d0"
                        ],
                        [
                          0.7,
                          "#b8e186"
                        ],
                        [
                          0.8,
                          "#7fbc41"
                        ],
                        [
                          0.9,
                          "#4d9221"
                        ],
                        [
                          1,
                          "#276419"
                        ]
                      ],
                      "sequential": [
                        [
                          0,
                          "#0d0887"
                        ],
                        [
                          0.1111111111111111,
                          "#46039f"
                        ],
                        [
                          0.2222222222222222,
                          "#7201a8"
                        ],
                        [
                          0.3333333333333333,
                          "#9c179e"
                        ],
                        [
                          0.4444444444444444,
                          "#bd3786"
                        ],
                        [
                          0.5555555555555556,
                          "#d8576b"
                        ],
                        [
                          0.6666666666666666,
                          "#ed7953"
                        ],
                        [
                          0.7777777777777778,
                          "#fb9f3a"
                        ],
                        [
                          0.8888888888888888,
                          "#fdca26"
                        ],
                        [
                          1,
                          "#f0f921"
                        ]
                      ],
                      "sequentialminus": [
                        [
                          0,
                          "#0d0887"
                        ],
                        [
                          0.1111111111111111,
                          "#46039f"
                        ],
                        [
                          0.2222222222222222,
                          "#7201a8"
                        ],
                        [
                          0.3333333333333333,
                          "#9c179e"
                        ],
                        [
                          0.4444444444444444,
                          "#bd3786"
                        ],
                        [
                          0.5555555555555556,
                          "#d8576b"
                        ],
                        [
                          0.6666666666666666,
                          "#ed7953"
                        ],
                        [
                          0.7777777777777778,
                          "#fb9f3a"
                        ],
                        [
                          0.8888888888888888,
                          "#fdca26"
                        ],
                        [
                          1,
                          "#f0f921"
                        ]
                      ]
                    },
                    "colorway": [
                      "#636efa",
                      "#EF553B",
                      "#00cc96",
                      "#ab63fa",
                      "#FFA15A",
                      "#19d3f3",
                      "#FF6692",
                      "#B6E880",
                      "#FF97FF",
                      "#FECB52"
                    ],
                    "font": {
                      "color": "#2a3f5f"
                    },
                    "geo": {
                      "bgcolor": "white",
                      "lakecolor": "white",
                      "landcolor": "white",
                      "showlakes": true,
                      "showland": true,
                      "subunitcolor": "#C8D4E3"
                    },
                    "hoverlabel": {
                      "align": "left"
                    },
                    "hovermode": "closest",
                    "mapbox": {
                      "style": "light"
                    },
                    "paper_bgcolor": "white",
                    "plot_bgcolor": "white",
                    "polar": {
                      "angularaxis": {
                        "gridcolor": "#EBF0F8",
                        "linecolor": "#EBF0F8",
                        "ticks": ""
                      },
                      "bgcolor": "white",
                      "radialaxis": {
                        "gridcolor": "#EBF0F8",
                        "linecolor": "#EBF0F8",
                        "ticks": ""
                      }
                    },
                    "scene": {
                      "xaxis": {
                        "backgroundcolor": "white",
                        "gridcolor": "#DFE8F3",
                        "gridwidth": 2,
                        "linecolor": "#EBF0F8",
                        "showbackground": true,
                        "ticks": "",
                        "zerolinecolor": "#EBF0F8"
                      },
                      "yaxis": {
                        "backgroundcolor": "white",
                        "gridcolor": "#DFE8F3",
                        "gridwidth": 2,
                        "linecolor": "#EBF0F8",
                        "showbackground": true,
                        "ticks": "",
                        "zerolinecolor": "#EBF0F8"
                      },
                      "zaxis": {
                        "backgroundcolor": "white",
                        "gridcolor": "#DFE8F3",
                        "gridwidth": 2,
                        "linecolor": "#EBF0F8",
                        "showbackground": true,
                        "ticks": "",
                        "zerolinecolor": "#EBF0F8"
                      }
                    },
                    "shapedefaults": {
                      "line": {
                        "color": "#2a3f5f"
                      }
                    },
                    "ternary": {
                      "aaxis": {
                        "gridcolor": "#DFE8F3",
                        "linecolor": "#A2B1C6",
                        "ticks": ""
                      },
                      "baxis": {
                        "gridcolor": "#DFE8F3",
                        "linecolor": "#A2B1C6",
                        "ticks": ""
                      },
                      "bgcolor": "white",
                      "caxis": {
                        "gridcolor": "#DFE8F3",
                        "linecolor": "#A2B1C6",
                        "ticks": ""
                      }
                    },
                    "title": {
                      "x": 0.05
                    },
                    "xaxis": {
                      "automargin": true,
                      "gridcolor": "#EBF0F8",
                      "linecolor": "#EBF0F8",
                      "ticks": "",
                      "title": {
                        "standoff": 15
                      },
                      "zerolinecolor": "#EBF0F8",
                      "zerolinewidth": 2
                    },
                    "yaxis": {
                      "automargin": true,
                      "gridcolor": "#EBF0F8",
                      "linecolor": "#EBF0F8",
                      "ticks": "",
                      "title": {
                        "standoff": 15
                      },
                      "zerolinecolor": "#EBF0F8",
                      "zerolinewidth": 2
                    }
                  }
                },
                "title": {
                  "text": "Courbe ROC Avant et Après GridSearch"
                },
                "width": 1000,
                "xaxis": {
                  "title": {
                    "text": "Taux de Faux Positifs (FPR)"
                  }
                },
                "yaxis": {
                  "title": {
                    "text": "Taux de Vrais Positifs (TPR)"
                  }
                }
              }
            }
          },
          "metadata": {},
          "output_type": "display_data"
        }
      ],
      "source": [
        "# La fonction suivante nous donne les probabilité prédites du modèle que chaque observation\n",
        "# appartienne soit à la classe 0 soit à la classe 1\n",
        "grid_test_preds_probs = grid_classifier.predict_proba(x_test_med)[:, 1] # On ne sélectionne\n",
        "# ici que la probabilité d'appartenir à la classe 1.\n",
        "\n",
        "\n",
        "# AUC du meilleur modèle, on lui fournit les probabilités prédites\n",
        "grid_test_roc_auc = roc_auc_score(y_test, grid_test_preds_probs)\n",
        "\n",
        "# Regardons visuellement la différence avant et après le GridSerchCV\n",
        "best_model = grid_classifier.best_estimator_\n",
        "\n",
        "print(f'Naïf: ROC AUC = {round(ns_auc,2)}')\n",
        "print(f'XGBoost | Données Brutes: ROC AUC = {round(lr_auc_raw,2)}')\n",
        "print(f'XGBoost | Avant GridSearch: ROC AUC = {round(lr_auc_med,2)}')\n",
        "print(f'XGBoost | Après GridSearch: ROC AUC = {round(grid_test_roc_auc,2)}')\n",
        "\n",
        "# Calcul des courbes ROC\n",
        "lr_fpr_best, lr_tpr_best, thresholds = roc_curve(y_test, grid_test_preds_probs)\n",
        "\n",
        "# Recherche du meilleur seuil de séparation via la différence entre le TPR et le FPR\n",
        "tpr_fpr_diff = lr_tpr_best - lr_fpr_best\n",
        "\n",
        "best_idx = np.argmax(tpr_fpr_diff)\n",
        "best_threshold = thresholds[best_idx]\n",
        "best_tpr = lr_tpr_best[best_idx]\n",
        "best_fpr = lr_fpr_best[best_idx]\n",
        "\n",
        "fig = go.Figure()\n",
        "\n",
        "fig.add_trace(go.Scatter(x=ns_fpr, y=ns_tpr, mode='lines',\n",
        "                         name='No Skill',\n",
        "                         ))\n",
        "\n",
        "fig.add_trace(go.Scatter(x=lr_fpr_best, y=lr_tpr_best, mode='lines',\n",
        "                         name='XGBoost | Après GridSearch',\n",
        "                         ))\n",
        "\n",
        "fig.add_trace(go.Scatter(x=lr_fpr_med, y=lr_tpr_med, mode='lines',\n",
        "                         name='XGBoost | Avant GridSearch',\n",
        "                         ))\n",
        "\n",
        "fig.add_trace(go.Scatter(x=lr_fpr_raw, y=lr_tpr_raw, mode='lines',\n",
        "                         name='XGBoost | Données Brutes',\n",
        "                         ))\n",
        "\n",
        "fig.add_trace(go.Scatter(\n",
        "    x=[best_fpr],\n",
        "    y=[best_tpr],\n",
        "    mode='markers+text',\n",
        "    name='Meilleur Seuil',\n",
        "    marker=dict(color='black', size=10),\n",
        "    text=[f'Threshold: {best_threshold:.2f}<br>TPR: {best_tpr:.2f}<br>FPR: {best_fpr:.2f}'],\n",
        "    textposition='bottom center'\n",
        "))\n",
        "\n",
        "# Paramètres du graphique\n",
        "fig.update_layout(\n",
        "    title=\"Courbe ROC Avant et Après GridSearch\",\n",
        "    xaxis_title=\"Taux de Faux Positifs (FPR)\",\n",
        "    yaxis_title=\"Taux de Vrais Positifs (TPR)\",\n",
        "    legend_title=\"Modèles\",\n",
        "    template=\"plotly_white\",\n",
        "    width=1000,  # Largeur du graphique\n",
        "    height=600,  # Hauteur du graphique\n",
        ")\n",
        "\n",
        "fig.show()"
      ]
    },
    {
      "cell_type": "markdown",
      "metadata": {},
      "source": [
        "On voit ici l'impact du GridSearchCV sur la performance de notre modèle. La courbe s'est décalée vers la gauche indiquant un plus faible taux de Faux Positifs et un plus fort taux de vrai positifs. L'AUC est également impacté, passant de 0.88 à 0.96 avant et après le GridSearchCV"
      ]
    },
    {
      "cell_type": "code",
      "execution_count": 11,
      "metadata": {},
      "outputs": [
        {
          "name": "stdout",
          "output_type": "stream",
          "text": [
            "Le F1-score du modèle optimisé est le suivant : 0.79 et son AUC est de : 0.96\n"
          ]
        }
      ],
      "source": [
        "# On test la performance du modèle avec les meilleurs hyperparamètres\n",
        "grid_test_preds = (grid_test_preds_probs >= best_threshold).astype(int)\n",
        "\n",
        "# Accuracy du meilleur modèle, on lui fournit les classes prédites\n",
        "grid_test_f1_score = f1_score(y_test, grid_test_preds)\n",
        "\n",
        "print(f\"Le F1-score du modèle optimisé est le suivant : {round(grid_test_f1_score,2)} et son AUC est de : {round(grid_test_roc_auc,2)}\")"
      ]
    },
    {
      "cell_type": "code",
      "execution_count": 12,
      "metadata": {},
      "outputs": [
        {
          "name": "stdout",
          "output_type": "stream",
          "text": [
            "Train Log Loss: 0.03\n",
            "Test Log Loss: 0.21\n",
            "\n"
          ]
        }
      ],
      "source": [
        "# Nous vérifions la log-loss sur le train et le test afin de vérifier un potentiel surraprentissage\n",
        "# En effet, si une différence trop grande est observée et que l'erreur du test est supérieur, cela veut\n",
        "# dire que le modèle ne parviens à suffisemment généralisé, ce qui peut-être un signe d'Overfitting\n",
        "\n",
        "grid_train_preds = grid_classifier.predict(x_train_med)\n",
        "grid_train_preds_probs = grid_classifier.predict_proba(x_train_med)[:, 1]\n",
        "\n",
        "train_log_loss = log_loss(y_train, grid_train_preds_probs)\n",
        "test_log_loss = log_loss(y_test, grid_test_preds_probs)\n",
        "\n",
        "print(f\"Train Log Loss: {train_log_loss:.2f}\")\n",
        "print(f\"Test Log Loss: {test_log_loss:.2f}\\n\")"
      ]
    },
    {
      "cell_type": "markdown",
      "metadata": {},
      "source": [
        "Ici, l'erreur moyenne sur notre échantillon train est très faible, indiquant que le modèle a bien appris sur les donénes Train. \n",
        "En revanche, même si l'erreur reste convenable sur l'ensemble de Test, elle est tout de même élevée et bien supérieur à celle de Train, indiquant un potentiel Overfitting du modèle."
      ]
    },
    {
      "cell_type": "markdown",
      "metadata": {},
      "source": [
        "<span style=\"font-size: 24px; color: darkred; text-decoration: underline;\"><strong>Matrice de confusion du modèle optimisé</strong></span>"
      ]
    },
    {
      "cell_type": "code",
      "execution_count": 13,
      "metadata": {
        "colab": {
          "base_uri": "https://localhost:8080/",
          "height": 458
        },
        "id": "yWwZvIY5GnPf",
        "outputId": "e53af7bf-4f2d-4508-b8f8-483d97273398"
      },
      "outputs": [
        {
          "data": {
            "image/png": "[encoded data removed]",
            "text/plain": [
              "<Figure size 640x480 with 2 Axes>"
            ]
          },
          "metadata": {},
          "output_type": "display_data"
        }
      ],
      "source": [
        "# On observe la matrice de confusion de ce modèle\n",
        "cm = confusion_matrix(y_test, grid_test_preds)\n",
        "disp = ConfusionMatrixDisplay(confusion_matrix=cm, display_labels=grid_classifier.classes_)\n",
        "disp.plot()\n",
        "plt.show()"
      ]
    },
    {
      "cell_type": "markdown",
      "metadata": {},
      "source": [
        "XGBoost dispose d'une fonction \"plot_importance\" qui indique selon le type de critère choisie, l'importance des variables dans le modèle. Ici, le type 'weight' indique que l'on choisi d'utiliser le nombre de fois où la variable à été sélectionnée pour faire les splits dans les arbres. Plus une variable a été sélectionnée plus elle a d'importance dans la prédiction du modèle car elle divise au mieux les données"
      ]
    },
    {
      "cell_type": "code",
      "execution_count": 14,
      "metadata": {
        "colab": {
          "base_uri": "https://localhost:8080/",
          "height": 487
        },
        "id": "lt-rHk-JGnTa",
        "outputId": "152f164d-a660-4301-d015-2046b381c96b"
      },
      "outputs": [
        {
          "data": {
            "image/png": "[encoded data removed]",
            "text/plain": [
              "<Figure size 640x480 with 1 Axes>"
            ]
          },
          "metadata": {},
          "output_type": "display_data"
        }
      ],
      "source": [
        "xgb.plot_importance(grid_classifier.best_estimator_, importance_type = 'weight')\n",
        "plt.rcParams['figure.figsize'] = [6, 5]\n",
        "plt.show()"
      ]
    },
    {
      "cell_type": "markdown",
      "metadata": {},
      "source": [
        "D'après les résultats du graphique, on peut en conlcure que les variables les plus importantes pour notre modèle optimisé sont :  VALUE CLAGE LOAN CLNO YOJ DEBTINC...\n",
        "De l'autre côté, les variables les moins porteuses d'informations sont : JOB_SELF JOB_SALES JOB_ProfExe, JOB_OFFICE..."
      ]
    },
    {
      "cell_type": "markdown",
      "metadata": {},
      "source": [
        "Enfin, pour compléter notre analyse quant à la pertinence et l'importance de chaque variable dans le modèle, nous utilisons les valeurs de Shapley.\n",
        "\n",
        "Les valeurs de SHapley sont des coefficients attribuées à chaque variables indiquant à quel point elles ont un impact sur la probabiltié prédites du modèle et aussi le sens de cet impact. Ainsi plus une variable a un impact fort, plus elle a de l'importance dans le modèle car sa présence influe fortement sur la prédiction."
      ]
    },
    {
      "cell_type": "code",
      "execution_count": 15,
      "metadata": {
        "colab": {
          "base_uri": "https://localhost:8080/",
          "height": 837
        },
        "id": "xUVGe82cGnVK",
        "outputId": "0429b49b-8f5e-48ca-9a1f-ebf1192888e6"
      },
      "outputs": [
        {
          "data": {
            "image/png": "[encoded data removed]",
            "text/plain": [
              "<Figure size 800x750 with 2 Axes>"
            ]
          },
          "metadata": {},
          "output_type": "display_data"
        }
      ],
      "source": [
        "explainer = shap.TreeExplainer(best_model)\n",
        "shap_values = explainer(x_test_med)\n",
        "shap.summary_plot(shap_values, x_test_med)"
      ]
    },
    {
      "cell_type": "markdown",
      "metadata": {},
      "source": [
        "On voit ici que plus la valeur de DEBTINC, autrement dit plus le rapport\n",
        "entre le salaire et l'endettement est grand, plus la probabilité pour que la\n",
        "personne soit en défaut est élévée.\n",
        "De même pour DEROG, plus le nombre de rapport dérogatoire est grand, plus la\n",
        "probabilité prédite par le modèle va tendre vers 1, autrement dit, que la personne\n",
        "soit en défaut.\n",
        "\n",
        "En revanche, LOAN et CLAGE on des conclusions différentes indiquant\n",
        "que plus la valeur de la maison sous-jacente est grande et plus le\n",
        "1er crédit réalisé est ancien, alors plus la probabilité de ne pas\n",
        "être en défaut est grande."
      ]
    },
    {
      "cell_type": "code",
      "execution_count": 16,
      "metadata": {
        "colab": {
          "base_uri": "https://localhost:8080/",
          "height": 585
        },
        "id": "qwE6rD8xGnXC",
        "outputId": "f869665c-9970-42e3-d570-d531339a2e3e"
      },
      "outputs": [
        {
          "data": {
            "image/png": "[encoded data removed]",
            "text/plain": [
              "<Figure size 800x650 with 1 Axes>"
            ]
          },
          "metadata": {},
          "output_type": "display_data"
        }
      ],
      "source": [
        "# La fonction suivante prends la valeur absolue de la moyenne des \n",
        "# valeurs de Shapley sur tout l'échantillon, nous donnant ainsi une vision\n",
        "# globale quant à la pertinence des variables dans le modèle, mais plus sur \n",
        "# le sens de leurs impact.\n",
        "shap.plots.bar(shap_values)\n"
      ]
    },
    {
      "cell_type": "markdown",
      "metadata": {},
      "source": [
        "D'après les résultats du XGBoost et de Shapley, on peut déterminer les features les\n",
        "plus importantes pour notre modèle. Il reste cependant encore à déterminer le nombre\n",
        "features à sélectionner. Une possibilité qui ne répond pas parfaitement à la question\n",
        "mais qui pourrait nous éclairer serait de tester l'accuracy d'un modèle simple en ajoutant\n",
        "à chaque itération la variable à l'importance la plus grande."
      ]
    },
    {
      "cell_type": "code",
      "execution_count": 17,
      "metadata": {},
      "outputs": [
        {
          "name": "stderr",
          "output_type": "stream",
          "text": [
            "c:\\Users\\alexi\\Desktop\\Projet_Scoring_1\\.venv\\Lib\\site-packages\\sklearn\\metrics\\_classification.py:1531: UndefinedMetricWarning:\n",
            "\n",
            "Precision is ill-defined and being set to 0.0 due to no predicted samples. Use `zero_division` parameter to control this behavior.\n",
            "\n",
            "c:\\Users\\alexi\\Desktop\\Projet_Scoring_1\\.venv\\Lib\\site-packages\\sklearn\\metrics\\_classification.py:1531: UndefinedMetricWarning:\n",
            "\n",
            "Precision is ill-defined and being set to 0.0 due to no predicted samples. Use `zero_division` parameter to control this behavior.\n",
            "\n",
            "c:\\Users\\alexi\\Desktop\\Projet_Scoring_1\\.venv\\Lib\\site-packages\\sklearn\\metrics\\_classification.py:1531: UndefinedMetricWarning:\n",
            "\n",
            "Precision is ill-defined and being set to 0.0 due to no predicted samples. Use `zero_division` parameter to control this behavior.\n",
            "\n",
            "c:\\Users\\alexi\\Desktop\\Projet_Scoring_1\\.venv\\Lib\\site-packages\\sklearn\\metrics\\_classification.py:1531: UndefinedMetricWarning:\n",
            "\n",
            "Precision is ill-defined and being set to 0.0 due to no predicted samples. Use `zero_division` parameter to control this behavior.\n",
            "\n",
            "c:\\Users\\alexi\\Desktop\\Projet_Scoring_1\\.venv\\Lib\\site-packages\\sklearn\\metrics\\_classification.py:1531: UndefinedMetricWarning:\n",
            "\n",
            "Precision is ill-defined and being set to 0.0 due to no predicted samples. Use `zero_division` parameter to control this behavior.\n",
            "\n",
            "c:\\Users\\alexi\\Desktop\\Projet_Scoring_1\\.venv\\Lib\\site-packages\\sklearn\\metrics\\_classification.py:1531: UndefinedMetricWarning:\n",
            "\n",
            "Precision is ill-defined and being set to 0.0 due to no predicted samples. Use `zero_division` parameter to control this behavior.\n",
            "\n",
            "c:\\Users\\alexi\\Desktop\\Projet_Scoring_1\\.venv\\Lib\\site-packages\\sklearn\\metrics\\_classification.py:1531: UndefinedMetricWarning:\n",
            "\n",
            "Precision is ill-defined and being set to 0.0 due to no predicted samples. Use `zero_division` parameter to control this behavior.\n",
            "\n",
            "c:\\Users\\alexi\\Desktop\\Projet_Scoring_1\\.venv\\Lib\\site-packages\\sklearn\\metrics\\_classification.py:1531: UndefinedMetricWarning:\n",
            "\n",
            "Precision is ill-defined and being set to 0.0 due to no predicted samples. Use `zero_division` parameter to control this behavior.\n",
            "\n",
            "c:\\Users\\alexi\\Desktop\\Projet_Scoring_1\\.venv\\Lib\\site-packages\\sklearn\\metrics\\_classification.py:1531: UndefinedMetricWarning:\n",
            "\n",
            "Precision is ill-defined and being set to 0.0 due to no predicted samples. Use `zero_division` parameter to control this behavior.\n",
            "\n",
            "c:\\Users\\alexi\\Desktop\\Projet_Scoring_1\\.venv\\Lib\\site-packages\\sklearn\\metrics\\_classification.py:1531: UndefinedMetricWarning:\n",
            "\n",
            "Precision is ill-defined and being set to 0.0 due to no predicted samples. Use `zero_division` parameter to control this behavior.\n",
            "\n",
            "c:\\Users\\alexi\\Desktop\\Projet_Scoring_1\\.venv\\Lib\\site-packages\\sklearn\\metrics\\_classification.py:1531: UndefinedMetricWarning:\n",
            "\n",
            "Precision is ill-defined and being set to 0.0 due to no predicted samples. Use `zero_division` parameter to control this behavior.\n",
            "\n",
            "c:\\Users\\alexi\\Desktop\\Projet_Scoring_1\\.venv\\Lib\\site-packages\\sklearn\\metrics\\_classification.py:1531: UndefinedMetricWarning:\n",
            "\n",
            "Precision is ill-defined and being set to 0.0 due to no predicted samples. Use `zero_division` parameter to control this behavior.\n",
            "\n",
            "c:\\Users\\alexi\\Desktop\\Projet_Scoring_1\\.venv\\Lib\\site-packages\\sklearn\\metrics\\_classification.py:1531: UndefinedMetricWarning:\n",
            "\n",
            "Precision is ill-defined and being set to 0.0 due to no predicted samples. Use `zero_division` parameter to control this behavior.\n",
            "\n",
            "c:\\Users\\alexi\\Desktop\\Projet_Scoring_1\\.venv\\Lib\\site-packages\\sklearn\\metrics\\_classification.py:1531: UndefinedMetricWarning:\n",
            "\n",
            "Precision is ill-defined and being set to 0.0 due to no predicted samples. Use `zero_division` parameter to control this behavior.\n",
            "\n",
            "c:\\Users\\alexi\\Desktop\\Projet_Scoring_1\\.venv\\Lib\\site-packages\\sklearn\\metrics\\_classification.py:1531: UndefinedMetricWarning:\n",
            "\n",
            "Precision is ill-defined and being set to 0.0 due to no predicted samples. Use `zero_division` parameter to control this behavior.\n",
            "\n"
          ]
        },
        {
          "data": {
            "application/vnd.plotly.v1+json": {
              "config": {
                "plotlyServerURL": "https://plot.ly"
              },
              "data": [
                {
                  "line": {
                    "color": "red"
                  },
                  "marker": {
                    "color": "red",
                    "size": 10
                  },
                  "mode": "lines+markers",
                  "name": "AUC",
                  "type": "scatter",
                  "x": [
                    1,
                    2,
                    3,
                    4,
                    5,
                    6,
                    7,
                    8,
                    9,
                    10,
                    11,
                    12,
                    13,
                    14,
                    15
                  ],
                  "y": [
                    0.5935625123564451,
                    0.6321018973627187,
                    0.6464813738213664,
                    0.6415133488755389,
                    0.6476548690755128,
                    0.8079216312660633,
                    0.8101619403876155,
                    0.844708113853508,
                    0.844708113853508,
                    0.844708113853508,
                    0.844708113853508,
                    0.844708113853508,
                    0.844708113853508,
                    0.844708113853508,
                    0.844708113853508
                  ]
                },
                {
                  "line": {
                    "color": "green"
                  },
                  "marker": {
                    "color": "green",
                    "size": 10
                  },
                  "mode": "lines+markers",
                  "name": "Precision",
                  "type": "scatter",
                  "x": [
                    1,
                    2,
                    3,
                    4,
                    5,
                    6,
                    7,
                    8,
                    9,
                    10,
                    11,
                    12,
                    13,
                    14,
                    15
                  ],
                  "y": [
                    0,
                    0,
                    0,
                    0,
                    0,
                    0,
                    0,
                    0,
                    0,
                    0,
                    0,
                    0,
                    0,
                    0,
                    0
                  ]
                },
                {
                  "line": {
                    "color": "orange"
                  },
                  "marker": {
                    "color": "orange",
                    "size": 10
                  },
                  "mode": "lines+markers",
                  "name": "Recall",
                  "type": "scatter",
                  "x": [
                    1,
                    2,
                    3,
                    4,
                    5,
                    6,
                    7,
                    8,
                    9,
                    10,
                    11,
                    12,
                    13,
                    14,
                    15
                  ],
                  "y": [
                    0,
                    0,
                    0,
                    0,
                    0,
                    0,
                    0,
                    0,
                    0,
                    0,
                    0,
                    0,
                    0,
                    0,
                    0
                  ]
                },
                {
                  "line": {
                    "color": "blue"
                  },
                  "marker": {
                    "color": "blue",
                    "size": 10
                  },
                  "mode": "lines+markers",
                  "name": "F1-Score",
                  "type": "scatter",
                  "x": [
                    1,
                    2,
                    3,
                    4,
                    5,
                    6,
                    7,
                    8,
                    9,
                    10,
                    11,
                    12,
                    13,
                    14,
                    15
                  ],
                  "y": [
                    0,
                    0,
                    0,
                    0,
                    0,
                    0,
                    0,
                    0,
                    0,
                    0,
                    0,
                    0,
                    0,
                    0,
                    0
                  ]
                }
              ],
              "layout": {
                "template": {
                  "data": {
                    "bar": [
                      {
                        "error_x": {
                          "color": "#2a3f5f"
                        },
                        "error_y": {
                          "color": "#2a3f5f"
                        },
                        "marker": {
                          "line": {
                            "color": "white",
                            "width": 0.5
                          },
                          "pattern": {
                            "fillmode": "overlay",
                            "size": 10,
                            "solidity": 0.2
                          }
                        },
                        "type": "bar"
                      }
                    ],
                    "barpolar": [
                      {
                        "marker": {
                          "line": {
                            "color": "white",
                            "width": 0.5
                          },
                          "pattern": {
                            "fillmode": "overlay",
                            "size": 10,
                            "solidity": 0.2
                          }
                        },
                        "type": "barpolar"
                      }
                    ],
                    "carpet": [
                      {
                        "aaxis": {
                          "endlinecolor": "#2a3f5f",
                          "gridcolor": "#C8D4E3",
                          "linecolor": "#C8D4E3",
                          "minorgridcolor": "#C8D4E3",
                          "startlinecolor": "#2a3f5f"
                        },
                        "baxis": {
                          "endlinecolor": "#2a3f5f",
                          "gridcolor": "#C8D4E3",
                          "linecolor": "#C8D4E3",
                          "minorgridcolor": "#C8D4E3",
                          "startlinecolor": "#2a3f5f"
                        },
                        "type": "carpet"
                      }
                    ],
                    "choropleth": [
                      {
                        "colorbar": {
                          "outlinewidth": 0,
                          "ticks": ""
                        },
                        "type": "choropleth"
                      }
                    ],
                    "contour": [
                      {
                        "colorbar": {
                          "outlinewidth": 0,
                          "ticks": ""
                        },
                        "colorscale": [
                          [
                            0,
                            "#0d0887"
                          ],
                          [
                            0.1111111111111111,
                            "#46039f"
                          ],
                          [
                            0.2222222222222222,
                            "#7201a8"
                          ],
                          [
                            0.3333333333333333,
                            "#9c179e"
                          ],
                          [
                            0.4444444444444444,
                            "#bd3786"
                          ],
                          [
                            0.5555555555555556,
                            "#d8576b"
                          ],
                          [
                            0.6666666666666666,
                            "#ed7953"
                          ],
                          [
                            0.7777777777777778,
                            "#fb9f3a"
                          ],
                          [
                            0.8888888888888888,
                            "#fdca26"
                          ],
                          [
                            1,
                            "#f0f921"
                          ]
                        ],
                        "type": "contour"
                      }
                    ],
                    "contourcarpet": [
                      {
                        "colorbar": {
                          "outlinewidth": 0,
                          "ticks": ""
                        },
                        "type": "contourcarpet"
                      }
                    ],
                    "heatmap": [
                      {
                        "colorbar": {
                          "outlinewidth": 0,
                          "ticks": ""
                        },
                        "colorscale": [
                          [
                            0,
                            "#0d0887"
                          ],
                          [
                            0.1111111111111111,
                            "#46039f"
                          ],
                          [
                            0.2222222222222222,
                            "#7201a8"
                          ],
                          [
                            0.3333333333333333,
                            "#9c179e"
                          ],
                          [
                            0.4444444444444444,
                            "#bd3786"
                          ],
                          [
                            0.5555555555555556,
                            "#d8576b"
                          ],
                          [
                            0.6666666666666666,
                            "#ed7953"
                          ],
                          [
                            0.7777777777777778,
                            "#fb9f3a"
                          ],
                          [
                            0.8888888888888888,
                            "#fdca26"
                          ],
                          [
                            1,
                            "#f0f921"
                          ]
                        ],
                        "type": "heatmap"
                      }
                    ],
                    "heatmapgl": [
                      {
                        "colorbar": {
                          "outlinewidth": 0,
                          "ticks": ""
                        },
                        "colorscale": [
                          [
                            0,
                            "#0d0887"
                          ],
                          [
                            0.1111111111111111,
                            "#46039f"
                          ],
                          [
                            0.2222222222222222,
                            "#7201a8"
                          ],
                          [
                            0.3333333333333333,
                            "#9c179e"
                          ],
                          [
                            0.4444444444444444,
                            "#bd3786"
                          ],
                          [
                            0.5555555555555556,
                            "#d8576b"
                          ],
                          [
                            0.6666666666666666,
                            "#ed7953"
                          ],
                          [
                            0.7777777777777778,
                            "#fb9f3a"
                          ],
                          [
                            0.8888888888888888,
                            "#fdca26"
                          ],
                          [
                            1,
                            "#f0f921"
                          ]
                        ],
                        "type": "heatmapgl"
                      }
                    ],
                    "histogram": [
                      {
                        "marker": {
                          "pattern": {
                            "fillmode": "overlay",
                            "size": 10,
                            "solidity": 0.2
                          }
                        },
                        "type": "histogram"
                      }
                    ],
                    "histogram2d": [
                      {
                        "colorbar": {
                          "outlinewidth": 0,
                          "ticks": ""
                        },
                        "colorscale": [
                          [
                            0,
                            "#0d0887"
                          ],
                          [
                            0.1111111111111111,
                            "#46039f"
                          ],
                          [
                            0.2222222222222222,
                            "#7201a8"
                          ],
                          [
                            0.3333333333333333,
                            "#9c179e"
                          ],
                          [
                            0.4444444444444444,
                            "#bd3786"
                          ],
                          [
                            0.5555555555555556,
                            "#d8576b"
                          ],
                          [
                            0.6666666666666666,
                            "#ed7953"
                          ],
                          [
                            0.7777777777777778,
                            "#fb9f3a"
                          ],
                          [
                            0.8888888888888888,
                            "#fdca26"
                          ],
                          [
                            1,
                            "#f0f921"
                          ]
                        ],
                        "type": "histogram2d"
                      }
                    ],
                    "histogram2dcontour": [
                      {
                        "colorbar": {
                          "outlinewidth": 0,
                          "ticks": ""
                        },
                        "colorscale": [
                          [
                            0,
                            "#0d0887"
                          ],
                          [
                            0.1111111111111111,
                            "#46039f"
                          ],
                          [
                            0.2222222222222222,
                            "#7201a8"
                          ],
                          [
                            0.3333333333333333,
                            "#9c179e"
                          ],
                          [
                            0.4444444444444444,
                            "#bd3786"
                          ],
                          [
                            0.5555555555555556,
                            "#d8576b"
                          ],
                          [
                            0.6666666666666666,
                            "#ed7953"
                          ],
                          [
                            0.7777777777777778,
                            "#fb9f3a"
                          ],
                          [
                            0.8888888888888888,
                            "#fdca26"
                          ],
                          [
                            1,
                            "#f0f921"
                          ]
                        ],
                        "type": "histogram2dcontour"
                      }
                    ],
                    "mesh3d": [
                      {
                        "colorbar": {
                          "outlinewidth": 0,
                          "ticks": ""
                        },
                        "type": "mesh3d"
                      }
                    ],
                    "parcoords": [
                      {
                        "line": {
                          "colorbar": {
                            "outlinewidth": 0,
                            "ticks": ""
                          }
                        },
                        "type": "parcoords"
                      }
                    ],
                    "pie": [
                      {
                        "automargin": true,
                        "type": "pie"
                      }
                    ],
                    "scatter": [
                      {
                        "fillpattern": {
                          "fillmode": "overlay",
                          "size": 10,
                          "solidity": 0.2
                        },
                        "type": "scatter"
                      }
                    ],
                    "scatter3d": [
                      {
                        "line": {
                          "colorbar": {
                            "outlinewidth": 0,
                            "ticks": ""
                          }
                        },
                        "marker": {
                          "colorbar": {
                            "outlinewidth": 0,
                            "ticks": ""
                          }
                        },
                        "type": "scatter3d"
                      }
                    ],
                    "scattercarpet": [
                      {
                        "marker": {
                          "colorbar": {
                            "outlinewidth": 0,
                            "ticks": ""
                          }
                        },
                        "type": "scattercarpet"
                      }
                    ],
                    "scattergeo": [
                      {
                        "marker": {
                          "colorbar": {
                            "outlinewidth": 0,
                            "ticks": ""
                          }
                        },
                        "type": "scattergeo"
                      }
                    ],
                    "scattergl": [
                      {
                        "marker": {
                          "colorbar": {
                            "outlinewidth": 0,
                            "ticks": ""
                          }
                        },
                        "type": "scattergl"
                      }
                    ],
                    "scattermapbox": [
                      {
                        "marker": {
                          "colorbar": {
                            "outlinewidth": 0,
                            "ticks": ""
                          }
                        },
                        "type": "scattermapbox"
                      }
                    ],
                    "scatterpolar": [
                      {
                        "marker": {
                          "colorbar": {
                            "outlinewidth": 0,
                            "ticks": ""
                          }
                        },
                        "type": "scatterpolar"
                      }
                    ],
                    "scatterpolargl": [
                      {
                        "marker": {
                          "colorbar": {
                            "outlinewidth": 0,
                            "ticks": ""
                          }
                        },
                        "type": "scatterpolargl"
                      }
                    ],
                    "scatterternary": [
                      {
                        "marker": {
                          "colorbar": {
                            "outlinewidth": 0,
                            "ticks": ""
                          }
                        },
                        "type": "scatterternary"
                      }
                    ],
                    "surface": [
                      {
                        "colorbar": {
                          "outlinewidth": 0,
                          "ticks": ""
                        },
                        "colorscale": [
                          [
                            0,
                            "#0d0887"
                          ],
                          [
                            0.1111111111111111,
                            "#46039f"
                          ],
                          [
                            0.2222222222222222,
                            "#7201a8"
                          ],
                          [
                            0.3333333333333333,
                            "#9c179e"
                          ],
                          [
                            0.4444444444444444,
                            "#bd3786"
                          ],
                          [
                            0.5555555555555556,
                            "#d8576b"
                          ],
                          [
                            0.6666666666666666,
                            "#ed7953"
                          ],
                          [
                            0.7777777777777778,
                            "#fb9f3a"
                          ],
                          [
                            0.8888888888888888,
                            "#fdca26"
                          ],
                          [
                            1,
                            "#f0f921"
                          ]
                        ],
                        "type": "surface"
                      }
                    ],
                    "table": [
                      {
                        "cells": {
                          "fill": {
                            "color": "#EBF0F8"
                          },
                          "line": {
                            "color": "white"
                          }
                        },
                        "header": {
                          "fill": {
                            "color": "#C8D4E3"
                          },
                          "line": {
                            "color": "white"
                          }
                        },
                        "type": "table"
                      }
                    ]
                  },
                  "layout": {
                    "annotationdefaults": {
                      "arrowcolor": "#2a3f5f",
                      "arrowhead": 0,
                      "arrowwidth": 1
                    },
                    "autotypenumbers": "strict",
                    "coloraxis": {
                      "colorbar": {
                        "outlinewidth": 0,
                        "ticks": ""
                      }
                    },
                    "colorscale": {
                      "diverging": [
                        [
                          0,
                          "#8e0152"
                        ],
                        [
                          0.1,
                          "#c51b7d"
                        ],
                        [
                          0.2,
                          "#de77ae"
                        ],
                        [
                          0.3,
                          "#f1b6da"
                        ],
                        [
                          0.4,
                          "#fde0ef"
                        ],
                        [
                          0.5,
                          "#f7f7f7"
                        ],
                        [
                          0.6,
                          "#e6f5d0"
                        ],
                        [
                          0.7,
                          "#b8e186"
                        ],
                        [
                          0.8,
                          "#7fbc41"
                        ],
                        [
                          0.9,
                          "#4d9221"
                        ],
                        [
                          1,
                          "#276419"
                        ]
                      ],
                      "sequential": [
                        [
                          0,
                          "#0d0887"
                        ],
                        [
                          0.1111111111111111,
                          "#46039f"
                        ],
                        [
                          0.2222222222222222,
                          "#7201a8"
                        ],
                        [
                          0.3333333333333333,
                          "#9c179e"
                        ],
                        [
                          0.4444444444444444,
                          "#bd3786"
                        ],
                        [
                          0.5555555555555556,
                          "#d8576b"
                        ],
                        [
                          0.6666666666666666,
                          "#ed7953"
                        ],
                        [
                          0.7777777777777778,
                          "#fb9f3a"
                        ],
                        [
                          0.8888888888888888,
                          "#fdca26"
                        ],
                        [
                          1,
                          "#f0f921"
                        ]
                      ],
                      "sequentialminus": [
                        [
                          0,
                          "#0d0887"
                        ],
                        [
                          0.1111111111111111,
                          "#46039f"
                        ],
                        [
                          0.2222222222222222,
                          "#7201a8"
                        ],
                        [
                          0.3333333333333333,
                          "#9c179e"
                        ],
                        [
                          0.4444444444444444,
                          "#bd3786"
                        ],
                        [
                          0.5555555555555556,
                          "#d8576b"
                        ],
                        [
                          0.6666666666666666,
                          "#ed7953"
                        ],
                        [
                          0.7777777777777778,
                          "#fb9f3a"
                        ],
                        [
                          0.8888888888888888,
                          "#fdca26"
                        ],
                        [
                          1,
                          "#f0f921"
                        ]
                      ]
                    },
                    "colorway": [
                      "#636efa",
                      "#EF553B",
                      "#00cc96",
                      "#ab63fa",
                      "#FFA15A",
                      "#19d3f3",
                      "#FF6692",
                      "#B6E880",
                      "#FF97FF",
                      "#FECB52"
                    ],
                    "font": {
                      "color": "#2a3f5f"
                    },
                    "geo": {
                      "bgcolor": "white",
                      "lakecolor": "white",
                      "landcolor": "white",
                      "showlakes": true,
                      "showland": true,
                      "subunitcolor": "#C8D4E3"
                    },
                    "hoverlabel": {
                      "align": "left"
                    },
                    "hovermode": "closest",
                    "mapbox": {
                      "style": "light"
                    },
                    "paper_bgcolor": "white",
                    "plot_bgcolor": "white",
                    "polar": {
                      "angularaxis": {
                        "gridcolor": "#EBF0F8",
                        "linecolor": "#EBF0F8",
                        "ticks": ""
                      },
                      "bgcolor": "white",
                      "radialaxis": {
                        "gridcolor": "#EBF0F8",
                        "linecolor": "#EBF0F8",
                        "ticks": ""
                      }
                    },
                    "scene": {
                      "xaxis": {
                        "backgroundcolor": "white",
                        "gridcolor": "#DFE8F3",
                        "gridwidth": 2,
                        "linecolor": "#EBF0F8",
                        "showbackground": true,
                        "ticks": "",
                        "zerolinecolor": "#EBF0F8"
                      },
                      "yaxis": {
                        "backgroundcolor": "white",
                        "gridcolor": "#DFE8F3",
                        "gridwidth": 2,
                        "linecolor": "#EBF0F8",
                        "showbackground": true,
                        "ticks": "",
                        "zerolinecolor": "#EBF0F8"
                      },
                      "zaxis": {
                        "backgroundcolor": "white",
                        "gridcolor": "#DFE8F3",
                        "gridwidth": 2,
                        "linecolor": "#EBF0F8",
                        "showbackground": true,
                        "ticks": "",
                        "zerolinecolor": "#EBF0F8"
                      }
                    },
                    "shapedefaults": {
                      "line": {
                        "color": "#2a3f5f"
                      }
                    },
                    "ternary": {
                      "aaxis": {
                        "gridcolor": "#DFE8F3",
                        "linecolor": "#A2B1C6",
                        "ticks": ""
                      },
                      "baxis": {
                        "gridcolor": "#DFE8F3",
                        "linecolor": "#A2B1C6",
                        "ticks": ""
                      },
                      "bgcolor": "white",
                      "caxis": {
                        "gridcolor": "#DFE8F3",
                        "linecolor": "#A2B1C6",
                        "ticks": ""
                      }
                    },
                    "title": {
                      "x": 0.05
                    },
                    "xaxis": {
                      "automargin": true,
                      "gridcolor": "#EBF0F8",
                      "linecolor": "#EBF0F8",
                      "ticks": "",
                      "title": {
                        "standoff": 15
                      },
                      "zerolinecolor": "#EBF0F8",
                      "zerolinewidth": 2
                    },
                    "yaxis": {
                      "automargin": true,
                      "gridcolor": "#EBF0F8",
                      "linecolor": "#EBF0F8",
                      "ticks": "",
                      "title": {
                        "standoff": 15
                      },
                      "zerolinecolor": "#EBF0F8",
                      "zerolinewidth": 2
                    }
                  }
                },
                "title": {
                  "font": {
                    "size": 14
                  },
                  "text": "Évolution des métriques \n(AUC, Precision, Recall, F1)\n - Paramètres: max_depth=2, alpha=8.92, learning_rate=0.04",
                  "x": 0.5,
                  "y": 0.9
                },
                "xaxis": {
                  "tickmode": "linear",
                  "title": {
                    "text": "Nombre de variables"
                  }
                },
                "yaxis": {
                  "title": {
                    "text": "Score"
                  }
                }
              }
            }
          },
          "metadata": {},
          "output_type": "display_data"
        },
        {
          "data": {
            "application/vnd.plotly.v1+json": {
              "config": {
                "plotlyServerURL": "https://plot.ly"
              },
              "data": [
                {
                  "line": {
                    "color": "red"
                  },
                  "marker": {
                    "color": "red",
                    "size": 10
                  },
                  "mode": "lines+markers",
                  "name": "AUC",
                  "type": "scatter",
                  "x": [
                    1,
                    2,
                    3,
                    4,
                    5,
                    6,
                    7,
                    8,
                    9,
                    10,
                    11,
                    12,
                    13,
                    14,
                    15
                  ],
                  "y": [
                    0.6080486702018334,
                    0.691109427698403,
                    0.7558542634384293,
                    0.8219458293450154,
                    0.8565585563365808,
                    0.9001892860568407,
                    0.9065666797816261,
                    0.9135127146595886,
                    0.9184973779868341,
                    0.919409552779882,
                    0.9202375569375199,
                    0.9220560341537034,
                    0.9288425363157142,
                    0.9234428921813309,
                    0.9169186892087372
                  ]
                },
                {
                  "line": {
                    "color": "green"
                  },
                  "marker": {
                    "color": "green",
                    "size": 10
                  },
                  "mode": "lines+markers",
                  "name": "Precision",
                  "type": "scatter",
                  "x": [
                    1,
                    2,
                    3,
                    4,
                    5,
                    6,
                    7,
                    8,
                    9,
                    10,
                    11,
                    12,
                    13,
                    14,
                    15
                  ],
                  "y": [
                    0.7333333333333333,
                    0.5704697986577181,
                    0.6222222222222222,
                    0.75,
                    0.8067632850241546,
                    0.7398648648648649,
                    0.7508417508417509,
                    0.8066914498141264,
                    0.8042704626334519,
                    0.78125,
                    0.8072727272727273,
                    0.7736486486486487,
                    0.8068965517241379,
                    0.797945205479452,
                    0.7993079584775087
                  ]
                },
                {
                  "line": {
                    "color": "orange"
                  },
                  "marker": {
                    "color": "orange",
                    "size": 10
                  },
                  "mode": "lines+markers",
                  "name": "Recall",
                  "type": "scatter",
                  "x": [
                    1,
                    2,
                    3,
                    4,
                    5,
                    6,
                    7,
                    8,
                    9,
                    10,
                    11,
                    12,
                    13,
                    14,
                    15
                  ],
                  "y": [
                    0.09243697478991597,
                    0.23809523809523808,
                    0.3137254901960784,
                    0.44537815126050423,
                    0.4677871148459384,
                    0.6134453781512605,
                    0.6246498599439776,
                    0.6078431372549019,
                    0.6330532212885154,
                    0.6302521008403361,
                    0.6218487394957983,
                    0.6414565826330533,
                    0.6554621848739496,
                    0.6526610644257703,
                    0.6470588235294118
                  ]
                },
                {
                  "line": {
                    "color": "blue"
                  },
                  "marker": {
                    "color": "blue",
                    "size": 10
                  },
                  "mode": "lines+markers",
                  "name": "F1-Score",
                  "type": "scatter",
                  "x": [
                    1,
                    2,
                    3,
                    4,
                    5,
                    6,
                    7,
                    8,
                    9,
                    10,
                    11,
                    12,
                    13,
                    14,
                    15
                  ],
                  "y": [
                    0.16417910447761194,
                    0.3359683794466403,
                    0.4171322160148976,
                    0.5588752196836555,
                    0.5921985815602837,
                    0.6707503828483921,
                    0.6819571865443425,
                    0.6932907348242812,
                    0.7084639498432602,
                    0.6976744186046512,
                    0.7025316455696202,
                    0.7013782542113323,
                    0.723338485316847,
                    0.7180277349768875,
                    0.7151702786377709
                  ]
                }
              ],
              "layout": {
                "template": {
                  "data": {
                    "bar": [
                      {
                        "error_x": {
                          "color": "#2a3f5f"
                        },
                        "error_y": {
                          "color": "#2a3f5f"
                        },
                        "marker": {
                          "line": {
                            "color": "white",
                            "width": 0.5
                          },
                          "pattern": {
                            "fillmode": "overlay",
                            "size": 10,
                            "solidity": 0.2
                          }
                        },
                        "type": "bar"
                      }
                    ],
                    "barpolar": [
                      {
                        "marker": {
                          "line": {
                            "color": "white",
                            "width": 0.5
                          },
                          "pattern": {
                            "fillmode": "overlay",
                            "size": 10,
                            "solidity": 0.2
                          }
                        },
                        "type": "barpolar"
                      }
                    ],
                    "carpet": [
                      {
                        "aaxis": {
                          "endlinecolor": "#2a3f5f",
                          "gridcolor": "#C8D4E3",
                          "linecolor": "#C8D4E3",
                          "minorgridcolor": "#C8D4E3",
                          "startlinecolor": "#2a3f5f"
                        },
                        "baxis": {
                          "endlinecolor": "#2a3f5f",
                          "gridcolor": "#C8D4E3",
                          "linecolor": "#C8D4E3",
                          "minorgridcolor": "#C8D4E3",
                          "startlinecolor": "#2a3f5f"
                        },
                        "type": "carpet"
                      }
                    ],
                    "choropleth": [
                      {
                        "colorbar": {
                          "outlinewidth": 0,
                          "ticks": ""
                        },
                        "type": "choropleth"
                      }
                    ],
                    "contour": [
                      {
                        "colorbar": {
                          "outlinewidth": 0,
                          "ticks": ""
                        },
                        "colorscale": [
                          [
                            0,
                            "#0d0887"
                          ],
                          [
                            0.1111111111111111,
                            "#46039f"
                          ],
                          [
                            0.2222222222222222,
                            "#7201a8"
                          ],
                          [
                            0.3333333333333333,
                            "#9c179e"
                          ],
                          [
                            0.4444444444444444,
                            "#bd3786"
                          ],
                          [
                            0.5555555555555556,
                            "#d8576b"
                          ],
                          [
                            0.6666666666666666,
                            "#ed7953"
                          ],
                          [
                            0.7777777777777778,
                            "#fb9f3a"
                          ],
                          [
                            0.8888888888888888,
                            "#fdca26"
                          ],
                          [
                            1,
                            "#f0f921"
                          ]
                        ],
                        "type": "contour"
                      }
                    ],
                    "contourcarpet": [
                      {
                        "colorbar": {
                          "outlinewidth": 0,
                          "ticks": ""
                        },
                        "type": "contourcarpet"
                      }
                    ],
                    "heatmap": [
                      {
                        "colorbar": {
                          "outlinewidth": 0,
                          "ticks": ""
                        },
                        "colorscale": [
                          [
                            0,
                            "#0d0887"
                          ],
                          [
                            0.1111111111111111,
                            "#46039f"
                          ],
                          [
                            0.2222222222222222,
                            "#7201a8"
                          ],
                          [
                            0.3333333333333333,
                            "#9c179e"
                          ],
                          [
                            0.4444444444444444,
                            "#bd3786"
                          ],
                          [
                            0.5555555555555556,
                            "#d8576b"
                          ],
                          [
                            0.6666666666666666,
                            "#ed7953"
                          ],
                          [
                            0.7777777777777778,
                            "#fb9f3a"
                          ],
                          [
                            0.8888888888888888,
                            "#fdca26"
                          ],
                          [
                            1,
                            "#f0f921"
                          ]
                        ],
                        "type": "heatmap"
                      }
                    ],
                    "heatmapgl": [
                      {
                        "colorbar": {
                          "outlinewidth": 0,
                          "ticks": ""
                        },
                        "colorscale": [
                          [
                            0,
                            "#0d0887"
                          ],
                          [
                            0.1111111111111111,
                            "#46039f"
                          ],
                          [
                            0.2222222222222222,
                            "#7201a8"
                          ],
                          [
                            0.3333333333333333,
                            "#9c179e"
                          ],
                          [
                            0.4444444444444444,
                            "#bd3786"
                          ],
                          [
                            0.5555555555555556,
                            "#d8576b"
                          ],
                          [
                            0.6666666666666666,
                            "#ed7953"
                          ],
                          [
                            0.7777777777777778,
                            "#fb9f3a"
                          ],
                          [
                            0.8888888888888888,
                            "#fdca26"
                          ],
                          [
                            1,
                            "#f0f921"
                          ]
                        ],
                        "type": "heatmapgl"
                      }
                    ],
                    "histogram": [
                      {
                        "marker": {
                          "pattern": {
                            "fillmode": "overlay",
                            "size": 10,
                            "solidity": 0.2
                          }
                        },
                        "type": "histogram"
                      }
                    ],
                    "histogram2d": [
                      {
                        "colorbar": {
                          "outlinewidth": 0,
                          "ticks": ""
                        },
                        "colorscale": [
                          [
                            0,
                            "#0d0887"
                          ],
                          [
                            0.1111111111111111,
                            "#46039f"
                          ],
                          [
                            0.2222222222222222,
                            "#7201a8"
                          ],
                          [
                            0.3333333333333333,
                            "#9c179e"
                          ],
                          [
                            0.4444444444444444,
                            "#bd3786"
                          ],
                          [
                            0.5555555555555556,
                            "#d8576b"
                          ],
                          [
                            0.6666666666666666,
                            "#ed7953"
                          ],
                          [
                            0.7777777777777778,
                            "#fb9f3a"
                          ],
                          [
                            0.8888888888888888,
                            "#fdca26"
                          ],
                          [
                            1,
                            "#f0f921"
                          ]
                        ],
                        "type": "histogram2d"
                      }
                    ],
                    "histogram2dcontour": [
                      {
                        "colorbar": {
                          "outlinewidth": 0,
                          "ticks": ""
                        },
                        "colorscale": [
                          [
                            0,
                            "#0d0887"
                          ],
                          [
                            0.1111111111111111,
                            "#46039f"
                          ],
                          [
                            0.2222222222222222,
                            "#7201a8"
                          ],
                          [
                            0.3333333333333333,
                            "#9c179e"
                          ],
                          [
                            0.4444444444444444,
                            "#bd3786"
                          ],
                          [
                            0.5555555555555556,
                            "#d8576b"
                          ],
                          [
                            0.6666666666666666,
                            "#ed7953"
                          ],
                          [
                            0.7777777777777778,
                            "#fb9f3a"
                          ],
                          [
                            0.8888888888888888,
                            "#fdca26"
                          ],
                          [
                            1,
                            "#f0f921"
                          ]
                        ],
                        "type": "histogram2dcontour"
                      }
                    ],
                    "mesh3d": [
                      {
                        "colorbar": {
                          "outlinewidth": 0,
                          "ticks": ""
                        },
                        "type": "mesh3d"
                      }
                    ],
                    "parcoords": [
                      {
                        "line": {
                          "colorbar": {
                            "outlinewidth": 0,
                            "ticks": ""
                          }
                        },
                        "type": "parcoords"
                      }
                    ],
                    "pie": [
                      {
                        "automargin": true,
                        "type": "pie"
                      }
                    ],
                    "scatter": [
                      {
                        "fillpattern": {
                          "fillmode": "overlay",
                          "size": 10,
                          "solidity": 0.2
                        },
                        "type": "scatter"
                      }
                    ],
                    "scatter3d": [
                      {
                        "line": {
                          "colorbar": {
                            "outlinewidth": 0,
                            "ticks": ""
                          }
                        },
                        "marker": {
                          "colorbar": {
                            "outlinewidth": 0,
                            "ticks": ""
                          }
                        },
                        "type": "scatter3d"
                      }
                    ],
                    "scattercarpet": [
                      {
                        "marker": {
                          "colorbar": {
                            "outlinewidth": 0,
                            "ticks": ""
                          }
                        },
                        "type": "scattercarpet"
                      }
                    ],
                    "scattergeo": [
                      {
                        "marker": {
                          "colorbar": {
                            "outlinewidth": 0,
                            "ticks": ""
                          }
                        },
                        "type": "scattergeo"
                      }
                    ],
                    "scattergl": [
                      {
                        "marker": {
                          "colorbar": {
                            "outlinewidth": 0,
                            "ticks": ""
                          }
                        },
                        "type": "scattergl"
                      }
                    ],
                    "scattermapbox": [
                      {
                        "marker": {
                          "colorbar": {
                            "outlinewidth": 0,
                            "ticks": ""
                          }
                        },
                        "type": "scattermapbox"
                      }
                    ],
                    "scatterpolar": [
                      {
                        "marker": {
                          "colorbar": {
                            "outlinewidth": 0,
                            "ticks": ""
                          }
                        },
                        "type": "scatterpolar"
                      }
                    ],
                    "scatterpolargl": [
                      {
                        "marker": {
                          "colorbar": {
                            "outlinewidth": 0,
                            "ticks": ""
                          }
                        },
                        "type": "scatterpolargl"
                      }
                    ],
                    "scatterternary": [
                      {
                        "marker": {
                          "colorbar": {
                            "outlinewidth": 0,
                            "ticks": ""
                          }
                        },
                        "type": "scatterternary"
                      }
                    ],
                    "surface": [
                      {
                        "colorbar": {
                          "outlinewidth": 0,
                          "ticks": ""
                        },
                        "colorscale": [
                          [
                            0,
                            "#0d0887"
                          ],
                          [
                            0.1111111111111111,
                            "#46039f"
                          ],
                          [
                            0.2222222222222222,
                            "#7201a8"
                          ],
                          [
                            0.3333333333333333,
                            "#9c179e"
                          ],
                          [
                            0.4444444444444444,
                            "#bd3786"
                          ],
                          [
                            0.5555555555555556,
                            "#d8576b"
                          ],
                          [
                            0.6666666666666666,
                            "#ed7953"
                          ],
                          [
                            0.7777777777777778,
                            "#fb9f3a"
                          ],
                          [
                            0.8888888888888888,
                            "#fdca26"
                          ],
                          [
                            1,
                            "#f0f921"
                          ]
                        ],
                        "type": "surface"
                      }
                    ],
                    "table": [
                      {
                        "cells": {
                          "fill": {
                            "color": "#EBF0F8"
                          },
                          "line": {
                            "color": "white"
                          }
                        },
                        "header": {
                          "fill": {
                            "color": "#C8D4E3"
                          },
                          "line": {
                            "color": "white"
                          }
                        },
                        "type": "table"
                      }
                    ]
                  },
                  "layout": {
                    "annotationdefaults": {
                      "arrowcolor": "#2a3f5f",
                      "arrowhead": 0,
                      "arrowwidth": 1
                    },
                    "autotypenumbers": "strict",
                    "coloraxis": {
                      "colorbar": {
                        "outlinewidth": 0,
                        "ticks": ""
                      }
                    },
                    "colorscale": {
                      "diverging": [
                        [
                          0,
                          "#8e0152"
                        ],
                        [
                          0.1,
                          "#c51b7d"
                        ],
                        [
                          0.2,
                          "#de77ae"
                        ],
                        [
                          0.3,
                          "#f1b6da"
                        ],
                        [
                          0.4,
                          "#fde0ef"
                        ],
                        [
                          0.5,
                          "#f7f7f7"
                        ],
                        [
                          0.6,
                          "#e6f5d0"
                        ],
                        [
                          0.7,
                          "#b8e186"
                        ],
                        [
                          0.8,
                          "#7fbc41"
                        ],
                        [
                          0.9,
                          "#4d9221"
                        ],
                        [
                          1,
                          "#276419"
                        ]
                      ],
                      "sequential": [
                        [
                          0,
                          "#0d0887"
                        ],
                        [
                          0.1111111111111111,
                          "#46039f"
                        ],
                        [
                          0.2222222222222222,
                          "#7201a8"
                        ],
                        [
                          0.3333333333333333,
                          "#9c179e"
                        ],
                        [
                          0.4444444444444444,
                          "#bd3786"
                        ],
                        [
                          0.5555555555555556,
                          "#d8576b"
                        ],
                        [
                          0.6666666666666666,
                          "#ed7953"
                        ],
                        [
                          0.7777777777777778,
                          "#fb9f3a"
                        ],
                        [
                          0.8888888888888888,
                          "#fdca26"
                        ],
                        [
                          1,
                          "#f0f921"
                        ]
                      ],
                      "sequentialminus": [
                        [
                          0,
                          "#0d0887"
                        ],
                        [
                          0.1111111111111111,
                          "#46039f"
                        ],
                        [
                          0.2222222222222222,
                          "#7201a8"
                        ],
                        [
                          0.3333333333333333,
                          "#9c179e"
                        ],
                        [
                          0.4444444444444444,
                          "#bd3786"
                        ],
                        [
                          0.5555555555555556,
                          "#d8576b"
                        ],
                        [
                          0.6666666666666666,
                          "#ed7953"
                        ],
                        [
                          0.7777777777777778,
                          "#fb9f3a"
                        ],
                        [
                          0.8888888888888888,
                          "#fdca26"
                        ],
                        [
                          1,
                          "#f0f921"
                        ]
                      ]
                    },
                    "colorway": [
                      "#636efa",
                      "#EF553B",
                      "#00cc96",
                      "#ab63fa",
                      "#FFA15A",
                      "#19d3f3",
                      "#FF6692",
                      "#B6E880",
                      "#FF97FF",
                      "#FECB52"
                    ],
                    "font": {
                      "color": "#2a3f5f"
                    },
                    "geo": {
                      "bgcolor": "white",
                      "lakecolor": "white",
                      "landcolor": "white",
                      "showlakes": true,
                      "showland": true,
                      "subunitcolor": "#C8D4E3"
                    },
                    "hoverlabel": {
                      "align": "left"
                    },
                    "hovermode": "closest",
                    "mapbox": {
                      "style": "light"
                    },
                    "paper_bgcolor": "white",
                    "plot_bgcolor": "white",
                    "polar": {
                      "angularaxis": {
                        "gridcolor": "#EBF0F8",
                        "linecolor": "#EBF0F8",
                        "ticks": ""
                      },
                      "bgcolor": "white",
                      "radialaxis": {
                        "gridcolor": "#EBF0F8",
                        "linecolor": "#EBF0F8",
                        "ticks": ""
                      }
                    },
                    "scene": {
                      "xaxis": {
                        "backgroundcolor": "white",
                        "gridcolor": "#DFE8F3",
                        "gridwidth": 2,
                        "linecolor": "#EBF0F8",
                        "showbackground": true,
                        "ticks": "",
                        "zerolinecolor": "#EBF0F8"
                      },
                      "yaxis": {
                        "backgroundcolor": "white",
                        "gridcolor": "#DFE8F3",
                        "gridwidth": 2,
                        "linecolor": "#EBF0F8",
                        "showbackground": true,
                        "ticks": "",
                        "zerolinecolor": "#EBF0F8"
                      },
                      "zaxis": {
                        "backgroundcolor": "white",
                        "gridcolor": "#DFE8F3",
                        "gridwidth": 2,
                        "linecolor": "#EBF0F8",
                        "showbackground": true,
                        "ticks": "",
                        "zerolinecolor": "#EBF0F8"
                      }
                    },
                    "shapedefaults": {
                      "line": {
                        "color": "#2a3f5f"
                      }
                    },
                    "ternary": {
                      "aaxis": {
                        "gridcolor": "#DFE8F3",
                        "linecolor": "#A2B1C6",
                        "ticks": ""
                      },
                      "baxis": {
                        "gridcolor": "#DFE8F3",
                        "linecolor": "#A2B1C6",
                        "ticks": ""
                      },
                      "bgcolor": "white",
                      "caxis": {
                        "gridcolor": "#DFE8F3",
                        "linecolor": "#A2B1C6",
                        "ticks": ""
                      }
                    },
                    "title": {
                      "x": 0.05
                    },
                    "xaxis": {
                      "automargin": true,
                      "gridcolor": "#EBF0F8",
                      "linecolor": "#EBF0F8",
                      "ticks": "",
                      "title": {
                        "standoff": 15
                      },
                      "zerolinecolor": "#EBF0F8",
                      "zerolinewidth": 2
                    },
                    "yaxis": {
                      "automargin": true,
                      "gridcolor": "#EBF0F8",
                      "linecolor": "#EBF0F8",
                      "ticks": "",
                      "title": {
                        "standoff": 15
                      },
                      "zerolinecolor": "#EBF0F8",
                      "zerolinewidth": 2
                    }
                  }
                },
                "title": {
                  "font": {
                    "size": 14
                  },
                  "text": "Évolution des métriques \n(AUC, Precision, Recall, F1)\n - Paramètres: max_depth=10, alpha=2.22, learning_rate=0.82",
                  "x": 0.5,
                  "y": 0.9
                },
                "xaxis": {
                  "tickmode": "linear",
                  "title": {
                    "text": "Nombre de variables"
                  }
                },
                "yaxis": {
                  "title": {
                    "text": "Score"
                  }
                }
              }
            }
          },
          "metadata": {},
          "output_type": "display_data"
        },
        {
          "data": {
            "application/vnd.plotly.v1+json": {
              "config": {
                "plotlyServerURL": "https://plot.ly"
              },
              "data": [
                {
                  "line": {
                    "color": "red"
                  },
                  "marker": {
                    "color": "red",
                    "size": 10
                  },
                  "mode": "lines+markers",
                  "name": "AUC",
                  "type": "scatter",
                  "x": [
                    1,
                    2,
                    3,
                    4,
                    5,
                    6,
                    7,
                    8,
                    9,
                    10,
                    11,
                    12,
                    13,
                    14,
                    15
                  ],
                  "y": [
                    0.6180786780120854,
                    0.6783350656824575,
                    0.7023119520344825,
                    0.7338426635503956,
                    0.7589979387981607,
                    0.873296768043346,
                    0.885907682430065,
                    0.8985460012097083,
                    0.8954835603004305,
                    0.8954835603004305,
                    0.8990451526522558,
                    0.8990451526522558,
                    0.8990451526522558,
                    0.9003899253621785,
                    0.8993661755407962
                  ]
                },
                {
                  "line": {
                    "color": "green"
                  },
                  "marker": {
                    "color": "green",
                    "size": 10
                  },
                  "mode": "lines+markers",
                  "name": "Precision",
                  "type": "scatter",
                  "x": [
                    1,
                    2,
                    3,
                    4,
                    5,
                    6,
                    7,
                    8,
                    9,
                    10,
                    11,
                    12,
                    13,
                    14,
                    15
                  ],
                  "y": [
                    0.9259259259259259,
                    0.8636363636363636,
                    0.8333333333333334,
                    0.8679245283018868,
                    0.8571428571428571,
                    0.711340206185567,
                    0.7087719298245614,
                    0.7463768115942029,
                    0.7435897435897436,
                    0.7435897435897436,
                    0.75,
                    0.75,
                    0.75,
                    0.7454545454545455,
                    0.7556390977443609
                  ]
                },
                {
                  "line": {
                    "color": "orange"
                  },
                  "marker": {
                    "color": "orange",
                    "size": 10
                  },
                  "mode": "lines+markers",
                  "name": "Recall",
                  "type": "scatter",
                  "x": [
                    1,
                    2,
                    3,
                    4,
                    5,
                    6,
                    7,
                    8,
                    9,
                    10,
                    11,
                    12,
                    13,
                    14,
                    15
                  ],
                  "y": [
                    0.0700280112044818,
                    0.05322128851540616,
                    0.11204481792717087,
                    0.12885154061624648,
                    0.16806722689075632,
                    0.5798319327731093,
                    0.5658263305322129,
                    0.5770308123249299,
                    0.5686274509803921,
                    0.5686274509803921,
                    0.5630252100840336,
                    0.5630252100840336,
                    0.5630252100840336,
                    0.5742296918767507,
                    0.5630252100840336
                  ]
                },
                {
                  "line": {
                    "color": "blue"
                  },
                  "marker": {
                    "color": "blue",
                    "size": 10
                  },
                  "mode": "lines+markers",
                  "name": "F1-Score",
                  "type": "scatter",
                  "x": [
                    1,
                    2,
                    3,
                    4,
                    5,
                    6,
                    7,
                    8,
                    9,
                    10,
                    11,
                    12,
                    13,
                    14,
                    15
                  ],
                  "y": [
                    0.13020833333333334,
                    0.10026385224274406,
                    0.19753086419753085,
                    0.22439024390243903,
                    0.2810304449648712,
                    0.6388888888888888,
                    0.6292834890965732,
                    0.65086887835703,
                    0.6444444444444445,
                    0.6444444444444445,
                    0.6432,
                    0.6432,
                    0.6432,
                    0.6487341772151899,
                    0.6452648475120385
                  ]
                }
              ],
              "layout": {
                "template": {
                  "data": {
                    "bar": [
                      {
                        "error_x": {
                          "color": "#2a3f5f"
                        },
                        "error_y": {
                          "color": "#2a3f5f"
                        },
                        "marker": {
                          "line": {
                            "color": "white",
                            "width": 0.5
                          },
                          "pattern": {
                            "fillmode": "overlay",
                            "size": 10,
                            "solidity": 0.2
                          }
                        },
                        "type": "bar"
                      }
                    ],
                    "barpolar": [
                      {
                        "marker": {
                          "line": {
                            "color": "white",
                            "width": 0.5
                          },
                          "pattern": {
                            "fillmode": "overlay",
                            "size": 10,
                            "solidity": 0.2
                          }
                        },
                        "type": "barpolar"
                      }
                    ],
                    "carpet": [
                      {
                        "aaxis": {
                          "endlinecolor": "#2a3f5f",
                          "gridcolor": "#C8D4E3",
                          "linecolor": "#C8D4E3",
                          "minorgridcolor": "#C8D4E3",
                          "startlinecolor": "#2a3f5f"
                        },
                        "baxis": {
                          "endlinecolor": "#2a3f5f",
                          "gridcolor": "#C8D4E3",
                          "linecolor": "#C8D4E3",
                          "minorgridcolor": "#C8D4E3",
                          "startlinecolor": "#2a3f5f"
                        },
                        "type": "carpet"
                      }
                    ],
                    "choropleth": [
                      {
                        "colorbar": {
                          "outlinewidth": 0,
                          "ticks": ""
                        },
                        "type": "choropleth"
                      }
                    ],
                    "contour": [
                      {
                        "colorbar": {
                          "outlinewidth": 0,
                          "ticks": ""
                        },
                        "colorscale": [
                          [
                            0,
                            "#0d0887"
                          ],
                          [
                            0.1111111111111111,
                            "#46039f"
                          ],
                          [
                            0.2222222222222222,
                            "#7201a8"
                          ],
                          [
                            0.3333333333333333,
                            "#9c179e"
                          ],
                          [
                            0.4444444444444444,
                            "#bd3786"
                          ],
                          [
                            0.5555555555555556,
                            "#d8576b"
                          ],
                          [
                            0.6666666666666666,
                            "#ed7953"
                          ],
                          [
                            0.7777777777777778,
                            "#fb9f3a"
                          ],
                          [
                            0.8888888888888888,
                            "#fdca26"
                          ],
                          [
                            1,
                            "#f0f921"
                          ]
                        ],
                        "type": "contour"
                      }
                    ],
                    "contourcarpet": [
                      {
                        "colorbar": {
                          "outlinewidth": 0,
                          "ticks": ""
                        },
                        "type": "contourcarpet"
                      }
                    ],
                    "heatmap": [
                      {
                        "colorbar": {
                          "outlinewidth": 0,
                          "ticks": ""
                        },
                        "colorscale": [
                          [
                            0,
                            "#0d0887"
                          ],
                          [
                            0.1111111111111111,
                            "#46039f"
                          ],
                          [
                            0.2222222222222222,
                            "#7201a8"
                          ],
                          [
                            0.3333333333333333,
                            "#9c179e"
                          ],
                          [
                            0.4444444444444444,
                            "#bd3786"
                          ],
                          [
                            0.5555555555555556,
                            "#d8576b"
                          ],
                          [
                            0.6666666666666666,
                            "#ed7953"
                          ],
                          [
                            0.7777777777777778,
                            "#fb9f3a"
                          ],
                          [
                            0.8888888888888888,
                            "#fdca26"
                          ],
                          [
                            1,
                            "#f0f921"
                          ]
                        ],
                        "type": "heatmap"
                      }
                    ],
                    "heatmapgl": [
                      {
                        "colorbar": {
                          "outlinewidth": 0,
                          "ticks": ""
                        },
                        "colorscale": [
                          [
                            0,
                            "#0d0887"
                          ],
                          [
                            0.1111111111111111,
                            "#46039f"
                          ],
                          [
                            0.2222222222222222,
                            "#7201a8"
                          ],
                          [
                            0.3333333333333333,
                            "#9c179e"
                          ],
                          [
                            0.4444444444444444,
                            "#bd3786"
                          ],
                          [
                            0.5555555555555556,
                            "#d8576b"
                          ],
                          [
                            0.6666666666666666,
                            "#ed7953"
                          ],
                          [
                            0.7777777777777778,
                            "#fb9f3a"
                          ],
                          [
                            0.8888888888888888,
                            "#fdca26"
                          ],
                          [
                            1,
                            "#f0f921"
                          ]
                        ],
                        "type": "heatmapgl"
                      }
                    ],
                    "histogram": [
                      {
                        "marker": {
                          "pattern": {
                            "fillmode": "overlay",
                            "size": 10,
                            "solidity": 0.2
                          }
                        },
                        "type": "histogram"
                      }
                    ],
                    "histogram2d": [
                      {
                        "colorbar": {
                          "outlinewidth": 0,
                          "ticks": ""
                        },
                        "colorscale": [
                          [
                            0,
                            "#0d0887"
                          ],
                          [
                            0.1111111111111111,
                            "#46039f"
                          ],
                          [
                            0.2222222222222222,
                            "#7201a8"
                          ],
                          [
                            0.3333333333333333,
                            "#9c179e"
                          ],
                          [
                            0.4444444444444444,
                            "#bd3786"
                          ],
                          [
                            0.5555555555555556,
                            "#d8576b"
                          ],
                          [
                            0.6666666666666666,
                            "#ed7953"
                          ],
                          [
                            0.7777777777777778,
                            "#fb9f3a"
                          ],
                          [
                            0.8888888888888888,
                            "#fdca26"
                          ],
                          [
                            1,
                            "#f0f921"
                          ]
                        ],
                        "type": "histogram2d"
                      }
                    ],
                    "histogram2dcontour": [
                      {
                        "colorbar": {
                          "outlinewidth": 0,
                          "ticks": ""
                        },
                        "colorscale": [
                          [
                            0,
                            "#0d0887"
                          ],
                          [
                            0.1111111111111111,
                            "#46039f"
                          ],
                          [
                            0.2222222222222222,
                            "#7201a8"
                          ],
                          [
                            0.3333333333333333,
                            "#9c179e"
                          ],
                          [
                            0.4444444444444444,
                            "#bd3786"
                          ],
                          [
                            0.5555555555555556,
                            "#d8576b"
                          ],
                          [
                            0.6666666666666666,
                            "#ed7953"
                          ],
                          [
                            0.7777777777777778,
                            "#fb9f3a"
                          ],
                          [
                            0.8888888888888888,
                            "#fdca26"
                          ],
                          [
                            1,
                            "#f0f921"
                          ]
                        ],
                        "type": "histogram2dcontour"
                      }
                    ],
                    "mesh3d": [
                      {
                        "colorbar": {
                          "outlinewidth": 0,
                          "ticks": ""
                        },
                        "type": "mesh3d"
                      }
                    ],
                    "parcoords": [
                      {
                        "line": {
                          "colorbar": {
                            "outlinewidth": 0,
                            "ticks": ""
                          }
                        },
                        "type": "parcoords"
                      }
                    ],
                    "pie": [
                      {
                        "automargin": true,
                        "type": "pie"
                      }
                    ],
                    "scatter": [
                      {
                        "fillpattern": {
                          "fillmode": "overlay",
                          "size": 10,
                          "solidity": 0.2
                        },
                        "type": "scatter"
                      }
                    ],
                    "scatter3d": [
                      {
                        "line": {
                          "colorbar": {
                            "outlinewidth": 0,
                            "ticks": ""
                          }
                        },
                        "marker": {
                          "colorbar": {
                            "outlinewidth": 0,
                            "ticks": ""
                          }
                        },
                        "type": "scatter3d"
                      }
                    ],
                    "scattercarpet": [
                      {
                        "marker": {
                          "colorbar": {
                            "outlinewidth": 0,
                            "ticks": ""
                          }
                        },
                        "type": "scattercarpet"
                      }
                    ],
                    "scattergeo": [
                      {
                        "marker": {
                          "colorbar": {
                            "outlinewidth": 0,
                            "ticks": ""
                          }
                        },
                        "type": "scattergeo"
                      }
                    ],
                    "scattergl": [
                      {
                        "marker": {
                          "colorbar": {
                            "outlinewidth": 0,
                            "ticks": ""
                          }
                        },
                        "type": "scattergl"
                      }
                    ],
                    "scattermapbox": [
                      {
                        "marker": {
                          "colorbar": {
                            "outlinewidth": 0,
                            "ticks": ""
                          }
                        },
                        "type": "scattermapbox"
                      }
                    ],
                    "scatterpolar": [
                      {
                        "marker": {
                          "colorbar": {
                            "outlinewidth": 0,
                            "ticks": ""
                          }
                        },
                        "type": "scatterpolar"
                      }
                    ],
                    "scatterpolargl": [
                      {
                        "marker": {
                          "colorbar": {
                            "outlinewidth": 0,
                            "ticks": ""
                          }
                        },
                        "type": "scatterpolargl"
                      }
                    ],
                    "scatterternary": [
                      {
                        "marker": {
                          "colorbar": {
                            "outlinewidth": 0,
                            "ticks": ""
                          }
                        },
                        "type": "scatterternary"
                      }
                    ],
                    "surface": [
                      {
                        "colorbar": {
                          "outlinewidth": 0,
                          "ticks": ""
                        },
                        "colorscale": [
                          [
                            0,
                            "#0d0887"
                          ],
                          [
                            0.1111111111111111,
                            "#46039f"
                          ],
                          [
                            0.2222222222222222,
                            "#7201a8"
                          ],
                          [
                            0.3333333333333333,
                            "#9c179e"
                          ],
                          [
                            0.4444444444444444,
                            "#bd3786"
                          ],
                          [
                            0.5555555555555556,
                            "#d8576b"
                          ],
                          [
                            0.6666666666666666,
                            "#ed7953"
                          ],
                          [
                            0.7777777777777778,
                            "#fb9f3a"
                          ],
                          [
                            0.8888888888888888,
                            "#fdca26"
                          ],
                          [
                            1,
                            "#f0f921"
                          ]
                        ],
                        "type": "surface"
                      }
                    ],
                    "table": [
                      {
                        "cells": {
                          "fill": {
                            "color": "#EBF0F8"
                          },
                          "line": {
                            "color": "white"
                          }
                        },
                        "header": {
                          "fill": {
                            "color": "#C8D4E3"
                          },
                          "line": {
                            "color": "white"
                          }
                        },
                        "type": "table"
                      }
                    ]
                  },
                  "layout": {
                    "annotationdefaults": {
                      "arrowcolor": "#2a3f5f",
                      "arrowhead": 0,
                      "arrowwidth": 1
                    },
                    "autotypenumbers": "strict",
                    "coloraxis": {
                      "colorbar": {
                        "outlinewidth": 0,
                        "ticks": ""
                      }
                    },
                    "colorscale": {
                      "diverging": [
                        [
                          0,
                          "#8e0152"
                        ],
                        [
                          0.1,
                          "#c51b7d"
                        ],
                        [
                          0.2,
                          "#de77ae"
                        ],
                        [
                          0.3,
                          "#f1b6da"
                        ],
                        [
                          0.4,
                          "#fde0ef"
                        ],
                        [
                          0.5,
                          "#f7f7f7"
                        ],
                        [
                          0.6,
                          "#e6f5d0"
                        ],
                        [
                          0.7,
                          "#b8e186"
                        ],
                        [
                          0.8,
                          "#7fbc41"
                        ],
                        [
                          0.9,
                          "#4d9221"
                        ],
                        [
                          1,
                          "#276419"
                        ]
                      ],
                      "sequential": [
                        [
                          0,
                          "#0d0887"
                        ],
                        [
                          0.1111111111111111,
                          "#46039f"
                        ],
                        [
                          0.2222222222222222,
                          "#7201a8"
                        ],
                        [
                          0.3333333333333333,
                          "#9c179e"
                        ],
                        [
                          0.4444444444444444,
                          "#bd3786"
                        ],
                        [
                          0.5555555555555556,
                          "#d8576b"
                        ],
                        [
                          0.6666666666666666,
                          "#ed7953"
                        ],
                        [
                          0.7777777777777778,
                          "#fb9f3a"
                        ],
                        [
                          0.8888888888888888,
                          "#fdca26"
                        ],
                        [
                          1,
                          "#f0f921"
                        ]
                      ],
                      "sequentialminus": [
                        [
                          0,
                          "#0d0887"
                        ],
                        [
                          0.1111111111111111,
                          "#46039f"
                        ],
                        [
                          0.2222222222222222,
                          "#7201a8"
                        ],
                        [
                          0.3333333333333333,
                          "#9c179e"
                        ],
                        [
                          0.4444444444444444,
                          "#bd3786"
                        ],
                        [
                          0.5555555555555556,
                          "#d8576b"
                        ],
                        [
                          0.6666666666666666,
                          "#ed7953"
                        ],
                        [
                          0.7777777777777778,
                          "#fb9f3a"
                        ],
                        [
                          0.8888888888888888,
                          "#fdca26"
                        ],
                        [
                          1,
                          "#f0f921"
                        ]
                      ]
                    },
                    "colorway": [
                      "#636efa",
                      "#EF553B",
                      "#00cc96",
                      "#ab63fa",
                      "#FFA15A",
                      "#19d3f3",
                      "#FF6692",
                      "#B6E880",
                      "#FF97FF",
                      "#FECB52"
                    ],
                    "font": {
                      "color": "#2a3f5f"
                    },
                    "geo": {
                      "bgcolor": "white",
                      "lakecolor": "white",
                      "landcolor": "white",
                      "showlakes": true,
                      "showland": true,
                      "subunitcolor": "#C8D4E3"
                    },
                    "hoverlabel": {
                      "align": "left"
                    },
                    "hovermode": "closest",
                    "mapbox": {
                      "style": "light"
                    },
                    "paper_bgcolor": "white",
                    "plot_bgcolor": "white",
                    "polar": {
                      "angularaxis": {
                        "gridcolor": "#EBF0F8",
                        "linecolor": "#EBF0F8",
                        "ticks": ""
                      },
                      "bgcolor": "white",
                      "radialaxis": {
                        "gridcolor": "#EBF0F8",
                        "linecolor": "#EBF0F8",
                        "ticks": ""
                      }
                    },
                    "scene": {
                      "xaxis": {
                        "backgroundcolor": "white",
                        "gridcolor": "#DFE8F3",
                        "gridwidth": 2,
                        "linecolor": "#EBF0F8",
                        "showbackground": true,
                        "ticks": "",
                        "zerolinecolor": "#EBF0F8"
                      },
                      "yaxis": {
                        "backgroundcolor": "white",
                        "gridcolor": "#DFE8F3",
                        "gridwidth": 2,
                        "linecolor": "#EBF0F8",
                        "showbackground": true,
                        "ticks": "",
                        "zerolinecolor": "#EBF0F8"
                      },
                      "zaxis": {
                        "backgroundcolor": "white",
                        "gridcolor": "#DFE8F3",
                        "gridwidth": 2,
                        "linecolor": "#EBF0F8",
                        "showbackground": true,
                        "ticks": "",
                        "zerolinecolor": "#EBF0F8"
                      }
                    },
                    "shapedefaults": {
                      "line": {
                        "color": "#2a3f5f"
                      }
                    },
                    "ternary": {
                      "aaxis": {
                        "gridcolor": "#DFE8F3",
                        "linecolor": "#A2B1C6",
                        "ticks": ""
                      },
                      "baxis": {
                        "gridcolor": "#DFE8F3",
                        "linecolor": "#A2B1C6",
                        "ticks": ""
                      },
                      "bgcolor": "white",
                      "caxis": {
                        "gridcolor": "#DFE8F3",
                        "linecolor": "#A2B1C6",
                        "ticks": ""
                      }
                    },
                    "title": {
                      "x": 0.05
                    },
                    "xaxis": {
                      "automargin": true,
                      "gridcolor": "#EBF0F8",
                      "linecolor": "#EBF0F8",
                      "ticks": "",
                      "title": {
                        "standoff": 15
                      },
                      "zerolinecolor": "#EBF0F8",
                      "zerolinewidth": 2
                    },
                    "yaxis": {
                      "automargin": true,
                      "gridcolor": "#EBF0F8",
                      "linecolor": "#EBF0F8",
                      "ticks": "",
                      "title": {
                        "standoff": 15
                      },
                      "zerolinecolor": "#EBF0F8",
                      "zerolinewidth": 2
                    }
                  }
                },
                "title": {
                  "font": {
                    "size": 14
                  },
                  "text": "Évolution des métriques \n(AUC, Precision, Recall, F1)\n - Paramètres: max_depth=8, alpha=16.52, learning_rate=0.43",
                  "x": 0.5,
                  "y": 0.9
                },
                "xaxis": {
                  "tickmode": "linear",
                  "title": {
                    "text": "Nombre de variables"
                  }
                },
                "yaxis": {
                  "title": {
                    "text": "Score"
                  }
                }
              }
            }
          },
          "metadata": {},
          "output_type": "display_data"
        },
        {
          "data": {
            "application/vnd.plotly.v1+json": {
              "config": {
                "plotlyServerURL": "https://plot.ly"
              },
              "data": [
                {
                  "line": {
                    "color": "red"
                  },
                  "marker": {
                    "color": "red",
                    "size": 10
                  },
                  "mode": "lines+markers",
                  "name": "AUC",
                  "type": "scatter",
                  "x": [
                    1,
                    2,
                    3,
                    4,
                    5,
                    6,
                    7,
                    8,
                    9,
                    10,
                    11,
                    12,
                    13,
                    14,
                    15
                  ],
                  "y": [
                    0.5985158563774916,
                    0.6714252437522877,
                    0.6979830366807799,
                    0.7250204064854453,
                    0.7378740454952072,
                    0.8602640217512582,
                    0.8654679202218973,
                    0.8816316184055734,
                    0.8852176789653667,
                    0.8852176789653667,
                    0.8867709208071769,
                    0.8867709208071769,
                    0.8867709208071769,
                    0.8867709208071769,
                    0.8867709208071769
                  ]
                },
                {
                  "line": {
                    "color": "green"
                  },
                  "marker": {
                    "color": "green",
                    "size": 10
                  },
                  "mode": "lines+markers",
                  "name": "Precision",
                  "type": "scatter",
                  "x": [
                    1,
                    2,
                    3,
                    4,
                    5,
                    6,
                    7,
                    8,
                    9,
                    10,
                    11,
                    12,
                    13,
                    14,
                    15
                  ],
                  "y": [
                    0.9259259259259259,
                    0.8571428571428571,
                    0.8,
                    0.875,
                    0.8,
                    0.6931034482758621,
                    0.6931034482758621,
                    0.7330827067669173,
                    0.7601626016260162,
                    0.7601626016260162,
                    0.7768595041322314,
                    0.7768595041322314,
                    0.7768595041322314,
                    0.7768595041322314,
                    0.7768595041322314
                  ]
                },
                {
                  "line": {
                    "color": "orange"
                  },
                  "marker": {
                    "color": "orange",
                    "size": 10
                  },
                  "mode": "lines+markers",
                  "name": "Recall",
                  "type": "scatter",
                  "x": [
                    1,
                    2,
                    3,
                    4,
                    5,
                    6,
                    7,
                    8,
                    9,
                    10,
                    11,
                    12,
                    13,
                    14,
                    15
                  ],
                  "y": [
                    0.0700280112044818,
                    0.05042016806722689,
                    0.03361344537815126,
                    0.058823529411764705,
                    0.022408963585434174,
                    0.5630252100840336,
                    0.5630252100840336,
                    0.5462184873949579,
                    0.5238095238095238,
                    0.5238095238095238,
                    0.5266106442577031,
                    0.5266106442577031,
                    0.5266106442577031,
                    0.5266106442577031,
                    0.5266106442577031
                  ]
                },
                {
                  "line": {
                    "color": "blue"
                  },
                  "marker": {
                    "color": "blue",
                    "size": 10
                  },
                  "mode": "lines+markers",
                  "name": "F1-Score",
                  "type": "scatter",
                  "x": [
                    1,
                    2,
                    3,
                    4,
                    5,
                    6,
                    7,
                    8,
                    9,
                    10,
                    11,
                    12,
                    13,
                    14,
                    15
                  ],
                  "y": [
                    0.13020833333333334,
                    0.09523809523809523,
                    0.06451612903225806,
                    0.11023622047244094,
                    0.043596730245231606,
                    0.6213292117465224,
                    0.6213292117465224,
                    0.6260032102728732,
                    0.6202321724709784,
                    0.6202321724709784,
                    0.6277128547579299,
                    0.6277128547579299,
                    0.6277128547579299,
                    0.6277128547579299,
                    0.6277128547579299
                  ]
                }
              ],
              "layout": {
                "template": {
                  "data": {
                    "bar": [
                      {
                        "error_x": {
                          "color": "#2a3f5f"
                        },
                        "error_y": {
                          "color": "#2a3f5f"
                        },
                        "marker": {
                          "line": {
                            "color": "white",
                            "width": 0.5
                          },
                          "pattern": {
                            "fillmode": "overlay",
                            "size": 10,
                            "solidity": 0.2
                          }
                        },
                        "type": "bar"
                      }
                    ],
                    "barpolar": [
                      {
                        "marker": {
                          "line": {
                            "color": "white",
                            "width": 0.5
                          },
                          "pattern": {
                            "fillmode": "overlay",
                            "size": 10,
                            "solidity": 0.2
                          }
                        },
                        "type": "barpolar"
                      }
                    ],
                    "carpet": [
                      {
                        "aaxis": {
                          "endlinecolor": "#2a3f5f",
                          "gridcolor": "#C8D4E3",
                          "linecolor": "#C8D4E3",
                          "minorgridcolor": "#C8D4E3",
                          "startlinecolor": "#2a3f5f"
                        },
                        "baxis": {
                          "endlinecolor": "#2a3f5f",
                          "gridcolor": "#C8D4E3",
                          "linecolor": "#C8D4E3",
                          "minorgridcolor": "#C8D4E3",
                          "startlinecolor": "#2a3f5f"
                        },
                        "type": "carpet"
                      }
                    ],
                    "choropleth": [
                      {
                        "colorbar": {
                          "outlinewidth": 0,
                          "ticks": ""
                        },
                        "type": "choropleth"
                      }
                    ],
                    "contour": [
                      {
                        "colorbar": {
                          "outlinewidth": 0,
                          "ticks": ""
                        },
                        "colorscale": [
                          [
                            0,
                            "#0d0887"
                          ],
                          [
                            0.1111111111111111,
                            "#46039f"
                          ],
                          [
                            0.2222222222222222,
                            "#7201a8"
                          ],
                          [
                            0.3333333333333333,
                            "#9c179e"
                          ],
                          [
                            0.4444444444444444,
                            "#bd3786"
                          ],
                          [
                            0.5555555555555556,
                            "#d8576b"
                          ],
                          [
                            0.6666666666666666,
                            "#ed7953"
                          ],
                          [
                            0.7777777777777778,
                            "#fb9f3a"
                          ],
                          [
                            0.8888888888888888,
                            "#fdca26"
                          ],
                          [
                            1,
                            "#f0f921"
                          ]
                        ],
                        "type": "contour"
                      }
                    ],
                    "contourcarpet": [
                      {
                        "colorbar": {
                          "outlinewidth": 0,
                          "ticks": ""
                        },
                        "type": "contourcarpet"
                      }
                    ],
                    "heatmap": [
                      {
                        "colorbar": {
                          "outlinewidth": 0,
                          "ticks": ""
                        },
                        "colorscale": [
                          [
                            0,
                            "#0d0887"
                          ],
                          [
                            0.1111111111111111,
                            "#46039f"
                          ],
                          [
                            0.2222222222222222,
                            "#7201a8"
                          ],
                          [
                            0.3333333333333333,
                            "#9c179e"
                          ],
                          [
                            0.4444444444444444,
                            "#bd3786"
                          ],
                          [
                            0.5555555555555556,
                            "#d8576b"
                          ],
                          [
                            0.6666666666666666,
                            "#ed7953"
                          ],
                          [
                            0.7777777777777778,
                            "#fb9f3a"
                          ],
                          [
                            0.8888888888888888,
                            "#fdca26"
                          ],
                          [
                            1,
                            "#f0f921"
                          ]
                        ],
                        "type": "heatmap"
                      }
                    ],
                    "heatmapgl": [
                      {
                        "colorbar": {
                          "outlinewidth": 0,
                          "ticks": ""
                        },
                        "colorscale": [
                          [
                            0,
                            "#0d0887"
                          ],
                          [
                            0.1111111111111111,
                            "#46039f"
                          ],
                          [
                            0.2222222222222222,
                            "#7201a8"
                          ],
                          [
                            0.3333333333333333,
                            "#9c179e"
                          ],
                          [
                            0.4444444444444444,
                            "#bd3786"
                          ],
                          [
                            0.5555555555555556,
                            "#d8576b"
                          ],
                          [
                            0.6666666666666666,
                            "#ed7953"
                          ],
                          [
                            0.7777777777777778,
                            "#fb9f3a"
                          ],
                          [
                            0.8888888888888888,
                            "#fdca26"
                          ],
                          [
                            1,
                            "#f0f921"
                          ]
                        ],
                        "type": "heatmapgl"
                      }
                    ],
                    "histogram": [
                      {
                        "marker": {
                          "pattern": {
                            "fillmode": "overlay",
                            "size": 10,
                            "solidity": 0.2
                          }
                        },
                        "type": "histogram"
                      }
                    ],
                    "histogram2d": [
                      {
                        "colorbar": {
                          "outlinewidth": 0,
                          "ticks": ""
                        },
                        "colorscale": [
                          [
                            0,
                            "#0d0887"
                          ],
                          [
                            0.1111111111111111,
                            "#46039f"
                          ],
                          [
                            0.2222222222222222,
                            "#7201a8"
                          ],
                          [
                            0.3333333333333333,
                            "#9c179e"
                          ],
                          [
                            0.4444444444444444,
                            "#bd3786"
                          ],
                          [
                            0.5555555555555556,
                            "#d8576b"
                          ],
                          [
                            0.6666666666666666,
                            "#ed7953"
                          ],
                          [
                            0.7777777777777778,
                            "#fb9f3a"
                          ],
                          [
                            0.8888888888888888,
                            "#fdca26"
                          ],
                          [
                            1,
                            "#f0f921"
                          ]
                        ],
                        "type": "histogram2d"
                      }
                    ],
                    "histogram2dcontour": [
                      {
                        "colorbar": {
                          "outlinewidth": 0,
                          "ticks": ""
                        },
                        "colorscale": [
                          [
                            0,
                            "#0d0887"
                          ],
                          [
                            0.1111111111111111,
                            "#46039f"
                          ],
                          [
                            0.2222222222222222,
                            "#7201a8"
                          ],
                          [
                            0.3333333333333333,
                            "#9c179e"
                          ],
                          [
                            0.4444444444444444,
                            "#bd3786"
                          ],
                          [
                            0.5555555555555556,
                            "#d8576b"
                          ],
                          [
                            0.6666666666666666,
                            "#ed7953"
                          ],
                          [
                            0.7777777777777778,
                            "#fb9f3a"
                          ],
                          [
                            0.8888888888888888,
                            "#fdca26"
                          ],
                          [
                            1,
                            "#f0f921"
                          ]
                        ],
                        "type": "histogram2dcontour"
                      }
                    ],
                    "mesh3d": [
                      {
                        "colorbar": {
                          "outlinewidth": 0,
                          "ticks": ""
                        },
                        "type": "mesh3d"
                      }
                    ],
                    "parcoords": [
                      {
                        "line": {
                          "colorbar": {
                            "outlinewidth": 0,
                            "ticks": ""
                          }
                        },
                        "type": "parcoords"
                      }
                    ],
                    "pie": [
                      {
                        "automargin": true,
                        "type": "pie"
                      }
                    ],
                    "scatter": [
                      {
                        "fillpattern": {
                          "fillmode": "overlay",
                          "size": 10,
                          "solidity": 0.2
                        },
                        "type": "scatter"
                      }
                    ],
                    "scatter3d": [
                      {
                        "line": {
                          "colorbar": {
                            "outlinewidth": 0,
                            "ticks": ""
                          }
                        },
                        "marker": {
                          "colorbar": {
                            "outlinewidth": 0,
                            "ticks": ""
                          }
                        },
                        "type": "scatter3d"
                      }
                    ],
                    "scattercarpet": [
                      {
                        "marker": {
                          "colorbar": {
                            "outlinewidth": 0,
                            "ticks": ""
                          }
                        },
                        "type": "scattercarpet"
                      }
                    ],
                    "scattergeo": [
                      {
                        "marker": {
                          "colorbar": {
                            "outlinewidth": 0,
                            "ticks": ""
                          }
                        },
                        "type": "scattergeo"
                      }
                    ],
                    "scattergl": [
                      {
                        "marker": {
                          "colorbar": {
                            "outlinewidth": 0,
                            "ticks": ""
                          }
                        },
                        "type": "scattergl"
                      }
                    ],
                    "scattermapbox": [
                      {
                        "marker": {
                          "colorbar": {
                            "outlinewidth": 0,
                            "ticks": ""
                          }
                        },
                        "type": "scattermapbox"
                      }
                    ],
                    "scatterpolar": [
                      {
                        "marker": {
                          "colorbar": {
                            "outlinewidth": 0,
                            "ticks": ""
                          }
                        },
                        "type": "scatterpolar"
                      }
                    ],
                    "scatterpolargl": [
                      {
                        "marker": {
                          "colorbar": {
                            "outlinewidth": 0,
                            "ticks": ""
                          }
                        },
                        "type": "scatterpolargl"
                      }
                    ],
                    "scatterternary": [
                      {
                        "marker": {
                          "colorbar": {
                            "outlinewidth": 0,
                            "ticks": ""
                          }
                        },
                        "type": "scatterternary"
                      }
                    ],
                    "surface": [
                      {
                        "colorbar": {
                          "outlinewidth": 0,
                          "ticks": ""
                        },
                        "colorscale": [
                          [
                            0,
                            "#0d0887"
                          ],
                          [
                            0.1111111111111111,
                            "#46039f"
                          ],
                          [
                            0.2222222222222222,
                            "#7201a8"
                          ],
                          [
                            0.3333333333333333,
                            "#9c179e"
                          ],
                          [
                            0.4444444444444444,
                            "#bd3786"
                          ],
                          [
                            0.5555555555555556,
                            "#d8576b"
                          ],
                          [
                            0.6666666666666666,
                            "#ed7953"
                          ],
                          [
                            0.7777777777777778,
                            "#fb9f3a"
                          ],
                          [
                            0.8888888888888888,
                            "#fdca26"
                          ],
                          [
                            1,
                            "#f0f921"
                          ]
                        ],
                        "type": "surface"
                      }
                    ],
                    "table": [
                      {
                        "cells": {
                          "fill": {
                            "color": "#EBF0F8"
                          },
                          "line": {
                            "color": "white"
                          }
                        },
                        "header": {
                          "fill": {
                            "color": "#C8D4E3"
                          },
                          "line": {
                            "color": "white"
                          }
                        },
                        "type": "table"
                      }
                    ]
                  },
                  "layout": {
                    "annotationdefaults": {
                      "arrowcolor": "#2a3f5f",
                      "arrowhead": 0,
                      "arrowwidth": 1
                    },
                    "autotypenumbers": "strict",
                    "coloraxis": {
                      "colorbar": {
                        "outlinewidth": 0,
                        "ticks": ""
                      }
                    },
                    "colorscale": {
                      "diverging": [
                        [
                          0,
                          "#8e0152"
                        ],
                        [
                          0.1,
                          "#c51b7d"
                        ],
                        [
                          0.2,
                          "#de77ae"
                        ],
                        [
                          0.3,
                          "#f1b6da"
                        ],
                        [
                          0.4,
                          "#fde0ef"
                        ],
                        [
                          0.5,
                          "#f7f7f7"
                        ],
                        [
                          0.6,
                          "#e6f5d0"
                        ],
                        [
                          0.7,
                          "#b8e186"
                        ],
                        [
                          0.8,
                          "#7fbc41"
                        ],
                        [
                          0.9,
                          "#4d9221"
                        ],
                        [
                          1,
                          "#276419"
                        ]
                      ],
                      "sequential": [
                        [
                          0,
                          "#0d0887"
                        ],
                        [
                          0.1111111111111111,
                          "#46039f"
                        ],
                        [
                          0.2222222222222222,
                          "#7201a8"
                        ],
                        [
                          0.3333333333333333,
                          "#9c179e"
                        ],
                        [
                          0.4444444444444444,
                          "#bd3786"
                        ],
                        [
                          0.5555555555555556,
                          "#d8576b"
                        ],
                        [
                          0.6666666666666666,
                          "#ed7953"
                        ],
                        [
                          0.7777777777777778,
                          "#fb9f3a"
                        ],
                        [
                          0.8888888888888888,
                          "#fdca26"
                        ],
                        [
                          1,
                          "#f0f921"
                        ]
                      ],
                      "sequentialminus": [
                        [
                          0,
                          "#0d0887"
                        ],
                        [
                          0.1111111111111111,
                          "#46039f"
                        ],
                        [
                          0.2222222222222222,
                          "#7201a8"
                        ],
                        [
                          0.3333333333333333,
                          "#9c179e"
                        ],
                        [
                          0.4444444444444444,
                          "#bd3786"
                        ],
                        [
                          0.5555555555555556,
                          "#d8576b"
                        ],
                        [
                          0.6666666666666666,
                          "#ed7953"
                        ],
                        [
                          0.7777777777777778,
                          "#fb9f3a"
                        ],
                        [
                          0.8888888888888888,
                          "#fdca26"
                        ],
                        [
                          1,
                          "#f0f921"
                        ]
                      ]
                    },
                    "colorway": [
                      "#636efa",
                      "#EF553B",
                      "#00cc96",
                      "#ab63fa",
                      "#FFA15A",
                      "#19d3f3",
                      "#FF6692",
                      "#B6E880",
                      "#FF97FF",
                      "#FECB52"
                    ],
                    "font": {
                      "color": "#2a3f5f"
                    },
                    "geo": {
                      "bgcolor": "white",
                      "lakecolor": "white",
                      "landcolor": "white",
                      "showlakes": true,
                      "showland": true,
                      "subunitcolor": "#C8D4E3"
                    },
                    "hoverlabel": {
                      "align": "left"
                    },
                    "hovermode": "closest",
                    "mapbox": {
                      "style": "light"
                    },
                    "paper_bgcolor": "white",
                    "plot_bgcolor": "white",
                    "polar": {
                      "angularaxis": {
                        "gridcolor": "#EBF0F8",
                        "linecolor": "#EBF0F8",
                        "ticks": ""
                      },
                      "bgcolor": "white",
                      "radialaxis": {
                        "gridcolor": "#EBF0F8",
                        "linecolor": "#EBF0F8",
                        "ticks": ""
                      }
                    },
                    "scene": {
                      "xaxis": {
                        "backgroundcolor": "white",
                        "gridcolor": "#DFE8F3",
                        "gridwidth": 2,
                        "linecolor": "#EBF0F8",
                        "showbackground": true,
                        "ticks": "",
                        "zerolinecolor": "#EBF0F8"
                      },
                      "yaxis": {
                        "backgroundcolor": "white",
                        "gridcolor": "#DFE8F3",
                        "gridwidth": 2,
                        "linecolor": "#EBF0F8",
                        "showbackground": true,
                        "ticks": "",
                        "zerolinecolor": "#EBF0F8"
                      },
                      "zaxis": {
                        "backgroundcolor": "white",
                        "gridcolor": "#DFE8F3",
                        "gridwidth": 2,
                        "linecolor": "#EBF0F8",
                        "showbackground": true,
                        "ticks": "",
                        "zerolinecolor": "#EBF0F8"
                      }
                    },
                    "shapedefaults": {
                      "line": {
                        "color": "#2a3f5f"
                      }
                    },
                    "ternary": {
                      "aaxis": {
                        "gridcolor": "#DFE8F3",
                        "linecolor": "#A2B1C6",
                        "ticks": ""
                      },
                      "baxis": {
                        "gridcolor": "#DFE8F3",
                        "linecolor": "#A2B1C6",
                        "ticks": ""
                      },
                      "bgcolor": "white",
                      "caxis": {
                        "gridcolor": "#DFE8F3",
                        "linecolor": "#A2B1C6",
                        "ticks": ""
                      }
                    },
                    "title": {
                      "x": 0.05
                    },
                    "xaxis": {
                      "automargin": true,
                      "gridcolor": "#EBF0F8",
                      "linecolor": "#EBF0F8",
                      "ticks": "",
                      "title": {
                        "standoff": 15
                      },
                      "zerolinecolor": "#EBF0F8",
                      "zerolinewidth": 2
                    },
                    "yaxis": {
                      "automargin": true,
                      "gridcolor": "#EBF0F8",
                      "linecolor": "#EBF0F8",
                      "ticks": "",
                      "title": {
                        "standoff": 15
                      },
                      "zerolinecolor": "#EBF0F8",
                      "zerolinewidth": 2
                    }
                  }
                },
                "title": {
                  "font": {
                    "size": 14
                  },
                  "text": "Évolution des métriques \n(AUC, Precision, Recall, F1)\n - Paramètres: max_depth=6, alpha=15.17, learning_rate=0.19",
                  "x": 0.5,
                  "y": 0.9
                },
                "xaxis": {
                  "tickmode": "linear",
                  "title": {
                    "text": "Nombre de variables"
                  }
                },
                "yaxis": {
                  "title": {
                    "text": "Score"
                  }
                }
              }
            }
          },
          "metadata": {},
          "output_type": "display_data"
        },
        {
          "data": {
            "application/vnd.plotly.v1+json": {
              "config": {
                "plotlyServerURL": "https://plot.ly"
              },
              "data": [
                {
                  "line": {
                    "color": "red"
                  },
                  "marker": {
                    "color": "red",
                    "size": 10
                  },
                  "mode": "lines+markers",
                  "name": "AUC",
                  "type": "scatter",
                  "x": [
                    1,
                    2,
                    3,
                    4,
                    5,
                    6,
                    7,
                    8,
                    9,
                    10,
                    11,
                    12,
                    13,
                    14,
                    15
                  ],
                  "y": [
                    0.6166223302738286,
                    0.677652892044309,
                    0.7072799769803099,
                    0.7351022868965894,
                    0.7461883425627415,
                    0.8808212313576724,
                    0.8829568165491214,
                    0.8958329663102138,
                    0.8982827232919722,
                    0.8982827232919722,
                    0.9023082328668715,
                    0.9009096300994193,
                    0.9009096300994193,
                    0.9009096300994193,
                    0.9009096300994193
                  ]
                },
                {
                  "line": {
                    "color": "green"
                  },
                  "marker": {
                    "color": "green",
                    "size": 10
                  },
                  "mode": "lines+markers",
                  "name": "Precision",
                  "type": "scatter",
                  "x": [
                    1,
                    2,
                    3,
                    4,
                    5,
                    6,
                    7,
                    8,
                    9,
                    10,
                    11,
                    12,
                    13,
                    14,
                    15
                  ],
                  "y": [
                    0.9259259259259259,
                    0.8571428571428571,
                    0.7375,
                    0.7731958762886598,
                    0.82,
                    0.7235494880546075,
                    0.714765100671141,
                    0.7627737226277372,
                    0.7725631768953068,
                    0.7725631768953068,
                    0.7789855072463768,
                    0.7749077490774908,
                    0.7749077490774908,
                    0.7749077490774908,
                    0.7749077490774908
                  ]
                },
                {
                  "line": {
                    "color": "orange"
                  },
                  "marker": {
                    "color": "orange",
                    "size": 10
                  },
                  "mode": "lines+markers",
                  "name": "Recall",
                  "type": "scatter",
                  "x": [
                    1,
                    2,
                    3,
                    4,
                    5,
                    6,
                    7,
                    8,
                    9,
                    10,
                    11,
                    12,
                    13,
                    14,
                    15
                  ],
                  "y": [
                    0.0700280112044818,
                    0.06722689075630252,
                    0.16526610644257703,
                    0.21008403361344538,
                    0.22969187675070027,
                    0.5938375350140056,
                    0.5966386554621849,
                    0.5854341736694678,
                    0.5994397759103641,
                    0.5994397759103641,
                    0.6022408963585434,
                    0.5882352941176471,
                    0.5882352941176471,
                    0.5882352941176471,
                    0.5882352941176471
                  ]
                },
                {
                  "line": {
                    "color": "blue"
                  },
                  "marker": {
                    "color": "blue",
                    "size": 10
                  },
                  "mode": "lines+markers",
                  "name": "F1-Score",
                  "type": "scatter",
                  "x": [
                    1,
                    2,
                    3,
                    4,
                    5,
                    6,
                    7,
                    8,
                    9,
                    10,
                    11,
                    12,
                    13,
                    14,
                    15
                  ],
                  "y": [
                    0.13020833333333334,
                    0.12467532467532468,
                    0.2700228832951945,
                    0.3303964757709251,
                    0.3588621444201313,
                    0.6523076923076923,
                    0.650381679389313,
                    0.6624405705229794,
                    0.6750788643533123,
                    0.6750788643533123,
                    0.6793048973143759,
                    0.6687898089171974,
                    0.6687898089171974,
                    0.6687898089171974,
                    0.6687898089171974
                  ]
                }
              ],
              "layout": {
                "template": {
                  "data": {
                    "bar": [
                      {
                        "error_x": {
                          "color": "#2a3f5f"
                        },
                        "error_y": {
                          "color": "#2a3f5f"
                        },
                        "marker": {
                          "line": {
                            "color": "white",
                            "width": 0.5
                          },
                          "pattern": {
                            "fillmode": "overlay",
                            "size": 10,
                            "solidity": 0.2
                          }
                        },
                        "type": "bar"
                      }
                    ],
                    "barpolar": [
                      {
                        "marker": {
                          "line": {
                            "color": "white",
                            "width": 0.5
                          },
                          "pattern": {
                            "fillmode": "overlay",
                            "size": 10,
                            "solidity": 0.2
                          }
                        },
                        "type": "barpolar"
                      }
                    ],
                    "carpet": [
                      {
                        "aaxis": {
                          "endlinecolor": "#2a3f5f",
                          "gridcolor": "#C8D4E3",
                          "linecolor": "#C8D4E3",
                          "minorgridcolor": "#C8D4E3",
                          "startlinecolor": "#2a3f5f"
                        },
                        "baxis": {
                          "endlinecolor": "#2a3f5f",
                          "gridcolor": "#C8D4E3",
                          "linecolor": "#C8D4E3",
                          "minorgridcolor": "#C8D4E3",
                          "startlinecolor": "#2a3f5f"
                        },
                        "type": "carpet"
                      }
                    ],
                    "choropleth": [
                      {
                        "colorbar": {
                          "outlinewidth": 0,
                          "ticks": ""
                        },
                        "type": "choropleth"
                      }
                    ],
                    "contour": [
                      {
                        "colorbar": {
                          "outlinewidth": 0,
                          "ticks": ""
                        },
                        "colorscale": [
                          [
                            0,
                            "#0d0887"
                          ],
                          [
                            0.1111111111111111,
                            "#46039f"
                          ],
                          [
                            0.2222222222222222,
                            "#7201a8"
                          ],
                          [
                            0.3333333333333333,
                            "#9c179e"
                          ],
                          [
                            0.4444444444444444,
                            "#bd3786"
                          ],
                          [
                            0.5555555555555556,
                            "#d8576b"
                          ],
                          [
                            0.6666666666666666,
                            "#ed7953"
                          ],
                          [
                            0.7777777777777778,
                            "#fb9f3a"
                          ],
                          [
                            0.8888888888888888,
                            "#fdca26"
                          ],
                          [
                            1,
                            "#f0f921"
                          ]
                        ],
                        "type": "contour"
                      }
                    ],
                    "contourcarpet": [
                      {
                        "colorbar": {
                          "outlinewidth": 0,
                          "ticks": ""
                        },
                        "type": "contourcarpet"
                      }
                    ],
                    "heatmap": [
                      {
                        "colorbar": {
                          "outlinewidth": 0,
                          "ticks": ""
                        },
                        "colorscale": [
                          [
                            0,
                            "#0d0887"
                          ],
                          [
                            0.1111111111111111,
                            "#46039f"
                          ],
                          [
                            0.2222222222222222,
                            "#7201a8"
                          ],
                          [
                            0.3333333333333333,
                            "#9c179e"
                          ],
                          [
                            0.4444444444444444,
                            "#bd3786"
                          ],
                          [
                            0.5555555555555556,
                            "#d8576b"
                          ],
                          [
                            0.6666666666666666,
                            "#ed7953"
                          ],
                          [
                            0.7777777777777778,
                            "#fb9f3a"
                          ],
                          [
                            0.8888888888888888,
                            "#fdca26"
                          ],
                          [
                            1,
                            "#f0f921"
                          ]
                        ],
                        "type": "heatmap"
                      }
                    ],
                    "heatmapgl": [
                      {
                        "colorbar": {
                          "outlinewidth": 0,
                          "ticks": ""
                        },
                        "colorscale": [
                          [
                            0,
                            "#0d0887"
                          ],
                          [
                            0.1111111111111111,
                            "#46039f"
                          ],
                          [
                            0.2222222222222222,
                            "#7201a8"
                          ],
                          [
                            0.3333333333333333,
                            "#9c179e"
                          ],
                          [
                            0.4444444444444444,
                            "#bd3786"
                          ],
                          [
                            0.5555555555555556,
                            "#d8576b"
                          ],
                          [
                            0.6666666666666666,
                            "#ed7953"
                          ],
                          [
                            0.7777777777777778,
                            "#fb9f3a"
                          ],
                          [
                            0.8888888888888888,
                            "#fdca26"
                          ],
                          [
                            1,
                            "#f0f921"
                          ]
                        ],
                        "type": "heatmapgl"
                      }
                    ],
                    "histogram": [
                      {
                        "marker": {
                          "pattern": {
                            "fillmode": "overlay",
                            "size": 10,
                            "solidity": 0.2
                          }
                        },
                        "type": "histogram"
                      }
                    ],
                    "histogram2d": [
                      {
                        "colorbar": {
                          "outlinewidth": 0,
                          "ticks": ""
                        },
                        "colorscale": [
                          [
                            0,
                            "#0d0887"
                          ],
                          [
                            0.1111111111111111,
                            "#46039f"
                          ],
                          [
                            0.2222222222222222,
                            "#7201a8"
                          ],
                          [
                            0.3333333333333333,
                            "#9c179e"
                          ],
                          [
                            0.4444444444444444,
                            "#bd3786"
                          ],
                          [
                            0.5555555555555556,
                            "#d8576b"
                          ],
                          [
                            0.6666666666666666,
                            "#ed7953"
                          ],
                          [
                            0.7777777777777778,
                            "#fb9f3a"
                          ],
                          [
                            0.8888888888888888,
                            "#fdca26"
                          ],
                          [
                            1,
                            "#f0f921"
                          ]
                        ],
                        "type": "histogram2d"
                      }
                    ],
                    "histogram2dcontour": [
                      {
                        "colorbar": {
                          "outlinewidth": 0,
                          "ticks": ""
                        },
                        "colorscale": [
                          [
                            0,
                            "#0d0887"
                          ],
                          [
                            0.1111111111111111,
                            "#46039f"
                          ],
                          [
                            0.2222222222222222,
                            "#7201a8"
                          ],
                          [
                            0.3333333333333333,
                            "#9c179e"
                          ],
                          [
                            0.4444444444444444,
                            "#bd3786"
                          ],
                          [
                            0.5555555555555556,
                            "#d8576b"
                          ],
                          [
                            0.6666666666666666,
                            "#ed7953"
                          ],
                          [
                            0.7777777777777778,
                            "#fb9f3a"
                          ],
                          [
                            0.8888888888888888,
                            "#fdca26"
                          ],
                          [
                            1,
                            "#f0f921"
                          ]
                        ],
                        "type": "histogram2dcontour"
                      }
                    ],
                    "mesh3d": [
                      {
                        "colorbar": {
                          "outlinewidth": 0,
                          "ticks": ""
                        },
                        "type": "mesh3d"
                      }
                    ],
                    "parcoords": [
                      {
                        "line": {
                          "colorbar": {
                            "outlinewidth": 0,
                            "ticks": ""
                          }
                        },
                        "type": "parcoords"
                      }
                    ],
                    "pie": [
                      {
                        "automargin": true,
                        "type": "pie"
                      }
                    ],
                    "scatter": [
                      {
                        "fillpattern": {
                          "fillmode": "overlay",
                          "size": 10,
                          "solidity": 0.2
                        },
                        "type": "scatter"
                      }
                    ],
                    "scatter3d": [
                      {
                        "line": {
                          "colorbar": {
                            "outlinewidth": 0,
                            "ticks": ""
                          }
                        },
                        "marker": {
                          "colorbar": {
                            "outlinewidth": 0,
                            "ticks": ""
                          }
                        },
                        "type": "scatter3d"
                      }
                    ],
                    "scattercarpet": [
                      {
                        "marker": {
                          "colorbar": {
                            "outlinewidth": 0,
                            "ticks": ""
                          }
                        },
                        "type": "scattercarpet"
                      }
                    ],
                    "scattergeo": [
                      {
                        "marker": {
                          "colorbar": {
                            "outlinewidth": 0,
                            "ticks": ""
                          }
                        },
                        "type": "scattergeo"
                      }
                    ],
                    "scattergl": [
                      {
                        "marker": {
                          "colorbar": {
                            "outlinewidth": 0,
                            "ticks": ""
                          }
                        },
                        "type": "scattergl"
                      }
                    ],
                    "scattermapbox": [
                      {
                        "marker": {
                          "colorbar": {
                            "outlinewidth": 0,
                            "ticks": ""
                          }
                        },
                        "type": "scattermapbox"
                      }
                    ],
                    "scatterpolar": [
                      {
                        "marker": {
                          "colorbar": {
                            "outlinewidth": 0,
                            "ticks": ""
                          }
                        },
                        "type": "scatterpolar"
                      }
                    ],
                    "scatterpolargl": [
                      {
                        "marker": {
                          "colorbar": {
                            "outlinewidth": 0,
                            "ticks": ""
                          }
                        },
                        "type": "scatterpolargl"
                      }
                    ],
                    "scatterternary": [
                      {
                        "marker": {
                          "colorbar": {
                            "outlinewidth": 0,
                            "ticks": ""
                          }
                        },
                        "type": "scatterternary"
                      }
                    ],
                    "surface": [
                      {
                        "colorbar": {
                          "outlinewidth": 0,
                          "ticks": ""
                        },
                        "colorscale": [
                          [
                            0,
                            "#0d0887"
                          ],
                          [
                            0.1111111111111111,
                            "#46039f"
                          ],
                          [
                            0.2222222222222222,
                            "#7201a8"
                          ],
                          [
                            0.3333333333333333,
                            "#9c179e"
                          ],
                          [
                            0.4444444444444444,
                            "#bd3786"
                          ],
                          [
                            0.5555555555555556,
                            "#d8576b"
                          ],
                          [
                            0.6666666666666666,
                            "#ed7953"
                          ],
                          [
                            0.7777777777777778,
                            "#fb9f3a"
                          ],
                          [
                            0.8888888888888888,
                            "#fdca26"
                          ],
                          [
                            1,
                            "#f0f921"
                          ]
                        ],
                        "type": "surface"
                      }
                    ],
                    "table": [
                      {
                        "cells": {
                          "fill": {
                            "color": "#EBF0F8"
                          },
                          "line": {
                            "color": "white"
                          }
                        },
                        "header": {
                          "fill": {
                            "color": "#C8D4E3"
                          },
                          "line": {
                            "color": "white"
                          }
                        },
                        "type": "table"
                      }
                    ]
                  },
                  "layout": {
                    "annotationdefaults": {
                      "arrowcolor": "#2a3f5f",
                      "arrowhead": 0,
                      "arrowwidth": 1
                    },
                    "autotypenumbers": "strict",
                    "coloraxis": {
                      "colorbar": {
                        "outlinewidth": 0,
                        "ticks": ""
                      }
                    },
                    "colorscale": {
                      "diverging": [
                        [
                          0,
                          "#8e0152"
                        ],
                        [
                          0.1,
                          "#c51b7d"
                        ],
                        [
                          0.2,
                          "#de77ae"
                        ],
                        [
                          0.3,
                          "#f1b6da"
                        ],
                        [
                          0.4,
                          "#fde0ef"
                        ],
                        [
                          0.5,
                          "#f7f7f7"
                        ],
                        [
                          0.6,
                          "#e6f5d0"
                        ],
                        [
                          0.7,
                          "#b8e186"
                        ],
                        [
                          0.8,
                          "#7fbc41"
                        ],
                        [
                          0.9,
                          "#4d9221"
                        ],
                        [
                          1,
                          "#276419"
                        ]
                      ],
                      "sequential": [
                        [
                          0,
                          "#0d0887"
                        ],
                        [
                          0.1111111111111111,
                          "#46039f"
                        ],
                        [
                          0.2222222222222222,
                          "#7201a8"
                        ],
                        [
                          0.3333333333333333,
                          "#9c179e"
                        ],
                        [
                          0.4444444444444444,
                          "#bd3786"
                        ],
                        [
                          0.5555555555555556,
                          "#d8576b"
                        ],
                        [
                          0.6666666666666666,
                          "#ed7953"
                        ],
                        [
                          0.7777777777777778,
                          "#fb9f3a"
                        ],
                        [
                          0.8888888888888888,
                          "#fdca26"
                        ],
                        [
                          1,
                          "#f0f921"
                        ]
                      ],
                      "sequentialminus": [
                        [
                          0,
                          "#0d0887"
                        ],
                        [
                          0.1111111111111111,
                          "#46039f"
                        ],
                        [
                          0.2222222222222222,
                          "#7201a8"
                        ],
                        [
                          0.3333333333333333,
                          "#9c179e"
                        ],
                        [
                          0.4444444444444444,
                          "#bd3786"
                        ],
                        [
                          0.5555555555555556,
                          "#d8576b"
                        ],
                        [
                          0.6666666666666666,
                          "#ed7953"
                        ],
                        [
                          0.7777777777777778,
                          "#fb9f3a"
                        ],
                        [
                          0.8888888888888888,
                          "#fdca26"
                        ],
                        [
                          1,
                          "#f0f921"
                        ]
                      ]
                    },
                    "colorway": [
                      "#636efa",
                      "#EF553B",
                      "#00cc96",
                      "#ab63fa",
                      "#FFA15A",
                      "#19d3f3",
                      "#FF6692",
                      "#B6E880",
                      "#FF97FF",
                      "#FECB52"
                    ],
                    "font": {
                      "color": "#2a3f5f"
                    },
                    "geo": {
                      "bgcolor": "white",
                      "lakecolor": "white",
                      "landcolor": "white",
                      "showlakes": true,
                      "showland": true,
                      "subunitcolor": "#C8D4E3"
                    },
                    "hoverlabel": {
                      "align": "left"
                    },
                    "hovermode": "closest",
                    "mapbox": {
                      "style": "light"
                    },
                    "paper_bgcolor": "white",
                    "plot_bgcolor": "white",
                    "polar": {
                      "angularaxis": {
                        "gridcolor": "#EBF0F8",
                        "linecolor": "#EBF0F8",
                        "ticks": ""
                      },
                      "bgcolor": "white",
                      "radialaxis": {
                        "gridcolor": "#EBF0F8",
                        "linecolor": "#EBF0F8",
                        "ticks": ""
                      }
                    },
                    "scene": {
                      "xaxis": {
                        "backgroundcolor": "white",
                        "gridcolor": "#DFE8F3",
                        "gridwidth": 2,
                        "linecolor": "#EBF0F8",
                        "showbackground": true,
                        "ticks": "",
                        "zerolinecolor": "#EBF0F8"
                      },
                      "yaxis": {
                        "backgroundcolor": "white",
                        "gridcolor": "#DFE8F3",
                        "gridwidth": 2,
                        "linecolor": "#EBF0F8",
                        "showbackground": true,
                        "ticks": "",
                        "zerolinecolor": "#EBF0F8"
                      },
                      "zaxis": {
                        "backgroundcolor": "white",
                        "gridcolor": "#DFE8F3",
                        "gridwidth": 2,
                        "linecolor": "#EBF0F8",
                        "showbackground": true,
                        "ticks": "",
                        "zerolinecolor": "#EBF0F8"
                      }
                    },
                    "shapedefaults": {
                      "line": {
                        "color": "#2a3f5f"
                      }
                    },
                    "ternary": {
                      "aaxis": {
                        "gridcolor": "#DFE8F3",
                        "linecolor": "#A2B1C6",
                        "ticks": ""
                      },
                      "baxis": {
                        "gridcolor": "#DFE8F3",
                        "linecolor": "#A2B1C6",
                        "ticks": ""
                      },
                      "bgcolor": "white",
                      "caxis": {
                        "gridcolor": "#DFE8F3",
                        "linecolor": "#A2B1C6",
                        "ticks": ""
                      }
                    },
                    "title": {
                      "x": 0.05
                    },
                    "xaxis": {
                      "automargin": true,
                      "gridcolor": "#EBF0F8",
                      "linecolor": "#EBF0F8",
                      "ticks": "",
                      "title": {
                        "standoff": 15
                      },
                      "zerolinecolor": "#EBF0F8",
                      "zerolinewidth": 2
                    },
                    "yaxis": {
                      "automargin": true,
                      "gridcolor": "#EBF0F8",
                      "linecolor": "#EBF0F8",
                      "ticks": "",
                      "title": {
                        "standoff": 15
                      },
                      "zerolinecolor": "#EBF0F8",
                      "zerolinewidth": 2
                    }
                  }
                },
                "title": {
                  "font": {
                    "size": 14
                  },
                  "text": "Évolution des métriques \n(AUC, Precision, Recall, F1)\n - Paramètres: max_depth=4, alpha=14.51, learning_rate=0.95",
                  "x": 0.5,
                  "y": 0.9
                },
                "xaxis": {
                  "tickmode": "linear",
                  "title": {
                    "text": "Nombre de variables"
                  }
                },
                "yaxis": {
                  "title": {
                    "text": "Score"
                  }
                }
              }
            }
          },
          "metadata": {},
          "output_type": "display_data"
        }
      ],
      "source": [
        "# Liste des variables dans l'ordre d'importance\n",
        "variables_par_importance = [\n",
        "    \"VALUE\", \"CLAGE\", \"LOAN\", \"CLNO\", \"YOJ\", \"DEBTINC\", \"NINQ\", \"DELINQ\", \"DEROG\",\n",
        "    \"JOB_Other\", \"JOB_Office\", \"JOB_ProfExe\", \"REASON_HomeImp\", \"JOB_Sales\", \"JOB_Self\"\n",
        "]\n",
        "\n",
        "# Définition d'une fonction pour lancer un modèle avec des paramètres aléatoires afin d'obtenir\n",
        "# une diversité de modèle\n",
        "def lancer_modele_aleatoire():\n",
        "\n",
        "    # Paramètres aléatoires\n",
        "    params = {\n",
        "        'objective': 'binary:logistic',\n",
        "        'max_depth': random.randint(1, 10),\n",
        "        'alpha': random.uniform(0, 20), \n",
        "        'learning_rate': random.uniform(0.01, 1.0),  \n",
        "        'seed': random.randint(0, 1000),\n",
        "        'verbosity': 0\n",
        "    }\n",
        "\n",
        "    # Listes pour stocker les métriques\n",
        "    precision_scores = []\n",
        "    recall_scores = []\n",
        "    f1_scores = []\n",
        "    auc_scores = []\n",
        "\n",
        "    for i in range(1, len(variables_par_importance) + 1):\n",
        "\n",
        "        best_col = variables_par_importance[:i]\n",
        "        x_train_med_reduced = data_train[best_col]\n",
        "        x_test_med_reduced = data_test[best_col]\n",
        "        \n",
        "        data_dmatrix_train_med_reduced = xgb.DMatrix(data=x_train_med_reduced, label=y_train)\n",
        "        data_dmatrix_test_med_reduced = xgb.DMatrix(data=x_test_med_reduced, label=y_test)\n",
        "        \n",
        "        xgb_clf_med_reduced = xgb.train(params, dtrain=data_dmatrix_train_med_reduced, verbose_eval=False)\n",
        "        \n",
        "        y_pred_med_probs_reduced = xgb_clf_med_reduced.predict(data_dmatrix_test_med_reduced)\n",
        "        \n",
        "        y_pred_med_reduced = [1 if prob > 0.5 else 0 for prob in y_pred_med_probs_reduced]\n",
        "        \n",
        "        precision = precision_score(y_test, y_pred_med_reduced)\n",
        "        recall = recall_score(y_test, y_pred_med_reduced)\n",
        "        f1 = f1_score(y_test, y_pred_med_reduced)\n",
        "        auc = roc_auc_score(y_test, y_pred_med_probs_reduced)\n",
        "        \n",
        "        precision_scores.append(precision)\n",
        "        recall_scores.append(recall)\n",
        "        f1_scores.append(f1)\n",
        "        auc_scores.append(auc)\n",
        "\n",
        "    fig = go.Figure()\n",
        "\n",
        "    fig.add_trace(go.Scatter(\n",
        "        x=list(range(1, len(variables_par_importance) + 1)),\n",
        "        y=auc_scores,\n",
        "        mode='lines+markers',\n",
        "        marker=dict(size=10, color='red'),\n",
        "        line=dict(color='red'),\n",
        "        name='AUC'\n",
        "    ))\n",
        "\n",
        "    fig.add_trace(go.Scatter(\n",
        "        x=list(range(1, len(variables_par_importance) + 1)),\n",
        "        y=precision_scores,\n",
        "        mode='lines+markers',\n",
        "        marker=dict(size=10, color='green'),\n",
        "        line=dict(color='green'),\n",
        "        name='Precision'\n",
        "    ))\n",
        "\n",
        "    fig.add_trace(go.Scatter(\n",
        "        x=list(range(1, len(variables_par_importance) + 1)),\n",
        "        y=recall_scores,\n",
        "        mode='lines+markers',\n",
        "        marker=dict(size=10, color='orange'),\n",
        "        line=dict(color='orange'),\n",
        "        name='Recall'\n",
        "    ))\n",
        "\n",
        "    fig.add_trace(go.Scatter(\n",
        "        x=list(range(1, len(variables_par_importance) + 1)),\n",
        "        y=f1_scores,\n",
        "        mode='lines+markers',\n",
        "        marker=dict(size=10, color='blue'),\n",
        "        line=dict(color='blue'),\n",
        "        name='F1-Score'\n",
        "    ))\n",
        "\n",
        "    fig.update_layout(\n",
        "        title=f\"Évolution des métriques \\n(AUC, Precision, Recall, F1)\\n\"\n",
        "              f\" - Paramètres: max_depth={params['max_depth']}, alpha={round(params['alpha'], 2)}, \"\n",
        "              f\"learning_rate={round(params['learning_rate'], 2)}\",\n",
        "        title_x=0.5, \n",
        "        title_y=0.9,\n",
        "        title_font_size=14,\n",
        "        xaxis_title=\"Nombre de variables\",\n",
        "        yaxis_title=\"Score\",\n",
        "        xaxis=dict(tickmode='linear'),\n",
        "        template='plotly_white'\n",
        "    )\n",
        "\n",
        "   \n",
        "    fig.show()\n",
        "\n",
        "# Lancons 5 modèles\n",
        "for _ in range(5):\n",
        "    lancer_modele_aleatoire()\n"
      ]
    },
    {
      "cell_type": "markdown",
      "metadata": {},
      "source": [
        "Les résultats varient en fonction des paramètres et les conclusions quant au nombre de variable aussi mais on observe tout de même un comportement similaire des courbes entre 6 et 8 variables où elles commencent à se stabiliser. On peut donc sélectionner entre 6 et 8 variable pour la suite de nos modèles."
      ]
    },
    {
      "cell_type": "code",
      "execution_count": 18,
      "metadata": {},
      "outputs": [],
      "source": [
        "best_col =  ['VALUE', 'CLAGE', 'LOAN', 'CLNO', 'YOJ', 'DEBTINC', \"NINQ\", \"DELINQ\"]\n",
        "\n",
        "x_train_med_reduced = data_train[best_col]\n",
        "x_test_med_reduced = data_test[best_col]\n",
        "\n",
        "data_dmatrix_train_med_reduced = xgb.DMatrix(data=x_train_med_reduced,label=y_train)\n",
        "data_dmatrix_test_med_reduced = xgb.DMatrix(data=x_test_med_reduced,label=y_test)"
      ]
    },
    {
      "cell_type": "code",
      "execution_count": 19,
      "metadata": {
        "colab": {
          "base_uri": "https://localhost:8080/"
        },
        "id": "vmbzyT4gSh91",
        "outputId": "fb3eacae-9a51-4a5d-ccf2-a8438f0d6e21"
      },
      "outputs": [],
      "source": [
        "# Entrainement du modèle\n",
        "xgb_clf_med_reduced = xgb.train(params, dtrain = data_dmatrix_train_med_reduced)"
      ]
    },
    {
      "cell_type": "code",
      "execution_count": 20,
      "metadata": {
        "colab": {
          "base_uri": "https://localhost:8080/"
        },
        "id": "WfFUDF-hSiB3",
        "outputId": "456da364-290c-4c4e-bb64-4d4082efab09"
      },
      "outputs": [
        {
          "name": "stdout",
          "output_type": "stream",
          "text": [
            "Le F1-Score de notre XGBoost réduit utilisant l'imputation par médiane est : 0.59\n"
          ]
        }
      ],
      "source": [
        "y_pred_med_probs_reduced = xgb_clf_med_reduced.predict(data_dmatrix_test_med_reduced)\n",
        "y_pred_med_reduced = [round(p) for p in y_pred_med_probs_reduced]\n",
        "\n",
        "print(f\"Le F1-Score de notre XGBoost réduit utilisant l'imputation par médiane est : {round(f1_score(y_test, y_pred_med_reduced),2)}\")"
      ]
    },
    {
      "cell_type": "markdown",
      "metadata": {},
      "source": [
        "<span style=\"font-size: 24px; color: darkred; text-decoration: underline;\"><strong>Courbe ROC entre le modèle simple complet et le modèle simple réduit</strong></span>"
      ]
    },
    {
      "cell_type": "code",
      "execution_count": 21,
      "metadata": {
        "colab": {
          "base_uri": "https://localhost:8080/",
          "height": 597
        },
        "id": "IsvTgG6uSiD8",
        "outputId": "46a2944b-82c0-452e-ffb4-069fc17b7253"
      },
      "outputs": [
        {
          "name": "stdout",
          "output_type": "stream",
          "text": [
            "Modèle Naïf: ROC AUC=0.5\n",
            "XGBoost | Avant Grid Search: ROC AUC=0.88\n",
            "XGBoost | Avant Grid Search Reduced : ROC AUC=0.88\n"
          ]
        },
        {
          "data": {
            "application/vnd.plotly.v1+json": {
              "config": {
                "plotlyServerURL": "https://plot.ly"
              },
              "data": [
                {
                  "line": {
                    "color": "blue",
                    "dash": "dash"
                  },
                  "mode": "lines",
                  "name": "No Skill",
                  "type": "scatter",
                  "x": [
                    0,
                    1
                  ],
                  "y": [
                    0,
                    1
                  ]
                },
                {
                  "mode": "lines",
                  "name": "XGBoost | Modèle Complet",
                  "type": "scatter",
                  "x": [
                    0,
                    0,
                    0,
                    0,
                    0,
                    0,
                    0,
                    0.0006988120195667365,
                    0.0006988120195667365,
                    0.0006988120195667365,
                    0.002795248078266946,
                    0.0034940600978336828,
                    0.0034940600978336828,
                    0.015373864430468204,
                    0.01607267645003494,
                    0.020964360587002098,
                    0.02585604472396925,
                    0.026554856743535988,
                    0.03004891684136967,
                    0.06778476589797344,
                    0.07127882599580712,
                    0.07127882599580712,
                    0.0726764500349406,
                    0.07477288609364081,
                    0.1090146750524109,
                    0.1111111111111111,
                    0.11250873515024458,
                    0.1488469601677149,
                    0.14954577218728163,
                    0.14954577218728163,
                    0.15164220824598182,
                    0.15234102026554858,
                    0.15513626834381553,
                    0.1740041928721174,
                    0.206848357791754,
                    0.2445842068483578,
                    0.2445842068483578,
                    0.25157232704402516,
                    0.28232005590496156,
                    0.2830188679245283,
                    0.28581411600279527,
                    0.29000698812019565,
                    0.29909154437456326,
                    0.3256464011180992,
                    0.4863731656184486,
                    0.49056603773584906,
                    0.5010482180293501,
                    0.6778476589797344,
                    0.6834381551362684,
                    0.859538784067086,
                    1
                  ],
                  "y": [
                    0,
                    0.0056022408963585435,
                    0.008403361344537815,
                    0.025210084033613446,
                    0.036414565826330535,
                    0.04201680672268908,
                    0.06722689075630252,
                    0.11484593837535013,
                    0.12324929971988796,
                    0.12885154061624648,
                    0.13725490196078433,
                    0.15406162464985995,
                    0.16526610644257703,
                    0.31932773109243695,
                    0.3389355742296919,
                    0.39775910364145656,
                    0.48179271708683474,
                    0.49019607843137253,
                    0.49859943977591037,
                    0.6554621848739496,
                    0.6582633053221288,
                    0.6666666666666666,
                    0.6750700280112045,
                    0.680672268907563,
                    0.7366946778711485,
                    0.7366946778711485,
                    0.7394957983193278,
                    0.7759103641456583,
                    0.7759103641456583,
                    0.7787114845938375,
                    0.7815126050420168,
                    0.7815126050420168,
                    0.7899159663865546,
                    0.8011204481792717,
                    0.8095238095238095,
                    0.834733893557423,
                    0.8375350140056023,
                    0.8403361344537815,
                    0.84593837535014,
                    0.84593837535014,
                    0.84593837535014,
                    0.8543417366946778,
                    0.8571428571428571,
                    0.865546218487395,
                    0.927170868347339,
                    0.9299719887955182,
                    0.9327731092436975,
                    0.9663865546218487,
                    0.9663865546218487,
                    0.9859943977591037,
                    1
                  ]
                },
                {
                  "mode": "lines",
                  "name": "XGBoost | Modèle Réduit",
                  "type": "scatter",
                  "x": [
                    0,
                    0,
                    0,
                    0,
                    0.0006988120195667365,
                    0.0006988120195667365,
                    0.0006988120195667365,
                    0.001397624039133473,
                    0.0034940600978336828,
                    0.0034940600978336828,
                    0.015373864430468204,
                    0.02026554856743536,
                    0.025157232704402517,
                    0.0286512928022362,
                    0.06708595387840671,
                    0.06988120195667366,
                    0.06988120195667366,
                    0.07058001397624039,
                    0.0726764500349406,
                    0.10761705101327743,
                    0.10761705101327743,
                    0.1090146750524109,
                    0.14605171208944795,
                    0.1474493361285814,
                    0.14954577218728163,
                    0.15024458420684836,
                    0.16911250873515024,
                    0.2026554856743536,
                    0.24248777078965758,
                    0.27393431167016075,
                    0.2781271837875611,
                    0.28721174004192873,
                    0.31236897274633124,
                    0.4758909853249476,
                    0.4863731656184486,
                    0.6701607267645003,
                    0.676450034940601,
                    0.8553459119496856,
                    1
                  ],
                  "y": [
                    0,
                    0.0056022408963585435,
                    0.022408963585434174,
                    0.03081232492997199,
                    0.06162464985994398,
                    0.08683473389355742,
                    0.10644257703081232,
                    0.15126050420168066,
                    0.15966386554621848,
                    0.17086834733893558,
                    0.34173669467787116,
                    0.4061624649859944,
                    0.46218487394957986,
                    0.47058823529411764,
                    0.6470588235294118,
                    0.6498599439775911,
                    0.6582633053221288,
                    0.6610644257703081,
                    0.6666666666666666,
                    0.7310924369747899,
                    0.742296918767507,
                    0.7450980392156863,
                    0.7815126050420168,
                    0.7815126050420168,
                    0.7843137254901961,
                    0.7843137254901961,
                    0.7955182072829131,
                    0.8095238095238095,
                    0.8235294117647058,
                    0.8291316526610645,
                    0.8375350140056023,
                    0.8403361344537815,
                    0.8515406162464986,
                    0.9215686274509803,
                    0.927170868347339,
                    0.9635854341736695,
                    0.9635854341736695,
                    0.9831932773109243,
                    1
                  ]
                }
              ],
              "layout": {
                "legend": {
                  "title": {
                    "text": "Modèles"
                  }
                },
                "template": {
                  "data": {
                    "bar": [
                      {
                        "error_x": {
                          "color": "#2a3f5f"
                        },
                        "error_y": {
                          "color": "#2a3f5f"
                        },
                        "marker": {
                          "line": {
                            "color": "white",
                            "width": 0.5
                          },
                          "pattern": {
                            "fillmode": "overlay",
                            "size": 10,
                            "solidity": 0.2
                          }
                        },
                        "type": "bar"
                      }
                    ],
                    "barpolar": [
                      {
                        "marker": {
                          "line": {
                            "color": "white",
                            "width": 0.5
                          },
                          "pattern": {
                            "fillmode": "overlay",
                            "size": 10,
                            "solidity": 0.2
                          }
                        },
                        "type": "barpolar"
                      }
                    ],
                    "carpet": [
                      {
                        "aaxis": {
                          "endlinecolor": "#2a3f5f",
                          "gridcolor": "#C8D4E3",
                          "linecolor": "#C8D4E3",
                          "minorgridcolor": "#C8D4E3",
                          "startlinecolor": "#2a3f5f"
                        },
                        "baxis": {
                          "endlinecolor": "#2a3f5f",
                          "gridcolor": "#C8D4E3",
                          "linecolor": "#C8D4E3",
                          "minorgridcolor": "#C8D4E3",
                          "startlinecolor": "#2a3f5f"
                        },
                        "type": "carpet"
                      }
                    ],
                    "choropleth": [
                      {
                        "colorbar": {
                          "outlinewidth": 0,
                          "ticks": ""
                        },
                        "type": "choropleth"
                      }
                    ],
                    "contour": [
                      {
                        "colorbar": {
                          "outlinewidth": 0,
                          "ticks": ""
                        },
                        "colorscale": [
                          [
                            0,
                            "#0d0887"
                          ],
                          [
                            0.1111111111111111,
                            "#46039f"
                          ],
                          [
                            0.2222222222222222,
                            "#7201a8"
                          ],
                          [
                            0.3333333333333333,
                            "#9c179e"
                          ],
                          [
                            0.4444444444444444,
                            "#bd3786"
                          ],
                          [
                            0.5555555555555556,
                            "#d8576b"
                          ],
                          [
                            0.6666666666666666,
                            "#ed7953"
                          ],
                          [
                            0.7777777777777778,
                            "#fb9f3a"
                          ],
                          [
                            0.8888888888888888,
                            "#fdca26"
                          ],
                          [
                            1,
                            "#f0f921"
                          ]
                        ],
                        "type": "contour"
                      }
                    ],
                    "contourcarpet": [
                      {
                        "colorbar": {
                          "outlinewidth": 0,
                          "ticks": ""
                        },
                        "type": "contourcarpet"
                      }
                    ],
                    "heatmap": [
                      {
                        "colorbar": {
                          "outlinewidth": 0,
                          "ticks": ""
                        },
                        "colorscale": [
                          [
                            0,
                            "#0d0887"
                          ],
                          [
                            0.1111111111111111,
                            "#46039f"
                          ],
                          [
                            0.2222222222222222,
                            "#7201a8"
                          ],
                          [
                            0.3333333333333333,
                            "#9c179e"
                          ],
                          [
                            0.4444444444444444,
                            "#bd3786"
                          ],
                          [
                            0.5555555555555556,
                            "#d8576b"
                          ],
                          [
                            0.6666666666666666,
                            "#ed7953"
                          ],
                          [
                            0.7777777777777778,
                            "#fb9f3a"
                          ],
                          [
                            0.8888888888888888,
                            "#fdca26"
                          ],
                          [
                            1,
                            "#f0f921"
                          ]
                        ],
                        "type": "heatmap"
                      }
                    ],
                    "heatmapgl": [
                      {
                        "colorbar": {
                          "outlinewidth": 0,
                          "ticks": ""
                        },
                        "colorscale": [
                          [
                            0,
                            "#0d0887"
                          ],
                          [
                            0.1111111111111111,
                            "#46039f"
                          ],
                          [
                            0.2222222222222222,
                            "#7201a8"
                          ],
                          [
                            0.3333333333333333,
                            "#9c179e"
                          ],
                          [
                            0.4444444444444444,
                            "#bd3786"
                          ],
                          [
                            0.5555555555555556,
                            "#d8576b"
                          ],
                          [
                            0.6666666666666666,
                            "#ed7953"
                          ],
                          [
                            0.7777777777777778,
                            "#fb9f3a"
                          ],
                          [
                            0.8888888888888888,
                            "#fdca26"
                          ],
                          [
                            1,
                            "#f0f921"
                          ]
                        ],
                        "type": "heatmapgl"
                      }
                    ],
                    "histogram": [
                      {
                        "marker": {
                          "pattern": {
                            "fillmode": "overlay",
                            "size": 10,
                            "solidity": 0.2
                          }
                        },
                        "type": "histogram"
                      }
                    ],
                    "histogram2d": [
                      {
                        "colorbar": {
                          "outlinewidth": 0,
                          "ticks": ""
                        },
                        "colorscale": [
                          [
                            0,
                            "#0d0887"
                          ],
                          [
                            0.1111111111111111,
                            "#46039f"
                          ],
                          [
                            0.2222222222222222,
                            "#7201a8"
                          ],
                          [
                            0.3333333333333333,
                            "#9c179e"
                          ],
                          [
                            0.4444444444444444,
                            "#bd3786"
                          ],
                          [
                            0.5555555555555556,
                            "#d8576b"
                          ],
                          [
                            0.6666666666666666,
                            "#ed7953"
                          ],
                          [
                            0.7777777777777778,
                            "#fb9f3a"
                          ],
                          [
                            0.8888888888888888,
                            "#fdca26"
                          ],
                          [
                            1,
                            "#f0f921"
                          ]
                        ],
                        "type": "histogram2d"
                      }
                    ],
                    "histogram2dcontour": [
                      {
                        "colorbar": {
                          "outlinewidth": 0,
                          "ticks": ""
                        },
                        "colorscale": [
                          [
                            0,
                            "#0d0887"
                          ],
                          [
                            0.1111111111111111,
                            "#46039f"
                          ],
                          [
                            0.2222222222222222,
                            "#7201a8"
                          ],
                          [
                            0.3333333333333333,
                            "#9c179e"
                          ],
                          [
                            0.4444444444444444,
                            "#bd3786"
                          ],
                          [
                            0.5555555555555556,
                            "#d8576b"
                          ],
                          [
                            0.6666666666666666,
                            "#ed7953"
                          ],
                          [
                            0.7777777777777778,
                            "#fb9f3a"
                          ],
                          [
                            0.8888888888888888,
                            "#fdca26"
                          ],
                          [
                            1,
                            "#f0f921"
                          ]
                        ],
                        "type": "histogram2dcontour"
                      }
                    ],
                    "mesh3d": [
                      {
                        "colorbar": {
                          "outlinewidth": 0,
                          "ticks": ""
                        },
                        "type": "mesh3d"
                      }
                    ],
                    "parcoords": [
                      {
                        "line": {
                          "colorbar": {
                            "outlinewidth": 0,
                            "ticks": ""
                          }
                        },
                        "type": "parcoords"
                      }
                    ],
                    "pie": [
                      {
                        "automargin": true,
                        "type": "pie"
                      }
                    ],
                    "scatter": [
                      {
                        "fillpattern": {
                          "fillmode": "overlay",
                          "size": 10,
                          "solidity": 0.2
                        },
                        "type": "scatter"
                      }
                    ],
                    "scatter3d": [
                      {
                        "line": {
                          "colorbar": {
                            "outlinewidth": 0,
                            "ticks": ""
                          }
                        },
                        "marker": {
                          "colorbar": {
                            "outlinewidth": 0,
                            "ticks": ""
                          }
                        },
                        "type": "scatter3d"
                      }
                    ],
                    "scattercarpet": [
                      {
                        "marker": {
                          "colorbar": {
                            "outlinewidth": 0,
                            "ticks": ""
                          }
                        },
                        "type": "scattercarpet"
                      }
                    ],
                    "scattergeo": [
                      {
                        "marker": {
                          "colorbar": {
                            "outlinewidth": 0,
                            "ticks": ""
                          }
                        },
                        "type": "scattergeo"
                      }
                    ],
                    "scattergl": [
                      {
                        "marker": {
                          "colorbar": {
                            "outlinewidth": 0,
                            "ticks": ""
                          }
                        },
                        "type": "scattergl"
                      }
                    ],
                    "scattermapbox": [
                      {
                        "marker": {
                          "colorbar": {
                            "outlinewidth": 0,
                            "ticks": ""
                          }
                        },
                        "type": "scattermapbox"
                      }
                    ],
                    "scatterpolar": [
                      {
                        "marker": {
                          "colorbar": {
                            "outlinewidth": 0,
                            "ticks": ""
                          }
                        },
                        "type": "scatterpolar"
                      }
                    ],
                    "scatterpolargl": [
                      {
                        "marker": {
                          "colorbar": {
                            "outlinewidth": 0,
                            "ticks": ""
                          }
                        },
                        "type": "scatterpolargl"
                      }
                    ],
                    "scatterternary": [
                      {
                        "marker": {
                          "colorbar": {
                            "outlinewidth": 0,
                            "ticks": ""
                          }
                        },
                        "type": "scatterternary"
                      }
                    ],
                    "surface": [
                      {
                        "colorbar": {
                          "outlinewidth": 0,
                          "ticks": ""
                        },
                        "colorscale": [
                          [
                            0,
                            "#0d0887"
                          ],
                          [
                            0.1111111111111111,
                            "#46039f"
                          ],
                          [
                            0.2222222222222222,
                            "#7201a8"
                          ],
                          [
                            0.3333333333333333,
                            "#9c179e"
                          ],
                          [
                            0.4444444444444444,
                            "#bd3786"
                          ],
                          [
                            0.5555555555555556,
                            "#d8576b"
                          ],
                          [
                            0.6666666666666666,
                            "#ed7953"
                          ],
                          [
                            0.7777777777777778,
                            "#fb9f3a"
                          ],
                          [
                            0.8888888888888888,
                            "#fdca26"
                          ],
                          [
                            1,
                            "#f0f921"
                          ]
                        ],
                        "type": "surface"
                      }
                    ],
                    "table": [
                      {
                        "cells": {
                          "fill": {
                            "color": "#EBF0F8"
                          },
                          "line": {
                            "color": "white"
                          }
                        },
                        "header": {
                          "fill": {
                            "color": "#C8D4E3"
                          },
                          "line": {
                            "color": "white"
                          }
                        },
                        "type": "table"
                      }
                    ]
                  },
                  "layout": {
                    "annotationdefaults": {
                      "arrowcolor": "#2a3f5f",
                      "arrowhead": 0,
                      "arrowwidth": 1
                    },
                    "autotypenumbers": "strict",
                    "coloraxis": {
                      "colorbar": {
                        "outlinewidth": 0,
                        "ticks": ""
                      }
                    },
                    "colorscale": {
                      "diverging": [
                        [
                          0,
                          "#8e0152"
                        ],
                        [
                          0.1,
                          "#c51b7d"
                        ],
                        [
                          0.2,
                          "#de77ae"
                        ],
                        [
                          0.3,
                          "#f1b6da"
                        ],
                        [
                          0.4,
                          "#fde0ef"
                        ],
                        [
                          0.5,
                          "#f7f7f7"
                        ],
                        [
                          0.6,
                          "#e6f5d0"
                        ],
                        [
                          0.7,
                          "#b8e186"
                        ],
                        [
                          0.8,
                          "#7fbc41"
                        ],
                        [
                          0.9,
                          "#4d9221"
                        ],
                        [
                          1,
                          "#276419"
                        ]
                      ],
                      "sequential": [
                        [
                          0,
                          "#0d0887"
                        ],
                        [
                          0.1111111111111111,
                          "#46039f"
                        ],
                        [
                          0.2222222222222222,
                          "#7201a8"
                        ],
                        [
                          0.3333333333333333,
                          "#9c179e"
                        ],
                        [
                          0.4444444444444444,
                          "#bd3786"
                        ],
                        [
                          0.5555555555555556,
                          "#d8576b"
                        ],
                        [
                          0.6666666666666666,
                          "#ed7953"
                        ],
                        [
                          0.7777777777777778,
                          "#fb9f3a"
                        ],
                        [
                          0.8888888888888888,
                          "#fdca26"
                        ],
                        [
                          1,
                          "#f0f921"
                        ]
                      ],
                      "sequentialminus": [
                        [
                          0,
                          "#0d0887"
                        ],
                        [
                          0.1111111111111111,
                          "#46039f"
                        ],
                        [
                          0.2222222222222222,
                          "#7201a8"
                        ],
                        [
                          0.3333333333333333,
                          "#9c179e"
                        ],
                        [
                          0.4444444444444444,
                          "#bd3786"
                        ],
                        [
                          0.5555555555555556,
                          "#d8576b"
                        ],
                        [
                          0.6666666666666666,
                          "#ed7953"
                        ],
                        [
                          0.7777777777777778,
                          "#fb9f3a"
                        ],
                        [
                          0.8888888888888888,
                          "#fdca26"
                        ],
                        [
                          1,
                          "#f0f921"
                        ]
                      ]
                    },
                    "colorway": [
                      "#636efa",
                      "#EF553B",
                      "#00cc96",
                      "#ab63fa",
                      "#FFA15A",
                      "#19d3f3",
                      "#FF6692",
                      "#B6E880",
                      "#FF97FF",
                      "#FECB52"
                    ],
                    "font": {
                      "color": "#2a3f5f"
                    },
                    "geo": {
                      "bgcolor": "white",
                      "lakecolor": "white",
                      "landcolor": "white",
                      "showlakes": true,
                      "showland": true,
                      "subunitcolor": "#C8D4E3"
                    },
                    "hoverlabel": {
                      "align": "left"
                    },
                    "hovermode": "closest",
                    "mapbox": {
                      "style": "light"
                    },
                    "paper_bgcolor": "white",
                    "plot_bgcolor": "white",
                    "polar": {
                      "angularaxis": {
                        "gridcolor": "#EBF0F8",
                        "linecolor": "#EBF0F8",
                        "ticks": ""
                      },
                      "bgcolor": "white",
                      "radialaxis": {
                        "gridcolor": "#EBF0F8",
                        "linecolor": "#EBF0F8",
                        "ticks": ""
                      }
                    },
                    "scene": {
                      "xaxis": {
                        "backgroundcolor": "white",
                        "gridcolor": "#DFE8F3",
                        "gridwidth": 2,
                        "linecolor": "#EBF0F8",
                        "showbackground": true,
                        "ticks": "",
                        "zerolinecolor": "#EBF0F8"
                      },
                      "yaxis": {
                        "backgroundcolor": "white",
                        "gridcolor": "#DFE8F3",
                        "gridwidth": 2,
                        "linecolor": "#EBF0F8",
                        "showbackground": true,
                        "ticks": "",
                        "zerolinecolor": "#EBF0F8"
                      },
                      "zaxis": {
                        "backgroundcolor": "white",
                        "gridcolor": "#DFE8F3",
                        "gridwidth": 2,
                        "linecolor": "#EBF0F8",
                        "showbackground": true,
                        "ticks": "",
                        "zerolinecolor": "#EBF0F8"
                      }
                    },
                    "shapedefaults": {
                      "line": {
                        "color": "#2a3f5f"
                      }
                    },
                    "ternary": {
                      "aaxis": {
                        "gridcolor": "#DFE8F3",
                        "linecolor": "#A2B1C6",
                        "ticks": ""
                      },
                      "baxis": {
                        "gridcolor": "#DFE8F3",
                        "linecolor": "#A2B1C6",
                        "ticks": ""
                      },
                      "bgcolor": "white",
                      "caxis": {
                        "gridcolor": "#DFE8F3",
                        "linecolor": "#A2B1C6",
                        "ticks": ""
                      }
                    },
                    "title": {
                      "x": 0.05
                    },
                    "xaxis": {
                      "automargin": true,
                      "gridcolor": "#EBF0F8",
                      "linecolor": "#EBF0F8",
                      "ticks": "",
                      "title": {
                        "standoff": 15
                      },
                      "zerolinecolor": "#EBF0F8",
                      "zerolinewidth": 2
                    },
                    "yaxis": {
                      "automargin": true,
                      "gridcolor": "#EBF0F8",
                      "linecolor": "#EBF0F8",
                      "ticks": "",
                      "title": {
                        "standoff": 15
                      },
                      "zerolinecolor": "#EBF0F8",
                      "zerolinewidth": 2
                    }
                  }
                },
                "title": {
                  "text": "ROC Curve"
                },
                "xaxis": {
                  "title": {
                    "text": "False Positive Rate"
                  }
                },
                "yaxis": {
                  "title": {
                    "text": "True Positive Rate"
                  }
                }
              }
            }
          },
          "metadata": {},
          "output_type": "display_data"
        }
      ],
      "source": [
        "lr_auc_med_reduced = roc_auc_score(y_test, y_pred_med_probs_reduced)\n",
        "\n",
        "print(f'Modèle Naïf: ROC AUC={round(ns_auc, 2)}')\n",
        "print(f'XGBoost | Avant Grid Search: ROC AUC={round(lr_auc_med, 2)}')\n",
        "print(f'XGBoost | Avant Grid Search Reduced : ROC AUC={round(lr_auc_med_reduced, 2)}')\n",
        "\n",
        "\n",
        "# Calcul des courbes ROC\n",
        "lr_fpr_med_reduced, lr_tpr_med_reduced, _ = roc_curve(y_test, y_pred_med_probs_reduced)\n",
        "\n",
        "fig = go.Figure()\n",
        "\n",
        "fig.add_trace(go.Scatter(x=ns_fpr, y=ns_tpr, mode='lines',\n",
        "                         name='No Skill',\n",
        "                         line=dict(dash='dash', color='blue')))\n",
        "\n",
        "fig.add_trace(go.Scatter(x=lr_fpr_med, y=lr_tpr_med, mode='lines',\n",
        "                         name='XGBoost | Modèle Complet',\n",
        "                         ))\n",
        "\n",
        "fig.add_trace(go.Scatter(x=lr_fpr_med_reduced, y=lr_tpr_med_reduced, mode='lines',\n",
        "                         name='XGBoost | Modèle Réduit',\n",
        "                         ))\n",
        "\n",
        "fig.update_layout(\n",
        "    title=\"ROC Curve\",\n",
        "    xaxis_title=\"False Positive Rate\",\n",
        "    yaxis_title=\"True Positive Rate\",\n",
        "    legend_title=\"Modèles\",\n",
        "    template=\"plotly_white\"\n",
        ")\n",
        "fig.show()"
      ]
    },
    {
      "cell_type": "markdown",
      "metadata": {},
      "source": [
        "<span style=\"font-size: 24px; color: darkred; text-decoration: underline;\"><strong>Optimisation du modèle réduit</strong></span>"
      ]
    },
    {
      "cell_type": "code",
      "execution_count": 22,
      "metadata": {
        "colab": {
          "base_uri": "https://localhost:8080/",
          "height": 135
        },
        "id": "iO2W65YHSiGS",
        "outputId": "d17f3613-7d98-4241-a54a-d7c8e719ca4b"
      },
      "outputs": [
        {
          "name": "stderr",
          "output_type": "stream",
          "text": [
            "c:\\Users\\alexi\\Desktop\\Projet_Scoring_1\\.venv\\Lib\\site-packages\\numpy\\ma\\core.py:2820: RuntimeWarning:\n",
            "\n",
            "invalid value encountered in cast\n",
            "\n"
          ]
        },
        {
          "data": {
            "text/html": [
              "<style>#sk-container-id-2 {\n",
              "  /* Definition of color scheme common for light and dark mode */\n",
              "  --sklearn-color-text: black;\n",
              "  --sklearn-color-line: gray;\n",
              "  /* Definition of color scheme for unfitted estimators */\n",
              "  --sklearn-color-unfitted-level-0: #fff5e6;\n",
              "  --sklearn-color-unfitted-level-1: #f6e4d2;\n",
              "  --sklearn-color-unfitted-level-2: #ffe0b3;\n",
              "  --sklearn-color-unfitted-level-3: chocolate;\n",
              "  /* Definition of color scheme for fitted estimators */\n",
              "  --sklearn-color-fitted-level-0: #f0f8ff;\n",
              "  --sklearn-color-fitted-level-1: #d4ebff;\n",
              "  --sklearn-color-fitted-level-2: #b3dbfd;\n",
              "  --sklearn-color-fitted-level-3: cornflowerblue;\n",
              "\n",
              "  /* Specific color for light theme */\n",
              "  --sklearn-color-text-on-default-background: var(--sg-text-color, var(--theme-code-foreground, var(--jp-content-font-color1, black)));\n",
              "  --sklearn-color-background: var(--sg-background-color, var(--theme-background, var(--jp-layout-color0, white)));\n",
              "  --sklearn-color-border-box: var(--sg-text-color, var(--theme-code-foreground, var(--jp-content-font-color1, black)));\n",
              "  --sklearn-color-icon: #696969;\n",
              "\n",
              "  @media (prefers-color-scheme: dark) {\n",
              "    /* Redefinition of color scheme for dark theme */\n",
              "    --sklearn-color-text-on-default-background: var(--sg-text-color, var(--theme-code-foreground, var(--jp-content-font-color1, white)));\n",
              "    --sklearn-color-background: var(--sg-background-color, var(--theme-background, var(--jp-layout-color0, #111)));\n",
              "    --sklearn-color-border-box: var(--sg-text-color, var(--theme-code-foreground, var(--jp-content-font-color1, white)));\n",
              "    --sklearn-color-icon: #878787;\n",
              "  }\n",
              "}\n",
              "\n",
              "#sk-container-id-2 {\n",
              "  color: var(--sklearn-color-text);\n",
              "}\n",
              "\n",
              "#sk-container-id-2 pre {\n",
              "  padding: 0;\n",
              "}\n",
              "\n",
              "#sk-container-id-2 input.sk-hidden--visually {\n",
              "  border: 0;\n",
              "  clip: rect(1px 1px 1px 1px);\n",
              "  clip: rect(1px, 1px, 1px, 1px);\n",
              "  height: 1px;\n",
              "  margin: -1px;\n",
              "  overflow: hidden;\n",
              "  padding: 0;\n",
              "  position: absolute;\n",
              "  width: 1px;\n",
              "}\n",
              "\n",
              "#sk-container-id-2 div.sk-dashed-wrapped {\n",
              "  border: 1px dashed var(--sklearn-color-line);\n",
              "  margin: 0 0.4em 0.5em 0.4em;\n",
              "  box-sizing: border-box;\n",
              "  padding-bottom: 0.4em;\n",
              "  background-color: var(--sklearn-color-background);\n",
              "}\n",
              "\n",
              "#sk-container-id-2 div.sk-container {\n",
              "  /* jupyter's `normalize.less` sets `[hidden] { display: none; }`\n",
              "     but bootstrap.min.css set `[hidden] { display: none !important; }`\n",
              "     so we also need the `!important` here to be able to override the\n",
              "     default hidden behavior on the sphinx rendered scikit-learn.org.\n",
              "     See: https://github.com/scikit-learn/scikit-learn/issues/21755 */\n",
              "  display: inline-block !important;\n",
              "  position: relative;\n",
              "}\n",
              "\n",
              "#sk-container-id-2 div.sk-text-repr-fallback {\n",
              "  display: none;\n",
              "}\n",
              "\n",
              "div.sk-parallel-item,\n",
              "div.sk-serial,\n",
              "div.sk-item {\n",
              "  /* draw centered vertical line to link estimators */\n",
              "  background-image: linear-gradient(var(--sklearn-color-text-on-default-background), var(--sklearn-color-text-on-default-background));\n",
              "  background-size: 2px 100%;\n",
              "  background-repeat: no-repeat;\n",
              "  background-position: center center;\n",
              "}\n",
              "\n",
              "/* Parallel-specific style estimator block */\n",
              "\n",
              "#sk-container-id-2 div.sk-parallel-item::after {\n",
              "  content: \"\";\n",
              "  width: 100%;\n",
              "  border-bottom: 2px solid var(--sklearn-color-text-on-default-background);\n",
              "  flex-grow: 1;\n",
              "}\n",
              "\n",
              "#sk-container-id-2 div.sk-parallel {\n",
              "  display: flex;\n",
              "  align-items: stretch;\n",
              "  justify-content: center;\n",
              "  background-color: var(--sklearn-color-background);\n",
              "  position: relative;\n",
              "}\n",
              "\n",
              "#sk-container-id-2 div.sk-parallel-item {\n",
              "  display: flex;\n",
              "  flex-direction: column;\n",
              "}\n",
              "\n",
              "#sk-container-id-2 div.sk-parallel-item:first-child::after {\n",
              "  align-self: flex-end;\n",
              "  width: 50%;\n",
              "}\n",
              "\n",
              "#sk-container-id-2 div.sk-parallel-item:last-child::after {\n",
              "  align-self: flex-start;\n",
              "  width: 50%;\n",
              "}\n",
              "\n",
              "#sk-container-id-2 div.sk-parallel-item:only-child::after {\n",
              "  width: 0;\n",
              "}\n",
              "\n",
              "/* Serial-specific style estimator block */\n",
              "\n",
              "#sk-container-id-2 div.sk-serial {\n",
              "  display: flex;\n",
              "  flex-direction: column;\n",
              "  align-items: center;\n",
              "  background-color: var(--sklearn-color-background);\n",
              "  padding-right: 1em;\n",
              "  padding-left: 1em;\n",
              "}\n",
              "\n",
              "\n",
              "/* Toggleable style: style used for estimator/Pipeline/ColumnTransformer box that is\n",
              "clickable and can be expanded/collapsed.\n",
              "- Pipeline and ColumnTransformer use this feature and define the default style\n",
              "- Estimators will overwrite some part of the style using the `sk-estimator` class\n",
              "*/\n",
              "\n",
              "/* Pipeline and ColumnTransformer style (default) */\n",
              "\n",
              "#sk-container-id-2 div.sk-toggleable {\n",
              "  /* Default theme specific background. It is overwritten whether we have a\n",
              "  specific estimator or a Pipeline/ColumnTransformer */\n",
              "  background-color: var(--sklearn-color-background);\n",
              "}\n",
              "\n",
              "/* Toggleable label */\n",
              "#sk-container-id-2 label.sk-toggleable__label {\n",
              "  cursor: pointer;\n",
              "  display: block;\n",
              "  width: 100%;\n",
              "  margin-bottom: 0;\n",
              "  padding: 0.5em;\n",
              "  box-sizing: border-box;\n",
              "  text-align: center;\n",
              "}\n",
              "\n",
              "#sk-container-id-2 label.sk-toggleable__label-arrow:before {\n",
              "  /* Arrow on the left of the label */\n",
              "  content: \"▸\";\n",
              "  float: left;\n",
              "  margin-right: 0.25em;\n",
              "  color: var(--sklearn-color-icon);\n",
              "}\n",
              "\n",
              "#sk-container-id-2 label.sk-toggleable__label-arrow:hover:before {\n",
              "  color: var(--sklearn-color-text);\n",
              "}\n",
              "\n",
              "/* Toggleable content - dropdown */\n",
              "\n",
              "#sk-container-id-2 div.sk-toggleable__content {\n",
              "  max-height: 0;\n",
              "  max-width: 0;\n",
              "  overflow: hidden;\n",
              "  text-align: left;\n",
              "  /* unfitted */\n",
              "  background-color: var(--sklearn-color-unfitted-level-0);\n",
              "}\n",
              "\n",
              "#sk-container-id-2 div.sk-toggleable__content.fitted {\n",
              "  /* fitted */\n",
              "  background-color: var(--sklearn-color-fitted-level-0);\n",
              "}\n",
              "\n",
              "#sk-container-id-2 div.sk-toggleable__content pre {\n",
              "  margin: 0.2em;\n",
              "  border-radius: 0.25em;\n",
              "  color: var(--sklearn-color-text);\n",
              "  /* unfitted */\n",
              "  background-color: var(--sklearn-color-unfitted-level-0);\n",
              "}\n",
              "\n",
              "#sk-container-id-2 div.sk-toggleable__content.fitted pre {\n",
              "  /* unfitted */\n",
              "  background-color: var(--sklearn-color-fitted-level-0);\n",
              "}\n",
              "\n",
              "#sk-container-id-2 input.sk-toggleable__control:checked~div.sk-toggleable__content {\n",
              "  /* Expand drop-down */\n",
              "  max-height: 200px;\n",
              "  max-width: 100%;\n",
              "  overflow: auto;\n",
              "}\n",
              "\n",
              "#sk-container-id-2 input.sk-toggleable__control:checked~label.sk-toggleable__label-arrow:before {\n",
              "  content: \"▾\";\n",
              "}\n",
              "\n",
              "/* Pipeline/ColumnTransformer-specific style */\n",
              "\n",
              "#sk-container-id-2 div.sk-label input.sk-toggleable__control:checked~label.sk-toggleable__label {\n",
              "  color: var(--sklearn-color-text);\n",
              "  background-color: var(--sklearn-color-unfitted-level-2);\n",
              "}\n",
              "\n",
              "#sk-container-id-2 div.sk-label.fitted input.sk-toggleable__control:checked~label.sk-toggleable__label {\n",
              "  background-color: var(--sklearn-color-fitted-level-2);\n",
              "}\n",
              "\n",
              "/* Estimator-specific style */\n",
              "\n",
              "/* Colorize estimator box */\n",
              "#sk-container-id-2 div.sk-estimator input.sk-toggleable__control:checked~label.sk-toggleable__label {\n",
              "  /* unfitted */\n",
              "  background-color: var(--sklearn-color-unfitted-level-2);\n",
              "}\n",
              "\n",
              "#sk-container-id-2 div.sk-estimator.fitted input.sk-toggleable__control:checked~label.sk-toggleable__label {\n",
              "  /* fitted */\n",
              "  background-color: var(--sklearn-color-fitted-level-2);\n",
              "}\n",
              "\n",
              "#sk-container-id-2 div.sk-label label.sk-toggleable__label,\n",
              "#sk-container-id-2 div.sk-label label {\n",
              "  /* The background is the default theme color */\n",
              "  color: var(--sklearn-color-text-on-default-background);\n",
              "}\n",
              "\n",
              "/* On hover, darken the color of the background */\n",
              "#sk-container-id-2 div.sk-label:hover label.sk-toggleable__label {\n",
              "  color: var(--sklearn-color-text);\n",
              "  background-color: var(--sklearn-color-unfitted-level-2);\n",
              "}\n",
              "\n",
              "/* Label box, darken color on hover, fitted */\n",
              "#sk-container-id-2 div.sk-label.fitted:hover label.sk-toggleable__label.fitted {\n",
              "  color: var(--sklearn-color-text);\n",
              "  background-color: var(--sklearn-color-fitted-level-2);\n",
              "}\n",
              "\n",
              "/* Estimator label */\n",
              "\n",
              "#sk-container-id-2 div.sk-label label {\n",
              "  font-family: monospace;\n",
              "  font-weight: bold;\n",
              "  display: inline-block;\n",
              "  line-height: 1.2em;\n",
              "}\n",
              "\n",
              "#sk-container-id-2 div.sk-label-container {\n",
              "  text-align: center;\n",
              "}\n",
              "\n",
              "/* Estimator-specific */\n",
              "#sk-container-id-2 div.sk-estimator {\n",
              "  font-family: monospace;\n",
              "  border: 1px dotted var(--sklearn-color-border-box);\n",
              "  border-radius: 0.25em;\n",
              "  box-sizing: border-box;\n",
              "  margin-bottom: 0.5em;\n",
              "  /* unfitted */\n",
              "  background-color: var(--sklearn-color-unfitted-level-0);\n",
              "}\n",
              "\n",
              "#sk-container-id-2 div.sk-estimator.fitted {\n",
              "  /* fitted */\n",
              "  background-color: var(--sklearn-color-fitted-level-0);\n",
              "}\n",
              "\n",
              "/* on hover */\n",
              "#sk-container-id-2 div.sk-estimator:hover {\n",
              "  /* unfitted */\n",
              "  background-color: var(--sklearn-color-unfitted-level-2);\n",
              "}\n",
              "\n",
              "#sk-container-id-2 div.sk-estimator.fitted:hover {\n",
              "  /* fitted */\n",
              "  background-color: var(--sklearn-color-fitted-level-2);\n",
              "}\n",
              "\n",
              "/* Specification for estimator info (e.g. \"i\" and \"?\") */\n",
              "\n",
              "/* Common style for \"i\" and \"?\" */\n",
              "\n",
              ".sk-estimator-doc-link,\n",
              "a:link.sk-estimator-doc-link,\n",
              "a:visited.sk-estimator-doc-link {\n",
              "  float: right;\n",
              "  font-size: smaller;\n",
              "  line-height: 1em;\n",
              "  font-family: monospace;\n",
              "  background-color: var(--sklearn-color-background);\n",
              "  border-radius: 1em;\n",
              "  height: 1em;\n",
              "  width: 1em;\n",
              "  text-decoration: none !important;\n",
              "  margin-left: 1ex;\n",
              "  /* unfitted */\n",
              "  border: var(--sklearn-color-unfitted-level-1) 1pt solid;\n",
              "  color: var(--sklearn-color-unfitted-level-1);\n",
              "}\n",
              "\n",
              ".sk-estimator-doc-link.fitted,\n",
              "a:link.sk-estimator-doc-link.fitted,\n",
              "a:visited.sk-estimator-doc-link.fitted {\n",
              "  /* fitted */\n",
              "  border: var(--sklearn-color-fitted-level-1) 1pt solid;\n",
              "  color: var(--sklearn-color-fitted-level-1);\n",
              "}\n",
              "\n",
              "/* On hover */\n",
              "div.sk-estimator:hover .sk-estimator-doc-link:hover,\n",
              ".sk-estimator-doc-link:hover,\n",
              "div.sk-label-container:hover .sk-estimator-doc-link:hover,\n",
              ".sk-estimator-doc-link:hover {\n",
              "  /* unfitted */\n",
              "  background-color: var(--sklearn-color-unfitted-level-3);\n",
              "  color: var(--sklearn-color-background);\n",
              "  text-decoration: none;\n",
              "}\n",
              "\n",
              "div.sk-estimator.fitted:hover .sk-estimator-doc-link.fitted:hover,\n",
              ".sk-estimator-doc-link.fitted:hover,\n",
              "div.sk-label-container:hover .sk-estimator-doc-link.fitted:hover,\n",
              ".sk-estimator-doc-link.fitted:hover {\n",
              "  /* fitted */\n",
              "  background-color: var(--sklearn-color-fitted-level-3);\n",
              "  color: var(--sklearn-color-background);\n",
              "  text-decoration: none;\n",
              "}\n",
              "\n",
              "/* Span, style for the box shown on hovering the info icon */\n",
              ".sk-estimator-doc-link span {\n",
              "  display: none;\n",
              "  z-index: 9999;\n",
              "  position: relative;\n",
              "  font-weight: normal;\n",
              "  right: .2ex;\n",
              "  padding: .5ex;\n",
              "  margin: .5ex;\n",
              "  width: min-content;\n",
              "  min-width: 20ex;\n",
              "  max-width: 50ex;\n",
              "  color: var(--sklearn-color-text);\n",
              "  box-shadow: 2pt 2pt 4pt #999;\n",
              "  /* unfitted */\n",
              "  background: var(--sklearn-color-unfitted-level-0);\n",
              "  border: .5pt solid var(--sklearn-color-unfitted-level-3);\n",
              "}\n",
              "\n",
              ".sk-estimator-doc-link.fitted span {\n",
              "  /* fitted */\n",
              "  background: var(--sklearn-color-fitted-level-0);\n",
              "  border: var(--sklearn-color-fitted-level-3);\n",
              "}\n",
              "\n",
              ".sk-estimator-doc-link:hover span {\n",
              "  display: block;\n",
              "}\n",
              "\n",
              "/* \"?\"-specific style due to the `<a>` HTML tag */\n",
              "\n",
              "#sk-container-id-2 a.estimator_doc_link {\n",
              "  float: right;\n",
              "  font-size: 1rem;\n",
              "  line-height: 1em;\n",
              "  font-family: monospace;\n",
              "  background-color: var(--sklearn-color-background);\n",
              "  border-radius: 1rem;\n",
              "  height: 1rem;\n",
              "  width: 1rem;\n",
              "  text-decoration: none;\n",
              "  /* unfitted */\n",
              "  color: var(--sklearn-color-unfitted-level-1);\n",
              "  border: var(--sklearn-color-unfitted-level-1) 1pt solid;\n",
              "}\n",
              "\n",
              "#sk-container-id-2 a.estimator_doc_link.fitted {\n",
              "  /* fitted */\n",
              "  border: var(--sklearn-color-fitted-level-1) 1pt solid;\n",
              "  color: var(--sklearn-color-fitted-level-1);\n",
              "}\n",
              "\n",
              "/* On hover */\n",
              "#sk-container-id-2 a.estimator_doc_link:hover {\n",
              "  /* unfitted */\n",
              "  background-color: var(--sklearn-color-unfitted-level-3);\n",
              "  color: var(--sklearn-color-background);\n",
              "  text-decoration: none;\n",
              "}\n",
              "\n",
              "#sk-container-id-2 a.estimator_doc_link.fitted:hover {\n",
              "  /* fitted */\n",
              "  background-color: var(--sklearn-color-fitted-level-3);\n",
              "}\n",
              "</style><div id=\"sk-container-id-2\" class=\"sk-top-container\"><div class=\"sk-text-repr-fallback\"><pre>GridSearchCV(cv=StratifiedKFold(n_splits=4, random_state=None, shuffle=False),\n",
              "             estimator=XGBClassifier(base_score=None, booster=None,\n",
              "                                     callbacks=None, colsample_bylevel=None,\n",
              "                                     colsample_bynode=None,\n",
              "                                     colsample_bytree=None, device=None,\n",
              "                                     early_stopping_rounds=None,\n",
              "                                     enable_categorical=False, eval_metric=None,\n",
              "                                     feature_types=None, gamma=None,\n",
              "                                     grow_policy=None, importance_...\n",
              "                                     max_leaves=None, min_child_weight=None,\n",
              "                                     missing=nan, monotone_constraints=None,\n",
              "                                     multi_strategy=None, n_estimators=None,\n",
              "                                     n_jobs=None, num_parallel_tree=None,\n",
              "                                     random_state=None, ...),\n",
              "             param_grid={&#x27;colsample_bytree&#x27;: [0.7, 0.8], &#x27;gamma&#x27;: [0, 0.01],\n",
              "                         &#x27;learning_rate&#x27;: [0.01, 0.05], &#x27;max_depth&#x27;: [6, 7],\n",
              "                         &#x27;min_child_weight&#x27;: [1, 2], &#x27;n_estimators&#x27;: [400, 600],\n",
              "                         &#x27;subsample&#x27;: [0.6, 0.7]},\n",
              "             scoring=&#x27;roc_auc&#x27;)</pre><b>In a Jupyter environment, please rerun this cell to show the HTML representation or trust the notebook. <br />On GitHub, the HTML representation is unable to render, please try loading this page with nbviewer.org.</b></div><div class=\"sk-container\" hidden><div class=\"sk-item sk-dashed-wrapped\"><div class=\"sk-label-container\"><div class=\"sk-label fitted sk-toggleable\"><input class=\"sk-toggleable__control sk-hidden--visually\" id=\"sk-estimator-id-4\" type=\"checkbox\" ><label for=\"sk-estimator-id-4\" class=\"sk-toggleable__label fitted sk-toggleable__label-arrow fitted\">&nbsp;&nbsp;GridSearchCV<a class=\"sk-estimator-doc-link fitted\" rel=\"noreferrer\" target=\"_blank\" href=\"https://scikit-learn.org/1.5/modules/generated/sklearn.model_selection.GridSearchCV.html\">?<span>Documentation for GridSearchCV</span></a><span class=\"sk-estimator-doc-link fitted\">i<span>Fitted</span></span></label><div class=\"sk-toggleable__content fitted\"><pre>GridSearchCV(cv=StratifiedKFold(n_splits=4, random_state=None, shuffle=False),\n",
              "             estimator=XGBClassifier(base_score=None, booster=None,\n",
              "                                     callbacks=None, colsample_bylevel=None,\n",
              "                                     colsample_bynode=None,\n",
              "                                     colsample_bytree=None, device=None,\n",
              "                                     early_stopping_rounds=None,\n",
              "                                     enable_categorical=False, eval_metric=None,\n",
              "                                     feature_types=None, gamma=None,\n",
              "                                     grow_policy=None, importance_...\n",
              "                                     max_leaves=None, min_child_weight=None,\n",
              "                                     missing=nan, monotone_constraints=None,\n",
              "                                     multi_strategy=None, n_estimators=None,\n",
              "                                     n_jobs=None, num_parallel_tree=None,\n",
              "                                     random_state=None, ...),\n",
              "             param_grid={&#x27;colsample_bytree&#x27;: [0.7, 0.8], &#x27;gamma&#x27;: [0, 0.01],\n",
              "                         &#x27;learning_rate&#x27;: [0.01, 0.05], &#x27;max_depth&#x27;: [6, 7],\n",
              "                         &#x27;min_child_weight&#x27;: [1, 2], &#x27;n_estimators&#x27;: [400, 600],\n",
              "                         &#x27;subsample&#x27;: [0.6, 0.7]},\n",
              "             scoring=&#x27;roc_auc&#x27;)</pre></div> </div></div><div class=\"sk-parallel\"><div class=\"sk-parallel-item\"><div class=\"sk-item\"><div class=\"sk-label-container\"><div class=\"sk-label fitted sk-toggleable\"><input class=\"sk-toggleable__control sk-hidden--visually\" id=\"sk-estimator-id-5\" type=\"checkbox\" ><label for=\"sk-estimator-id-5\" class=\"sk-toggleable__label fitted sk-toggleable__label-arrow fitted\">best_estimator_: XGBClassifier</label><div class=\"sk-toggleable__content fitted\"><pre>XGBClassifier(base_score=None, booster=None, callbacks=None,\n",
              "              colsample_bylevel=None, colsample_bynode=None,\n",
              "              colsample_bytree=0.8, device=None, early_stopping_rounds=None,\n",
              "              enable_categorical=False, eval_metric=None, feature_types=None,\n",
              "              gamma=0, grow_policy=None, importance_type=None,\n",
              "              interaction_constraints=None, learning_rate=0.05, max_bin=None,\n",
              "              max_cat_threshold=None, max_cat_to_onehot=None,\n",
              "              max_delta_step=None, max_depth=7, max_leaves=None,\n",
              "              min_child_weight=1, missing=nan, monotone_constraints=None,\n",
              "              multi_strategy=None, n_estimators=600, n_jobs=None,\n",
              "              num_parallel_tree=None, random_state=None, ...)</pre></div> </div></div><div class=\"sk-serial\"><div class=\"sk-item\"><div class=\"sk-estimator fitted sk-toggleable\"><input class=\"sk-toggleable__control sk-hidden--visually\" id=\"sk-estimator-id-6\" type=\"checkbox\" ><label for=\"sk-estimator-id-6\" class=\"sk-toggleable__label fitted sk-toggleable__label-arrow fitted\">XGBClassifier</label><div class=\"sk-toggleable__content fitted\"><pre>XGBClassifier(base_score=None, booster=None, callbacks=None,\n",
              "              colsample_bylevel=None, colsample_bynode=None,\n",
              "              colsample_bytree=0.8, device=None, early_stopping_rounds=None,\n",
              "              enable_categorical=False, eval_metric=None, feature_types=None,\n",
              "              gamma=0, grow_policy=None, importance_type=None,\n",
              "              interaction_constraints=None, learning_rate=0.05, max_bin=None,\n",
              "              max_cat_threshold=None, max_cat_to_onehot=None,\n",
              "              max_delta_step=None, max_depth=7, max_leaves=None,\n",
              "              min_child_weight=1, missing=nan, monotone_constraints=None,\n",
              "              multi_strategy=None, n_estimators=600, n_jobs=None,\n",
              "              num_parallel_tree=None, random_state=None, ...)</pre></div> </div></div></div></div></div></div></div></div></div>"
            ],
            "text/plain": [
              "GridSearchCV(cv=StratifiedKFold(n_splits=4, random_state=None, shuffle=False),\n",
              "             estimator=XGBClassifier(base_score=None, booster=None,\n",
              "                                     callbacks=None, colsample_bylevel=None,\n",
              "                                     colsample_bynode=None,\n",
              "                                     colsample_bytree=None, device=None,\n",
              "                                     early_stopping_rounds=None,\n",
              "                                     enable_categorical=False, eval_metric=None,\n",
              "                                     feature_types=None, gamma=None,\n",
              "                                     grow_policy=None, importance_...\n",
              "                                     max_leaves=None, min_child_weight=None,\n",
              "                                     missing=nan, monotone_constraints=None,\n",
              "                                     multi_strategy=None, n_estimators=None,\n",
              "                                     n_jobs=None, num_parallel_tree=None,\n",
              "                                     random_state=None, ...),\n",
              "             param_grid={'colsample_bytree': [0.7, 0.8], 'gamma': [0, 0.01],\n",
              "                         'learning_rate': [0.01, 0.05], 'max_depth': [6, 7],\n",
              "                         'min_child_weight': [1, 2], 'n_estimators': [400, 600],\n",
              "                         'subsample': [0.6, 0.7]},\n",
              "             scoring='roc_auc')"
            ]
          },
          "execution_count": 22,
          "metadata": {},
          "output_type": "execute_result"
        }
      ],
      "source": [
        "params_grid = {\n",
        "    'learning_rate': [0.01, 0.05],\n",
        "    'gamma':[0, 0.01],\n",
        "    'max_depth': [6, 7],\n",
        "    'min_child_weight': [1, 2],\n",
        "    'subsample': [0.6, 0.7,],\n",
        "    'n_estimators': [400, 600],\n",
        "    'colsample_bytree':[0.7, 0.8],\n",
        "}\n",
        "classifier = XGBClassifier()\n",
        "\n",
        "grid_classifier_reduced = GridSearchCV(\n",
        "    estimator=classifier,\n",
        "    param_grid=params_grid,\n",
        "    scoring='roc_auc',\n",
        "    cv=stratified_kfold\n",
        ")\n",
        "grid_classifier_reduced.fit(x_train_med_reduced, y_train)"
      ]
    },
    {
      "cell_type": "code",
      "execution_count": 23,
      "metadata": {
        "colab": {
          "base_uri": "https://localhost:8080/"
        },
        "id": "TCG2p7jYSiIs",
        "outputId": "0b7ee187-890a-476e-94e6-88356dc60beb"
      },
      "outputs": [
        {
          "data": {
            "text/plain": [
              "{'colsample_bytree': 0.8,\n",
              " 'gamma': 0,\n",
              " 'learning_rate': 0.05,\n",
              " 'max_depth': 7,\n",
              " 'min_child_weight': 1,\n",
              " 'n_estimators': 600,\n",
              " 'subsample': 0.7}"
            ]
          },
          "execution_count": 23,
          "metadata": {},
          "output_type": "execute_result"
        }
      ],
      "source": [
        "# On récupère les meilleurs hyper-paramètres du modèle\n",
        "best_parameters_reduced = grid_classifier_reduced.best_params_\n",
        "best_parameters_reduced"
      ]
    },
    {
      "cell_type": "markdown",
      "metadata": {},
      "source": [
        "<span style=\"font-size: 24px; color: darkred; text-decoration: underline;\"><strong>Courbes ROC entre le modèle réduit optimisé et le modèle complet optimisé</strong></span>"
      ]
    },
    {
      "cell_type": "code",
      "execution_count": 24,
      "metadata": {
        "colab": {
          "base_uri": "https://localhost:8080/"
        },
        "id": "ZnxqGImJSiLH",
        "outputId": "86b52167-8bbf-4fab-af91-c641c8ebbbad"
      },
      "outputs": [
        {
          "name": "stdout",
          "output_type": "stream",
          "text": [
            "Naïf: ROC AUC = 0.5\n",
            "XGBoost | Après GridSearch: ROC AUC = 0.96\n",
            "XGBoost | Après GridSearch Reduced: ROC AUC = 0.94\n"
          ]
        },
        {
          "data": {
            "application/vnd.plotly.v1+json": {
              "config": {
                "plotlyServerURL": "https://plot.ly"
              },
              "data": [
                {
                  "line": {
                    "color": "blue",
                    "dash": "dash"
                  },
                  "mode": "lines",
                  "name": "Naïf",
                  "type": "scatter",
                  "x": [
                    0,
                    1
                  ],
                  "y": [
                    0,
                    1
                  ]
                },
                {
                  "mode": "lines",
                  "name": "XGBoost | Modèle Complet Après GridSearch",
                  "type": "scatter",
                  "x": [
                    0,
                    0,
                    0,
                    0.0006988120195667365,
                    0.0006988120195667365,
                    0.001397624039133473,
                    0.001397624039133473,
                    0.0020964360587002098,
                    0.0020964360587002098,
                    0.002795248078266946,
                    0.002795248078266946,
                    0.0034940600978336828,
                    0.0034940600978336828,
                    0.004891684136967156,
                    0.004891684136967156,
                    0.005590496156533892,
                    0.005590496156533892,
                    0.006289308176100629,
                    0.006289308176100629,
                    0.0069881201956673656,
                    0.0069881201956673656,
                    0.007686932215234102,
                    0.007686932215234102,
                    0.008385744234800839,
                    0.008385744234800839,
                    0.009084556254367574,
                    0.009084556254367574,
                    0.009783368273934312,
                    0.009783368273934312,
                    0.010482180293501049,
                    0.010482180293501049,
                    0.011180992313067784,
                    0.011180992313067784,
                    0.012578616352201259,
                    0.012578616352201259,
                    0.015373864430468204,
                    0.015373864430468204,
                    0.01607267645003494,
                    0.01607267645003494,
                    0.01816911250873515,
                    0.01816911250873515,
                    0.018867924528301886,
                    0.018867924528301886,
                    0.019566736547868623,
                    0.019566736547868623,
                    0.02026554856743536,
                    0.02026554856743536,
                    0.02166317260656883,
                    0.02166317260656883,
                    0.02236198462613557,
                    0.02236198462613557,
                    0.023060796645702306,
                    0.023060796645702306,
                    0.023759608665269043,
                    0.023759608665269043,
                    0.025157232704402517,
                    0.025157232704402517,
                    0.026554856743535988,
                    0.026554856743535988,
                    0.027253668763102725,
                    0.027253668763102725,
                    0.027952480782669462,
                    0.027952480782669462,
                    0.0286512928022362,
                    0.0286512928022362,
                    0.029350104821802937,
                    0.029350104821802937,
                    0.03004891684136967,
                    0.03004891684136967,
                    0.030747728860936407,
                    0.030747728860936407,
                    0.031446540880503145,
                    0.031446540880503145,
                    0.03284416491963662,
                    0.03284416491963662,
                    0.033542976939203356,
                    0.033542976939203356,
                    0.03424178895877009,
                    0.03424178895877009,
                    0.03494060097833683,
                    0.03494060097833683,
                    0.03563941299790356,
                    0.03563941299790356,
                    0.037037037037037035,
                    0.037037037037037035,
                    0.03773584905660377,
                    0.03773584905660377,
                    0.039832285115303984,
                    0.039832285115303984,
                    0.04053109713487072,
                    0.04053109713487072,
                    0.04122990915443746,
                    0.04122990915443746,
                    0.041928721174004195,
                    0.041928721174004195,
                    0.0440251572327044,
                    0.0440251572327044,
                    0.04472396925227114,
                    0.04472396925227114,
                    0.045422781271837874,
                    0.045422781271837874,
                    0.04682040531097135,
                    0.04682040531097135,
                    0.04821802935010482,
                    0.04821802935010482,
                    0.050314465408805034,
                    0.050314465408805034,
                    0.05241090146750524,
                    0.05241090146750524,
                    0.05450733752620545,
                    0.05450733752620545,
                    0.05660377358490566,
                    0.05660377358490566,
                    0.058001397624039136,
                    0.058001397624039136,
                    0.05870020964360587,
                    0.05870020964360587,
                    0.06009783368273934,
                    0.06009783368273934,
                    0.06289308176100629,
                    0.06289308176100629,
                    0.06359189378057302,
                    0.06359189378057302,
                    0.0649895178197065,
                    0.0649895178197065,
                    0.06988120195667366,
                    0.06988120195667366,
                    0.07337526205450734,
                    0.07337526205450734,
                    0.07407407407407407,
                    0.07407407407407407,
                    0.07826694619147449,
                    0.07826694619147449,
                    0.07896575821104122,
                    0.07896575821104122,
                    0.08315863032844165,
                    0.08315863032844165,
                    0.08455625436757512,
                    0.08455625436757512,
                    0.08525506638714186,
                    0.08525506638714186,
                    0.09154437456324249,
                    0.09154437456324249,
                    0.10062893081761007,
                    0.10062893081761007,
                    0.10412299091544375,
                    0.10412299091544375,
                    0.10761705101327743,
                    0.10761705101327743,
                    0.11530398322851153,
                    0.11530398322851153,
                    0.11600279524807827,
                    0.11600279524807827,
                    0.11740041928721175,
                    0.11740041928721175,
                    0.12089447938504543,
                    0.12089447938504543,
                    0.1222921034241789,
                    0.1222921034241789,
                    0.12508735150244585,
                    0.12508735150244585,
                    0.13137665967854648,
                    0.13137665967854648,
                    0.13487071977638015,
                    0.13487071977638015,
                    0.14046121593291405,
                    0.14046121593291405,
                    0.143256464011181,
                    0.143256464011181,
                    0.14605171208944795,
                    0.14605171208944795,
                    0.16701607267645002,
                    0.16701607267645002,
                    0.17120894479385046,
                    0.17120894479385046,
                    0.17470300489168414,
                    0.17470300489168414,
                    0.18588399720475193,
                    0.18588399720475193,
                    0.18798043326345212,
                    0.18798043326345212,
                    0.19007686932215234,
                    0.19007686932215234,
                    0.2103424178895877,
                    0.2103424178895877,
                    0.22711390635918938,
                    0.22711390635918938,
                    0.2445842068483578,
                    0.2445842068483578,
                    0.2613556953179595,
                    0.2613556953179595,
                    0.27253668763102723,
                    0.27253668763102723,
                    0.27952480782669464,
                    0.27952480782669464,
                    0.30328441649196364,
                    0.30328441649196364,
                    0.31865828092243187,
                    0.31865828092243187,
                    0.3284416491963662,
                    0.3284416491963662,
                    0.33962264150943394,
                    0.33962264150943394,
                    0.36547868623340324,
                    0.36547868623340324,
                    0.376659678546471,
                    0.376659678546471,
                    0.47099930118798045,
                    0.47099930118798045,
                    0.5108315863032844,
                    0.5108315863032844,
                    0.517120894479385,
                    0.517120894479385,
                    0.5681341719077568,
                    0.5681341719077568,
                    0.7099930118798043,
                    0.7099930118798043,
                    0.7295597484276729,
                    0.7295597484276729,
                    0.9182389937106918,
                    0.9182389937106918,
                    1
                  ],
                  "y": [
                    0,
                    0.0028011204481792717,
                    0.24649859943977592,
                    0.24649859943977592,
                    0.2605042016806723,
                    0.2605042016806723,
                    0.33053221288515405,
                    0.33053221288515405,
                    0.39215686274509803,
                    0.39215686274509803,
                    0.40336134453781514,
                    0.40336134453781514,
                    0.4257703081232493,
                    0.4257703081232493,
                    0.42857142857142855,
                    0.42857142857142855,
                    0.453781512605042,
                    0.453781512605042,
                    0.49859943977591037,
                    0.49859943977591037,
                    0.5014005602240896,
                    0.5014005602240896,
                    0.5294117647058824,
                    0.5294117647058824,
                    0.5434173669467787,
                    0.5434173669467787,
                    0.5490196078431373,
                    0.5490196078431373,
                    0.5546218487394958,
                    0.5546218487394958,
                    0.5770308123249299,
                    0.5770308123249299,
                    0.5798319327731093,
                    0.5798319327731093,
                    0.5882352941176471,
                    0.5882352941176471,
                    0.5938375350140056,
                    0.5938375350140056,
                    0.5994397759103641,
                    0.5994397759103641,
                    0.6078431372549019,
                    0.6078431372549019,
                    0.6218487394957983,
                    0.6218487394957983,
                    0.6274509803921569,
                    0.6274509803921569,
                    0.6330532212885154,
                    0.6330532212885154,
                    0.6358543417366946,
                    0.6358543417366946,
                    0.6470588235294118,
                    0.6470588235294118,
                    0.6526610644257703,
                    0.6526610644257703,
                    0.6554621848739496,
                    0.6554621848739496,
                    0.6666666666666666,
                    0.6666666666666666,
                    0.6722689075630253,
                    0.6722689075630253,
                    0.6946778711484594,
                    0.6946778711484594,
                    0.6974789915966386,
                    0.6974789915966386,
                    0.711484593837535,
                    0.711484593837535,
                    0.7142857142857143,
                    0.7142857142857143,
                    0.7170868347338936,
                    0.7170868347338936,
                    0.7254901960784313,
                    0.7254901960784313,
                    0.7310924369747899,
                    0.7310924369747899,
                    0.7338935574229691,
                    0.7338935574229691,
                    0.7366946778711485,
                    0.7366946778711485,
                    0.7394957983193278,
                    0.7394957983193278,
                    0.742296918767507,
                    0.742296918767507,
                    0.7478991596638656,
                    0.7478991596638656,
                    0.7507002801120448,
                    0.7507002801120448,
                    0.7591036414565826,
                    0.7591036414565826,
                    0.7619047619047619,
                    0.7619047619047619,
                    0.7647058823529411,
                    0.7647058823529411,
                    0.7675070028011205,
                    0.7675070028011205,
                    0.773109243697479,
                    0.773109243697479,
                    0.7787114845938375,
                    0.7787114845938375,
                    0.7899159663865546,
                    0.7899159663865546,
                    0.7955182072829131,
                    0.7955182072829131,
                    0.7983193277310925,
                    0.7983193277310925,
                    0.803921568627451,
                    0.803921568627451,
                    0.8095238095238095,
                    0.8095238095238095,
                    0.8207282913165266,
                    0.8207282913165266,
                    0.8263305322128851,
                    0.8263305322128851,
                    0.8291316526610645,
                    0.8291316526610645,
                    0.8319327731092437,
                    0.8319327731092437,
                    0.834733893557423,
                    0.834733893557423,
                    0.8403361344537815,
                    0.8403361344537815,
                    0.84593837535014,
                    0.84593837535014,
                    0.8487394957983193,
                    0.8487394957983193,
                    0.8543417366946778,
                    0.8543417366946778,
                    0.8599439775910365,
                    0.8599439775910365,
                    0.8627450980392157,
                    0.8627450980392157,
                    0.865546218487395,
                    0.865546218487395,
                    0.8739495798319328,
                    0.8739495798319328,
                    0.876750700280112,
                    0.876750700280112,
                    0.8795518207282913,
                    0.8795518207282913,
                    0.8823529411764706,
                    0.8823529411764706,
                    0.8851540616246498,
                    0.8851540616246498,
                    0.8907563025210085,
                    0.8907563025210085,
                    0.8935574229691877,
                    0.8935574229691877,
                    0.896358543417367,
                    0.896358543417367,
                    0.8991596638655462,
                    0.8991596638655462,
                    0.9019607843137255,
                    0.9019607843137255,
                    0.9047619047619048,
                    0.9047619047619048,
                    0.907563025210084,
                    0.907563025210084,
                    0.9103641456582633,
                    0.9103641456582633,
                    0.9131652661064426,
                    0.9131652661064426,
                    0.9159663865546218,
                    0.9159663865546218,
                    0.9187675070028011,
                    0.9187675070028011,
                    0.9215686274509803,
                    0.9215686274509803,
                    0.9243697478991597,
                    0.9243697478991597,
                    0.927170868347339,
                    0.927170868347339,
                    0.9299719887955182,
                    0.9299719887955182,
                    0.9327731092436975,
                    0.9327731092436975,
                    0.9355742296918768,
                    0.9355742296918768,
                    0.938375350140056,
                    0.938375350140056,
                    0.9411764705882353,
                    0.9411764705882353,
                    0.9439775910364145,
                    0.9439775910364145,
                    0.9467787114845938,
                    0.9467787114845938,
                    0.9495798319327731,
                    0.9495798319327731,
                    0.9523809523809523,
                    0.9523809523809523,
                    0.9551820728291317,
                    0.9551820728291317,
                    0.957983193277311,
                    0.957983193277311,
                    0.9607843137254902,
                    0.9607843137254902,
                    0.9635854341736695,
                    0.9635854341736695,
                    0.9663865546218487,
                    0.9663865546218487,
                    0.969187675070028,
                    0.969187675070028,
                    0.9719887955182073,
                    0.9719887955182073,
                    0.9747899159663865,
                    0.9747899159663865,
                    0.9775910364145658,
                    0.9775910364145658,
                    0.9803921568627451,
                    0.9803921568627451,
                    0.9831932773109243,
                    0.9831932773109243,
                    0.9859943977591037,
                    0.9859943977591037,
                    0.988795518207283,
                    0.988795518207283,
                    0.9915966386554622,
                    0.9915966386554622,
                    0.9943977591036415,
                    0.9943977591036415,
                    0.9971988795518207,
                    0.9971988795518207,
                    1,
                    1
                  ]
                },
                {
                  "mode": "lines",
                  "name": "XGBoost | Modèle Réduit Après GridSearch",
                  "type": "scatter",
                  "x": [
                    0,
                    0,
                    0,
                    0.0006988120195667365,
                    0.0006988120195667365,
                    0.001397624039133473,
                    0.001397624039133473,
                    0.0020964360587002098,
                    0.0020964360587002098,
                    0.002795248078266946,
                    0.002795248078266946,
                    0.0034940600978336828,
                    0.0034940600978336828,
                    0.0041928721174004195,
                    0.0041928721174004195,
                    0.004891684136967156,
                    0.004891684136967156,
                    0.005590496156533892,
                    0.005590496156533892,
                    0.006289308176100629,
                    0.006289308176100629,
                    0.0069881201956673656,
                    0.0069881201956673656,
                    0.007686932215234102,
                    0.007686932215234102,
                    0.008385744234800839,
                    0.008385744234800839,
                    0.009084556254367574,
                    0.009084556254367574,
                    0.010482180293501049,
                    0.010482180293501049,
                    0.011180992313067784,
                    0.011180992313067784,
                    0.011879804332634521,
                    0.011879804332634521,
                    0.012578616352201259,
                    0.012578616352201259,
                    0.013277428371767994,
                    0.013277428371767994,
                    0.014675052410901468,
                    0.014675052410901468,
                    0.015373864430468204,
                    0.015373864430468204,
                    0.01607267645003494,
                    0.01607267645003494,
                    0.016771488469601678,
                    0.016771488469601678,
                    0.017470300489168415,
                    0.017470300489168415,
                    0.01816911250873515,
                    0.01816911250873515,
                    0.018867924528301886,
                    0.018867924528301886,
                    0.02026554856743536,
                    0.02026554856743536,
                    0.020964360587002098,
                    0.020964360587002098,
                    0.02166317260656883,
                    0.02166317260656883,
                    0.02236198462613557,
                    0.02236198462613557,
                    0.023060796645702306,
                    0.023060796645702306,
                    0.02585604472396925,
                    0.02585604472396925,
                    0.027253668763102725,
                    0.027253668763102725,
                    0.0286512928022362,
                    0.0286512928022362,
                    0.03004891684136967,
                    0.03004891684136967,
                    0.030747728860936407,
                    0.030747728860936407,
                    0.03214535290006988,
                    0.03214535290006988,
                    0.03284416491963662,
                    0.03284416491963662,
                    0.03424178895877009,
                    0.03424178895877009,
                    0.037037037037037035,
                    0.037037037037037035,
                    0.03773584905660377,
                    0.03773584905660377,
                    0.03843466107617051,
                    0.03843466107617051,
                    0.039133473095737246,
                    0.039133473095737246,
                    0.039832285115303984,
                    0.039832285115303984,
                    0.04053109713487072,
                    0.04053109713487072,
                    0.04122990915443746,
                    0.04122990915443746,
                    0.041928721174004195,
                    0.041928721174004195,
                    0.045422781271837874,
                    0.045422781271837874,
                    0.04612159329140461,
                    0.04612159329140461,
                    0.04891684136967156,
                    0.04891684136967156,
                    0.0496156533892383,
                    0.0496156533892383,
                    0.050314465408805034,
                    0.050314465408805034,
                    0.05101327742837177,
                    0.05101327742837177,
                    0.0517120894479385,
                    0.0517120894479385,
                    0.05241090146750524,
                    0.05241090146750524,
                    0.053109713487071976,
                    0.053109713487071976,
                    0.05520614954577219,
                    0.05520614954577219,
                    0.05660377358490566,
                    0.05660377358490566,
                    0.05870020964360587,
                    0.05870020964360587,
                    0.06009783368273934,
                    0.06009783368273934,
                    0.061495457721872815,
                    0.061495457721872815,
                    0.06359189378057302,
                    0.06359189378057302,
                    0.06638714185883997,
                    0.06638714185883997,
                    0.06778476589797344,
                    0.06778476589797344,
                    0.06848357791754019,
                    0.06848357791754019,
                    0.07547169811320754,
                    0.07547169811320754,
                    0.07756813417190776,
                    0.07756813417190776,
                    0.07826694619147449,
                    0.07826694619147449,
                    0.08176100628930817,
                    0.08176100628930817,
                    0.08665269042627533,
                    0.08665269042627533,
                    0.09084556254367575,
                    0.09084556254367575,
                    0.09154437456324249,
                    0.09154437456324249,
                    0.09643605870020965,
                    0.09643605870020965,
                    0.10202655485674354,
                    0.10202655485674354,
                    0.103424178895877,
                    0.103424178895877,
                    0.10412299091544375,
                    0.10412299091544375,
                    0.10482180293501048,
                    0.10482180293501048,
                    0.11390635918937805,
                    0.11390635918937805,
                    0.1146051712089448,
                    0.1146051712089448,
                    0.11740041928721175,
                    0.11740041928721175,
                    0.11809923130677848,
                    0.11809923130677848,
                    0.11949685534591195,
                    0.11949685534591195,
                    0.12299091544374563,
                    0.12299091544374563,
                    0.1243885394828791,
                    0.1243885394828791,
                    0.1278825995807128,
                    0.1278825995807128,
                    0.14255765199161424,
                    0.14255765199161424,
                    0.1474493361285814,
                    0.1474493361285814,
                    0.15234102026554858,
                    0.15234102026554858,
                    0.1684136967155835,
                    0.1684136967155835,
                    0.17051013277428373,
                    0.17051013277428373,
                    0.17819706498951782,
                    0.17819706498951782,
                    0.18308874912648498,
                    0.18308874912648498,
                    0.18448637316561844,
                    0.18448637316561844,
                    0.19217330538085256,
                    0.19217330538085256,
                    0.20195667365478687,
                    0.20195667365478687,
                    0.206848357791754,
                    0.206848357791754,
                    0.21733053808525507,
                    0.21733053808525507,
                    0.2578616352201258,
                    0.2578616352201258,
                    0.2962962962962963,
                    0.2962962962962963,
                    0.29979035639413,
                    0.29979035639413,
                    0.30118798043326345,
                    0.30118798043326345,
                    0.32634521313766596,
                    0.32634521313766596,
                    0.3584905660377358,
                    0.3584905660377358,
                    0.3591893780573026,
                    0.3591893780573026,
                    0.38155136268343814,
                    0.38155136268343814,
                    0.40391334730957373,
                    0.40391334730957373,
                    0.4612159329140461,
                    0.4612159329140461,
                    0.48218029350104824,
                    0.48218029350104824,
                    0.5122292103424179,
                    0.5122292103424179,
                    0.5136268343815513,
                    0.5136268343815513,
                    0.5345911949685535,
                    0.5345911949685535,
                    0.5387840670859538,
                    0.5387840670859538,
                    0.5422781271837875,
                    0.5422781271837875,
                    0.56743535988819,
                    0.56743535988819,
                    0.6967155835080363,
                    0.6967155835080363,
                    0.6988120195667366,
                    0.6988120195667366,
                    0.8085255066387141,
                    0.8085255066387141,
                    0.8294898672257163,
                    0.8294898672257163,
                    0.9308176100628931,
                    0.9308176100628931,
                    1
                  ],
                  "y": [
                    0,
                    0.0028011204481792717,
                    0.13165266106442577,
                    0.13165266106442577,
                    0.23809523809523808,
                    0.23809523809523808,
                    0.30532212885154064,
                    0.30532212885154064,
                    0.3277310924369748,
                    0.3277310924369748,
                    0.34173669467787116,
                    0.34173669467787116,
                    0.3557422969187675,
                    0.3557422969187675,
                    0.3753501400560224,
                    0.3753501400560224,
                    0.38095238095238093,
                    0.38095238095238093,
                    0.38935574229691877,
                    0.38935574229691877,
                    0.4425770308123249,
                    0.4425770308123249,
                    0.4565826330532213,
                    0.4565826330532213,
                    0.47058823529411764,
                    0.47058823529411764,
                    0.47619047619047616,
                    0.47619047619047616,
                    0.484593837535014,
                    0.484593837535014,
                    0.49019607843137253,
                    0.49019607843137253,
                    0.4957983193277311,
                    0.4957983193277311,
                    0.49859943977591037,
                    0.49859943977591037,
                    0.5182072829131653,
                    0.5182072829131653,
                    0.5742296918767507,
                    0.5742296918767507,
                    0.5770308123249299,
                    0.5770308123249299,
                    0.5826330532212886,
                    0.5826330532212886,
                    0.5910364145658263,
                    0.5910364145658263,
                    0.5966386554621849,
                    0.5966386554621849,
                    0.6022408963585434,
                    0.6022408963585434,
                    0.6134453781512605,
                    0.6134453781512605,
                    0.6162464985994398,
                    0.6162464985994398,
                    0.6218487394957983,
                    0.6218487394957983,
                    0.6302521008403361,
                    0.6302521008403361,
                    0.6330532212885154,
                    0.6330532212885154,
                    0.6358543417366946,
                    0.6358543417366946,
                    0.6442577030812325,
                    0.6442577030812325,
                    0.6470588235294118,
                    0.6470588235294118,
                    0.6554621848739496,
                    0.6554621848739496,
                    0.6582633053221288,
                    0.6582633053221288,
                    0.6638655462184874,
                    0.6638655462184874,
                    0.6750700280112045,
                    0.6750700280112045,
                    0.6834733893557423,
                    0.6834733893557423,
                    0.6946778711484594,
                    0.6946778711484594,
                    0.6974789915966386,
                    0.6974789915966386,
                    0.7002801120448179,
                    0.7002801120448179,
                    0.7058823529411765,
                    0.7058823529411765,
                    0.711484593837535,
                    0.711484593837535,
                    0.7226890756302521,
                    0.7226890756302521,
                    0.7254901960784313,
                    0.7254901960784313,
                    0.7282913165266106,
                    0.7282913165266106,
                    0.7338935574229691,
                    0.7338935574229691,
                    0.7394957983193278,
                    0.7394957983193278,
                    0.742296918767507,
                    0.742296918767507,
                    0.7450980392156863,
                    0.7450980392156863,
                    0.7478991596638656,
                    0.7478991596638656,
                    0.7535014005602241,
                    0.7535014005602241,
                    0.7591036414565826,
                    0.7591036414565826,
                    0.773109243697479,
                    0.773109243697479,
                    0.7759103641456583,
                    0.7759103641456583,
                    0.7843137254901961,
                    0.7843137254901961,
                    0.7871148459383753,
                    0.7871148459383753,
                    0.7955182072829131,
                    0.7955182072829131,
                    0.7983193277310925,
                    0.7983193277310925,
                    0.8011204481792717,
                    0.8011204481792717,
                    0.8067226890756303,
                    0.8067226890756303,
                    0.8095238095238095,
                    0.8095238095238095,
                    0.8123249299719888,
                    0.8123249299719888,
                    0.8151260504201681,
                    0.8151260504201681,
                    0.8207282913165266,
                    0.8207282913165266,
                    0.8235294117647058,
                    0.8235294117647058,
                    0.8263305322128851,
                    0.8263305322128851,
                    0.8291316526610645,
                    0.8291316526610645,
                    0.8319327731092437,
                    0.8319327731092437,
                    0.8403361344537815,
                    0.8403361344537815,
                    0.8487394957983193,
                    0.8487394957983193,
                    0.8515406162464986,
                    0.8515406162464986,
                    0.8543417366946778,
                    0.8543417366946778,
                    0.8571428571428571,
                    0.8571428571428571,
                    0.8599439775910365,
                    0.8599439775910365,
                    0.8627450980392157,
                    0.8627450980392157,
                    0.865546218487395,
                    0.865546218487395,
                    0.8683473389355743,
                    0.8683473389355743,
                    0.8711484593837535,
                    0.8711484593837535,
                    0.8739495798319328,
                    0.8739495798319328,
                    0.876750700280112,
                    0.876750700280112,
                    0.8795518207282913,
                    0.8795518207282913,
                    0.8823529411764706,
                    0.8823529411764706,
                    0.8879551820728291,
                    0.8879551820728291,
                    0.8907563025210085,
                    0.8907563025210085,
                    0.8935574229691877,
                    0.8935574229691877,
                    0.8991596638655462,
                    0.8991596638655462,
                    0.907563025210084,
                    0.907563025210084,
                    0.9103641456582633,
                    0.9103641456582633,
                    0.9131652661064426,
                    0.9131652661064426,
                    0.9159663865546218,
                    0.9159663865546218,
                    0.9187675070028011,
                    0.9187675070028011,
                    0.9215686274509803,
                    0.9215686274509803,
                    0.9243697478991597,
                    0.9243697478991597,
                    0.927170868347339,
                    0.927170868347339,
                    0.9299719887955182,
                    0.9299719887955182,
                    0.9327731092436975,
                    0.9327731092436975,
                    0.9355742296918768,
                    0.9355742296918768,
                    0.938375350140056,
                    0.938375350140056,
                    0.9411764705882353,
                    0.9411764705882353,
                    0.9439775910364145,
                    0.9439775910364145,
                    0.9467787114845938,
                    0.9467787114845938,
                    0.9495798319327731,
                    0.9495798319327731,
                    0.9551820728291317,
                    0.9551820728291317,
                    0.957983193277311,
                    0.957983193277311,
                    0.9607843137254902,
                    0.9607843137254902,
                    0.9635854341736695,
                    0.9635854341736695,
                    0.9663865546218487,
                    0.9663865546218487,
                    0.969187675070028,
                    0.969187675070028,
                    0.9719887955182073,
                    0.9719887955182073,
                    0.9747899159663865,
                    0.9747899159663865,
                    0.9775910364145658,
                    0.9775910364145658,
                    0.9803921568627451,
                    0.9803921568627451,
                    0.9831932773109243,
                    0.9831932773109243,
                    0.9859943977591037,
                    0.9859943977591037,
                    0.988795518207283,
                    0.988795518207283,
                    0.9915966386554622,
                    0.9915966386554622,
                    0.9943977591036415,
                    0.9943977591036415,
                    0.9971988795518207,
                    0.9971988795518207,
                    1,
                    1
                  ]
                },
                {
                  "marker": {
                    "color": "black",
                    "size": 10
                  },
                  "mode": "markers+text",
                  "name": "Meilleur Seuil",
                  "text": [
                    "Threshold: 0.06<br>TPR: 0.89<br>FPR: 0.12"
                  ],
                  "textposition": "bottom center",
                  "type": "scatter",
                  "x": [
                    0.1243885394828791
                  ],
                  "y": [
                    0.8907563025210085
                  ]
                }
              ],
              "layout": {
                "height": 600,
                "legend": {
                  "title": {
                    "text": "Modèles"
                  }
                },
                "template": {
                  "data": {
                    "bar": [
                      {
                        "error_x": {
                          "color": "#2a3f5f"
                        },
                        "error_y": {
                          "color": "#2a3f5f"
                        },
                        "marker": {
                          "line": {
                            "color": "white",
                            "width": 0.5
                          },
                          "pattern": {
                            "fillmode": "overlay",
                            "size": 10,
                            "solidity": 0.2
                          }
                        },
                        "type": "bar"
                      }
                    ],
                    "barpolar": [
                      {
                        "marker": {
                          "line": {
                            "color": "white",
                            "width": 0.5
                          },
                          "pattern": {
                            "fillmode": "overlay",
                            "size": 10,
                            "solidity": 0.2
                          }
                        },
                        "type": "barpolar"
                      }
                    ],
                    "carpet": [
                      {
                        "aaxis": {
                          "endlinecolor": "#2a3f5f",
                          "gridcolor": "#C8D4E3",
                          "linecolor": "#C8D4E3",
                          "minorgridcolor": "#C8D4E3",
                          "startlinecolor": "#2a3f5f"
                        },
                        "baxis": {
                          "endlinecolor": "#2a3f5f",
                          "gridcolor": "#C8D4E3",
                          "linecolor": "#C8D4E3",
                          "minorgridcolor": "#C8D4E3",
                          "startlinecolor": "#2a3f5f"
                        },
                        "type": "carpet"
                      }
                    ],
                    "choropleth": [
                      {
                        "colorbar": {
                          "outlinewidth": 0,
                          "ticks": ""
                        },
                        "type": "choropleth"
                      }
                    ],
                    "contour": [
                      {
                        "colorbar": {
                          "outlinewidth": 0,
                          "ticks": ""
                        },
                        "colorscale": [
                          [
                            0,
                            "#0d0887"
                          ],
                          [
                            0.1111111111111111,
                            "#46039f"
                          ],
                          [
                            0.2222222222222222,
                            "#7201a8"
                          ],
                          [
                            0.3333333333333333,
                            "#9c179e"
                          ],
                          [
                            0.4444444444444444,
                            "#bd3786"
                          ],
                          [
                            0.5555555555555556,
                            "#d8576b"
                          ],
                          [
                            0.6666666666666666,
                            "#ed7953"
                          ],
                          [
                            0.7777777777777778,
                            "#fb9f3a"
                          ],
                          [
                            0.8888888888888888,
                            "#fdca26"
                          ],
                          [
                            1,
                            "#f0f921"
                          ]
                        ],
                        "type": "contour"
                      }
                    ],
                    "contourcarpet": [
                      {
                        "colorbar": {
                          "outlinewidth": 0,
                          "ticks": ""
                        },
                        "type": "contourcarpet"
                      }
                    ],
                    "heatmap": [
                      {
                        "colorbar": {
                          "outlinewidth": 0,
                          "ticks": ""
                        },
                        "colorscale": [
                          [
                            0,
                            "#0d0887"
                          ],
                          [
                            0.1111111111111111,
                            "#46039f"
                          ],
                          [
                            0.2222222222222222,
                            "#7201a8"
                          ],
                          [
                            0.3333333333333333,
                            "#9c179e"
                          ],
                          [
                            0.4444444444444444,
                            "#bd3786"
                          ],
                          [
                            0.5555555555555556,
                            "#d8576b"
                          ],
                          [
                            0.6666666666666666,
                            "#ed7953"
                          ],
                          [
                            0.7777777777777778,
                            "#fb9f3a"
                          ],
                          [
                            0.8888888888888888,
                            "#fdca26"
                          ],
                          [
                            1,
                            "#f0f921"
                          ]
                        ],
                        "type": "heatmap"
                      }
                    ],
                    "heatmapgl": [
                      {
                        "colorbar": {
                          "outlinewidth": 0,
                          "ticks": ""
                        },
                        "colorscale": [
                          [
                            0,
                            "#0d0887"
                          ],
                          [
                            0.1111111111111111,
                            "#46039f"
                          ],
                          [
                            0.2222222222222222,
                            "#7201a8"
                          ],
                          [
                            0.3333333333333333,
                            "#9c179e"
                          ],
                          [
                            0.4444444444444444,
                            "#bd3786"
                          ],
                          [
                            0.5555555555555556,
                            "#d8576b"
                          ],
                          [
                            0.6666666666666666,
                            "#ed7953"
                          ],
                          [
                            0.7777777777777778,
                            "#fb9f3a"
                          ],
                          [
                            0.8888888888888888,
                            "#fdca26"
                          ],
                          [
                            1,
                            "#f0f921"
                          ]
                        ],
                        "type": "heatmapgl"
                      }
                    ],
                    "histogram": [
                      {
                        "marker": {
                          "pattern": {
                            "fillmode": "overlay",
                            "size": 10,
                            "solidity": 0.2
                          }
                        },
                        "type": "histogram"
                      }
                    ],
                    "histogram2d": [
                      {
                        "colorbar": {
                          "outlinewidth": 0,
                          "ticks": ""
                        },
                        "colorscale": [
                          [
                            0,
                            "#0d0887"
                          ],
                          [
                            0.1111111111111111,
                            "#46039f"
                          ],
                          [
                            0.2222222222222222,
                            "#7201a8"
                          ],
                          [
                            0.3333333333333333,
                            "#9c179e"
                          ],
                          [
                            0.4444444444444444,
                            "#bd3786"
                          ],
                          [
                            0.5555555555555556,
                            "#d8576b"
                          ],
                          [
                            0.6666666666666666,
                            "#ed7953"
                          ],
                          [
                            0.7777777777777778,
                            "#fb9f3a"
                          ],
                          [
                            0.8888888888888888,
                            "#fdca26"
                          ],
                          [
                            1,
                            "#f0f921"
                          ]
                        ],
                        "type": "histogram2d"
                      }
                    ],
                    "histogram2dcontour": [
                      {
                        "colorbar": {
                          "outlinewidth": 0,
                          "ticks": ""
                        },
                        "colorscale": [
                          [
                            0,
                            "#0d0887"
                          ],
                          [
                            0.1111111111111111,
                            "#46039f"
                          ],
                          [
                            0.2222222222222222,
                            "#7201a8"
                          ],
                          [
                            0.3333333333333333,
                            "#9c179e"
                          ],
                          [
                            0.4444444444444444,
                            "#bd3786"
                          ],
                          [
                            0.5555555555555556,
                            "#d8576b"
                          ],
                          [
                            0.6666666666666666,
                            "#ed7953"
                          ],
                          [
                            0.7777777777777778,
                            "#fb9f3a"
                          ],
                          [
                            0.8888888888888888,
                            "#fdca26"
                          ],
                          [
                            1,
                            "#f0f921"
                          ]
                        ],
                        "type": "histogram2dcontour"
                      }
                    ],
                    "mesh3d": [
                      {
                        "colorbar": {
                          "outlinewidth": 0,
                          "ticks": ""
                        },
                        "type": "mesh3d"
                      }
                    ],
                    "parcoords": [
                      {
                        "line": {
                          "colorbar": {
                            "outlinewidth": 0,
                            "ticks": ""
                          }
                        },
                        "type": "parcoords"
                      }
                    ],
                    "pie": [
                      {
                        "automargin": true,
                        "type": "pie"
                      }
                    ],
                    "scatter": [
                      {
                        "fillpattern": {
                          "fillmode": "overlay",
                          "size": 10,
                          "solidity": 0.2
                        },
                        "type": "scatter"
                      }
                    ],
                    "scatter3d": [
                      {
                        "line": {
                          "colorbar": {
                            "outlinewidth": 0,
                            "ticks": ""
                          }
                        },
                        "marker": {
                          "colorbar": {
                            "outlinewidth": 0,
                            "ticks": ""
                          }
                        },
                        "type": "scatter3d"
                      }
                    ],
                    "scattercarpet": [
                      {
                        "marker": {
                          "colorbar": {
                            "outlinewidth": 0,
                            "ticks": ""
                          }
                        },
                        "type": "scattercarpet"
                      }
                    ],
                    "scattergeo": [
                      {
                        "marker": {
                          "colorbar": {
                            "outlinewidth": 0,
                            "ticks": ""
                          }
                        },
                        "type": "scattergeo"
                      }
                    ],
                    "scattergl": [
                      {
                        "marker": {
                          "colorbar": {
                            "outlinewidth": 0,
                            "ticks": ""
                          }
                        },
                        "type": "scattergl"
                      }
                    ],
                    "scattermapbox": [
                      {
                        "marker": {
                          "colorbar": {
                            "outlinewidth": 0,
                            "ticks": ""
                          }
                        },
                        "type": "scattermapbox"
                      }
                    ],
                    "scatterpolar": [
                      {
                        "marker": {
                          "colorbar": {
                            "outlinewidth": 0,
                            "ticks": ""
                          }
                        },
                        "type": "scatterpolar"
                      }
                    ],
                    "scatterpolargl": [
                      {
                        "marker": {
                          "colorbar": {
                            "outlinewidth": 0,
                            "ticks": ""
                          }
                        },
                        "type": "scatterpolargl"
                      }
                    ],
                    "scatterternary": [
                      {
                        "marker": {
                          "colorbar": {
                            "outlinewidth": 0,
                            "ticks": ""
                          }
                        },
                        "type": "scatterternary"
                      }
                    ],
                    "surface": [
                      {
                        "colorbar": {
                          "outlinewidth": 0,
                          "ticks": ""
                        },
                        "colorscale": [
                          [
                            0,
                            "#0d0887"
                          ],
                          [
                            0.1111111111111111,
                            "#46039f"
                          ],
                          [
                            0.2222222222222222,
                            "#7201a8"
                          ],
                          [
                            0.3333333333333333,
                            "#9c179e"
                          ],
                          [
                            0.4444444444444444,
                            "#bd3786"
                          ],
                          [
                            0.5555555555555556,
                            "#d8576b"
                          ],
                          [
                            0.6666666666666666,
                            "#ed7953"
                          ],
                          [
                            0.7777777777777778,
                            "#fb9f3a"
                          ],
                          [
                            0.8888888888888888,
                            "#fdca26"
                          ],
                          [
                            1,
                            "#f0f921"
                          ]
                        ],
                        "type": "surface"
                      }
                    ],
                    "table": [
                      {
                        "cells": {
                          "fill": {
                            "color": "#EBF0F8"
                          },
                          "line": {
                            "color": "white"
                          }
                        },
                        "header": {
                          "fill": {
                            "color": "#C8D4E3"
                          },
                          "line": {
                            "color": "white"
                          }
                        },
                        "type": "table"
                      }
                    ]
                  },
                  "layout": {
                    "annotationdefaults": {
                      "arrowcolor": "#2a3f5f",
                      "arrowhead": 0,
                      "arrowwidth": 1
                    },
                    "autotypenumbers": "strict",
                    "coloraxis": {
                      "colorbar": {
                        "outlinewidth": 0,
                        "ticks": ""
                      }
                    },
                    "colorscale": {
                      "diverging": [
                        [
                          0,
                          "#8e0152"
                        ],
                        [
                          0.1,
                          "#c51b7d"
                        ],
                        [
                          0.2,
                          "#de77ae"
                        ],
                        [
                          0.3,
                          "#f1b6da"
                        ],
                        [
                          0.4,
                          "#fde0ef"
                        ],
                        [
                          0.5,
                          "#f7f7f7"
                        ],
                        [
                          0.6,
                          "#e6f5d0"
                        ],
                        [
                          0.7,
                          "#b8e186"
                        ],
                        [
                          0.8,
                          "#7fbc41"
                        ],
                        [
                          0.9,
                          "#4d9221"
                        ],
                        [
                          1,
                          "#276419"
                        ]
                      ],
                      "sequential": [
                        [
                          0,
                          "#0d0887"
                        ],
                        [
                          0.1111111111111111,
                          "#46039f"
                        ],
                        [
                          0.2222222222222222,
                          "#7201a8"
                        ],
                        [
                          0.3333333333333333,
                          "#9c179e"
                        ],
                        [
                          0.4444444444444444,
                          "#bd3786"
                        ],
                        [
                          0.5555555555555556,
                          "#d8576b"
                        ],
                        [
                          0.6666666666666666,
                          "#ed7953"
                        ],
                        [
                          0.7777777777777778,
                          "#fb9f3a"
                        ],
                        [
                          0.8888888888888888,
                          "#fdca26"
                        ],
                        [
                          1,
                          "#f0f921"
                        ]
                      ],
                      "sequentialminus": [
                        [
                          0,
                          "#0d0887"
                        ],
                        [
                          0.1111111111111111,
                          "#46039f"
                        ],
                        [
                          0.2222222222222222,
                          "#7201a8"
                        ],
                        [
                          0.3333333333333333,
                          "#9c179e"
                        ],
                        [
                          0.4444444444444444,
                          "#bd3786"
                        ],
                        [
                          0.5555555555555556,
                          "#d8576b"
                        ],
                        [
                          0.6666666666666666,
                          "#ed7953"
                        ],
                        [
                          0.7777777777777778,
                          "#fb9f3a"
                        ],
                        [
                          0.8888888888888888,
                          "#fdca26"
                        ],
                        [
                          1,
                          "#f0f921"
                        ]
                      ]
                    },
                    "colorway": [
                      "#636efa",
                      "#EF553B",
                      "#00cc96",
                      "#ab63fa",
                      "#FFA15A",
                      "#19d3f3",
                      "#FF6692",
                      "#B6E880",
                      "#FF97FF",
                      "#FECB52"
                    ],
                    "font": {
                      "color": "#2a3f5f"
                    },
                    "geo": {
                      "bgcolor": "white",
                      "lakecolor": "white",
                      "landcolor": "white",
                      "showlakes": true,
                      "showland": true,
                      "subunitcolor": "#C8D4E3"
                    },
                    "hoverlabel": {
                      "align": "left"
                    },
                    "hovermode": "closest",
                    "mapbox": {
                      "style": "light"
                    },
                    "paper_bgcolor": "white",
                    "plot_bgcolor": "white",
                    "polar": {
                      "angularaxis": {
                        "gridcolor": "#EBF0F8",
                        "linecolor": "#EBF0F8",
                        "ticks": ""
                      },
                      "bgcolor": "white",
                      "radialaxis": {
                        "gridcolor": "#EBF0F8",
                        "linecolor": "#EBF0F8",
                        "ticks": ""
                      }
                    },
                    "scene": {
                      "xaxis": {
                        "backgroundcolor": "white",
                        "gridcolor": "#DFE8F3",
                        "gridwidth": 2,
                        "linecolor": "#EBF0F8",
                        "showbackground": true,
                        "ticks": "",
                        "zerolinecolor": "#EBF0F8"
                      },
                      "yaxis": {
                        "backgroundcolor": "white",
                        "gridcolor": "#DFE8F3",
                        "gridwidth": 2,
                        "linecolor": "#EBF0F8",
                        "showbackground": true,
                        "ticks": "",
                        "zerolinecolor": "#EBF0F8"
                      },
                      "zaxis": {
                        "backgroundcolor": "white",
                        "gridcolor": "#DFE8F3",
                        "gridwidth": 2,
                        "linecolor": "#EBF0F8",
                        "showbackground": true,
                        "ticks": "",
                        "zerolinecolor": "#EBF0F8"
                      }
                    },
                    "shapedefaults": {
                      "line": {
                        "color": "#2a3f5f"
                      }
                    },
                    "ternary": {
                      "aaxis": {
                        "gridcolor": "#DFE8F3",
                        "linecolor": "#A2B1C6",
                        "ticks": ""
                      },
                      "baxis": {
                        "gridcolor": "#DFE8F3",
                        "linecolor": "#A2B1C6",
                        "ticks": ""
                      },
                      "bgcolor": "white",
                      "caxis": {
                        "gridcolor": "#DFE8F3",
                        "linecolor": "#A2B1C6",
                        "ticks": ""
                      }
                    },
                    "title": {
                      "x": 0.05
                    },
                    "xaxis": {
                      "automargin": true,
                      "gridcolor": "#EBF0F8",
                      "linecolor": "#EBF0F8",
                      "ticks": "",
                      "title": {
                        "standoff": 15
                      },
                      "zerolinecolor": "#EBF0F8",
                      "zerolinewidth": 2
                    },
                    "yaxis": {
                      "automargin": true,
                      "gridcolor": "#EBF0F8",
                      "linecolor": "#EBF0F8",
                      "ticks": "",
                      "title": {
                        "standoff": 15
                      },
                      "zerolinecolor": "#EBF0F8",
                      "zerolinewidth": 2
                    }
                  }
                },
                "title": {
                  "text": "Courbe ROC Avant et Après GridSearch"
                },
                "width": 1000,
                "xaxis": {
                  "title": {
                    "text": "Taux de Faux Positifs (FPR)"
                  }
                },
                "yaxis": {
                  "title": {
                    "text": "Taux de Vrais Positifs (TPR)"
                  }
                }
              }
            }
          },
          "metadata": {},
          "output_type": "display_data"
        }
      ],
      "source": [
        "grid_test_preds_probs_reduced = grid_classifier_reduced.predict_proba(x_test_med_reduced)[:, 1]\n",
        "\n",
        "grid_test_roc_auc_reduced = roc_auc_score(y_test, grid_test_preds_probs_reduced)\n",
        "\n",
        "# Regardons visuellement la différence avant et après le GridSerchCV\n",
        "best_model_reduced = grid_classifier_reduced.best_estimator_\n",
        "\n",
        "# Calcul des scores AUC\n",
        "lr_auc_best_reduced = roc_auc_score(y_test, grid_test_preds_probs_reduced)\n",
        "\n",
        "print(f'Naïf: ROC AUC = {round(ns_auc, 2)}')\n",
        "print(f'XGBoost | Après GridSearch: ROC AUC = {round(grid_test_roc_auc, 2)}')\n",
        "print(f'XGBoost | Après GridSearch Reduced: ROC AUC = {round(lr_auc_best_reduced, 2)}')\n",
        "\n",
        "# Calcul des courbes ROC\n",
        "lr_fpr_best_reduced, lr_tpr_best_reduced, thresholds = roc_curve(y_test, grid_test_preds_probs_reduced)\n",
        "\n",
        "tpr_fpr_diff = lr_tpr_best_reduced - lr_fpr_best_reduced\n",
        "\n",
        "best_idx = np.argmax(tpr_fpr_diff)\n",
        "best_threshold = thresholds[best_idx]\n",
        "best_tpr = lr_tpr_best_reduced[best_idx]\n",
        "best_fpr = lr_fpr_best_reduced[best_idx]\n",
        "\n",
        "# Tracé des courbes ROC\n",
        "fig = go.Figure()\n",
        "\n",
        "# Courbe No Skill\n",
        "fig.add_trace(go.Scatter(x=ns_fpr, y=ns_tpr, mode='lines',\n",
        "                         name='Naïf',\n",
        "                         line=dict(dash='dash', color='blue')))\n",
        "\n",
        "# Courbe XGBoost après GridSearch\n",
        "fig.add_trace(go.Scatter(x=lr_fpr_best, y=lr_tpr_best, mode='lines',\n",
        "                         name='XGBoost | Modèle Complet Après GridSearch',\n",
        "                         ))\n",
        "\n",
        "# Courbe XGBoost après GridSearch Reduced\n",
        "fig.add_trace(go.Scatter(x=lr_fpr_best_reduced, y=lr_tpr_best_reduced, mode='lines',\n",
        "                         name='XGBoost | Modèle Réduit Après GridSearch',\n",
        "                         ))\n",
        "\n",
        "# Annotation du meilleur seuil\n",
        "fig.add_trace(go.Scatter(\n",
        "    x=[best_fpr],\n",
        "    y=[best_tpr],\n",
        "    mode='markers+text',\n",
        "    name='Meilleur Seuil',\n",
        "    marker=dict(color='black', size=10),\n",
        "    text=[f'Threshold: {best_threshold:.2f}<br>TPR: {best_tpr:.2f}<br>FPR: {best_fpr:.2f}'],\n",
        "    textposition='bottom center'\n",
        "))\n",
        "\n",
        "# Paramètres du graphique\n",
        "fig.update_layout(\n",
        "    title=\"Courbe ROC Avant et Après GridSearch\",\n",
        "    xaxis_title=\"Taux de Faux Positifs (FPR)\",\n",
        "    yaxis_title=\"Taux de Vrais Positifs (TPR)\",\n",
        "    legend_title=\"Modèles\",\n",
        "    template=\"plotly_white\",\n",
        "    width=1000,  # Largeur du graphique\n",
        "    height=600,  # Hauteur du graphique\n",
        ")\n",
        "\n",
        "fig.show()\n"
      ]
    },
    {
      "cell_type": "code",
      "execution_count": 25,
      "metadata": {},
      "outputs": [
        {
          "name": "stdout",
          "output_type": "stream",
          "text": [
            "Le F1-Score du modèle optimisé est le suivant : 0.75 et son AUC est de : 0.94\n"
          ]
        }
      ],
      "source": [
        "threshold = 0.06\n",
        "grid_test_preds_reduced = (grid_test_preds_probs_reduced >= best_threshold).astype(int)\n",
        "\n",
        "grid_test_f1_reduced = f1_score(y_test, grid_test_preds_reduced)\n",
        "print(f\"Le F1-Score du modèle optimisé est le suivant : {round(grid_test_f1_reduced,2)} et son AUC est de : {round(grid_test_roc_auc_reduced,2)}\")"
      ]
    },
    {
      "cell_type": "markdown",
      "metadata": {},
      "source": [
        "<span style=\"font-size: 24px; color: darkred; text-decoration: underline;\"><strong>Matrice de confusion du modèle réduit optimisé</strong></span>"
      ]
    },
    {
      "cell_type": "code",
      "execution_count": 26,
      "metadata": {
        "colab": {
          "base_uri": "https://localhost:8080/",
          "height": 458
        },
        "id": "Rus3Pj2lgIoP",
        "outputId": "6a141bef-c89d-40d6-eada-0b6d19692d42"
      },
      "outputs": [
        {
          "data": {
            "image/png": "[encoded data removed]",
            "text/plain": [
              "<Figure size 600x500 with 2 Axes>"
            ]
          },
          "metadata": {},
          "output_type": "display_data"
        }
      ],
      "source": [
        "cm = confusion_matrix(y_test, grid_test_preds_reduced)\n",
        "disp = ConfusionMatrixDisplay(confusion_matrix=cm, display_labels=grid_classifier.classes_)\n",
        "disp.plot()\n",
        "plt.show()"
      ]
    },
    {
      "cell_type": "code",
      "execution_count": 27,
      "metadata": {},
      "outputs": [
        {
          "name": "stdout",
          "output_type": "stream",
          "text": [
            "Train Log Loss: 0.03\n",
            "Test Log Loss: 0.24\n",
            "\n"
          ]
        }
      ],
      "source": [
        "# Prédictions sur l'ensemble d'entraînement\n",
        "grid_train_preds_reduced = grid_classifier_reduced.predict(x_train_med_reduced)\n",
        "grid_train_preds_probs_reduced = grid_classifier_reduced.predict_proba(x_train_med_reduced)[:, 1]\n",
        "\n",
        "train_log_loss_reduced = log_loss(y_train, grid_train_preds_probs_reduced)\n",
        "test_log_loss_reduced = log_loss(y_test, grid_test_preds_probs_reduced)\n",
        "\n",
        "print(f\"Train Log Loss: {train_log_loss_reduced:.2f}\")\n",
        "print(f\"Test Log Loss: {test_log_loss_reduced:.2f}\\n\")"
      ]
    },
    {
      "cell_type": "code",
      "execution_count": 28,
      "metadata": {},
      "outputs": [
        {
          "data": {
            "application/vnd.plotly.v1+json": {
              "config": {
                "plotlyServerURL": "https://plot.ly"
              },
              "data": [
                {
                  "marker": {
                    "color": "red"
                  },
                  "name": "Modèle Brute",
                  "text": [
                    0.77,
                    0.6,
                    0.68,
                    0.56
                  ],
                  "textposition": "auto",
                  "type": "bar",
                  "x": [
                    "Precision",
                    "Recall",
                    "F1-Score",
                    "Indice de Gini"
                  ],
                  "y": [
                    0.77,
                    0.6,
                    0.68,
                    0.56
                  ]
                },
                {
                  "marker": {
                    "color": "blue"
                  },
                  "name": "Modèle Complet",
                  "text": [
                    0.72,
                    0.89,
                    0.79,
                    0.91
                  ],
                  "textposition": "auto",
                  "type": "bar",
                  "x": [
                    "Precision",
                    "Recall",
                    "F1-Score",
                    "Indice de Gini"
                  ],
                  "y": [
                    0.72,
                    0.89,
                    0.79,
                    0.91
                  ]
                },
                {
                  "marker": {
                    "color": "green"
                  },
                  "name": "Modèle Réduit",
                  "text": [
                    0.64,
                    0.89,
                    0.75,
                    0.88
                  ],
                  "textposition": "auto",
                  "type": "bar",
                  "x": [
                    "Precision",
                    "Recall",
                    "F1-Score",
                    "Indice de Gini"
                  ],
                  "y": [
                    0.64,
                    0.89,
                    0.75,
                    0.88
                  ]
                }
              ],
              "layout": {
                "barmode": "group",
                "template": {
                  "data": {
                    "bar": [
                      {
                        "error_x": {
                          "color": "#2a3f5f"
                        },
                        "error_y": {
                          "color": "#2a3f5f"
                        },
                        "marker": {
                          "line": {
                            "color": "white",
                            "width": 0.5
                          },
                          "pattern": {
                            "fillmode": "overlay",
                            "size": 10,
                            "solidity": 0.2
                          }
                        },
                        "type": "bar"
                      }
                    ],
                    "barpolar": [
                      {
                        "marker": {
                          "line": {
                            "color": "white",
                            "width": 0.5
                          },
                          "pattern": {
                            "fillmode": "overlay",
                            "size": 10,
                            "solidity": 0.2
                          }
                        },
                        "type": "barpolar"
                      }
                    ],
                    "carpet": [
                      {
                        "aaxis": {
                          "endlinecolor": "#2a3f5f",
                          "gridcolor": "#C8D4E3",
                          "linecolor": "#C8D4E3",
                          "minorgridcolor": "#C8D4E3",
                          "startlinecolor": "#2a3f5f"
                        },
                        "baxis": {
                          "endlinecolor": "#2a3f5f",
                          "gridcolor": "#C8D4E3",
                          "linecolor": "#C8D4E3",
                          "minorgridcolor": "#C8D4E3",
                          "startlinecolor": "#2a3f5f"
                        },
                        "type": "carpet"
                      }
                    ],
                    "choropleth": [
                      {
                        "colorbar": {
                          "outlinewidth": 0,
                          "ticks": ""
                        },
                        "type": "choropleth"
                      }
                    ],
                    "contour": [
                      {
                        "colorbar": {
                          "outlinewidth": 0,
                          "ticks": ""
                        },
                        "colorscale": [
                          [
                            0,
                            "#0d0887"
                          ],
                          [
                            0.1111111111111111,
                            "#46039f"
                          ],
                          [
                            0.2222222222222222,
                            "#7201a8"
                          ],
                          [
                            0.3333333333333333,
                            "#9c179e"
                          ],
                          [
                            0.4444444444444444,
                            "#bd3786"
                          ],
                          [
                            0.5555555555555556,
                            "#d8576b"
                          ],
                          [
                            0.6666666666666666,
                            "#ed7953"
                          ],
                          [
                            0.7777777777777778,
                            "#fb9f3a"
                          ],
                          [
                            0.8888888888888888,
                            "#fdca26"
                          ],
                          [
                            1,
                            "#f0f921"
                          ]
                        ],
                        "type": "contour"
                      }
                    ],
                    "contourcarpet": [
                      {
                        "colorbar": {
                          "outlinewidth": 0,
                          "ticks": ""
                        },
                        "type": "contourcarpet"
                      }
                    ],
                    "heatmap": [
                      {
                        "colorbar": {
                          "outlinewidth": 0,
                          "ticks": ""
                        },
                        "colorscale": [
                          [
                            0,
                            "#0d0887"
                          ],
                          [
                            0.1111111111111111,
                            "#46039f"
                          ],
                          [
                            0.2222222222222222,
                            "#7201a8"
                          ],
                          [
                            0.3333333333333333,
                            "#9c179e"
                          ],
                          [
                            0.4444444444444444,
                            "#bd3786"
                          ],
                          [
                            0.5555555555555556,
                            "#d8576b"
                          ],
                          [
                            0.6666666666666666,
                            "#ed7953"
                          ],
                          [
                            0.7777777777777778,
                            "#fb9f3a"
                          ],
                          [
                            0.8888888888888888,
                            "#fdca26"
                          ],
                          [
                            1,
                            "#f0f921"
                          ]
                        ],
                        "type": "heatmap"
                      }
                    ],
                    "heatmapgl": [
                      {
                        "colorbar": {
                          "outlinewidth": 0,
                          "ticks": ""
                        },
                        "colorscale": [
                          [
                            0,
                            "#0d0887"
                          ],
                          [
                            0.1111111111111111,
                            "#46039f"
                          ],
                          [
                            0.2222222222222222,
                            "#7201a8"
                          ],
                          [
                            0.3333333333333333,
                            "#9c179e"
                          ],
                          [
                            0.4444444444444444,
                            "#bd3786"
                          ],
                          [
                            0.5555555555555556,
                            "#d8576b"
                          ],
                          [
                            0.6666666666666666,
                            "#ed7953"
                          ],
                          [
                            0.7777777777777778,
                            "#fb9f3a"
                          ],
                          [
                            0.8888888888888888,
                            "#fdca26"
                          ],
                          [
                            1,
                            "#f0f921"
                          ]
                        ],
                        "type": "heatmapgl"
                      }
                    ],
                    "histogram": [
                      {
                        "marker": {
                          "pattern": {
                            "fillmode": "overlay",
                            "size": 10,
                            "solidity": 0.2
                          }
                        },
                        "type": "histogram"
                      }
                    ],
                    "histogram2d": [
                      {
                        "colorbar": {
                          "outlinewidth": 0,
                          "ticks": ""
                        },
                        "colorscale": [
                          [
                            0,
                            "#0d0887"
                          ],
                          [
                            0.1111111111111111,
                            "#46039f"
                          ],
                          [
                            0.2222222222222222,
                            "#7201a8"
                          ],
                          [
                            0.3333333333333333,
                            "#9c179e"
                          ],
                          [
                            0.4444444444444444,
                            "#bd3786"
                          ],
                          [
                            0.5555555555555556,
                            "#d8576b"
                          ],
                          [
                            0.6666666666666666,
                            "#ed7953"
                          ],
                          [
                            0.7777777777777778,
                            "#fb9f3a"
                          ],
                          [
                            0.8888888888888888,
                            "#fdca26"
                          ],
                          [
                            1,
                            "#f0f921"
                          ]
                        ],
                        "type": "histogram2d"
                      }
                    ],
                    "histogram2dcontour": [
                      {
                        "colorbar": {
                          "outlinewidth": 0,
                          "ticks": ""
                        },
                        "colorscale": [
                          [
                            0,
                            "#0d0887"
                          ],
                          [
                            0.1111111111111111,
                            "#46039f"
                          ],
                          [
                            0.2222222222222222,
                            "#7201a8"
                          ],
                          [
                            0.3333333333333333,
                            "#9c179e"
                          ],
                          [
                            0.4444444444444444,
                            "#bd3786"
                          ],
                          [
                            0.5555555555555556,
                            "#d8576b"
                          ],
                          [
                            0.6666666666666666,
                            "#ed7953"
                          ],
                          [
                            0.7777777777777778,
                            "#fb9f3a"
                          ],
                          [
                            0.8888888888888888,
                            "#fdca26"
                          ],
                          [
                            1,
                            "#f0f921"
                          ]
                        ],
                        "type": "histogram2dcontour"
                      }
                    ],
                    "mesh3d": [
                      {
                        "colorbar": {
                          "outlinewidth": 0,
                          "ticks": ""
                        },
                        "type": "mesh3d"
                      }
                    ],
                    "parcoords": [
                      {
                        "line": {
                          "colorbar": {
                            "outlinewidth": 0,
                            "ticks": ""
                          }
                        },
                        "type": "parcoords"
                      }
                    ],
                    "pie": [
                      {
                        "automargin": true,
                        "type": "pie"
                      }
                    ],
                    "scatter": [
                      {
                        "fillpattern": {
                          "fillmode": "overlay",
                          "size": 10,
                          "solidity": 0.2
                        },
                        "type": "scatter"
                      }
                    ],
                    "scatter3d": [
                      {
                        "line": {
                          "colorbar": {
                            "outlinewidth": 0,
                            "ticks": ""
                          }
                        },
                        "marker": {
                          "colorbar": {
                            "outlinewidth": 0,
                            "ticks": ""
                          }
                        },
                        "type": "scatter3d"
                      }
                    ],
                    "scattercarpet": [
                      {
                        "marker": {
                          "colorbar": {
                            "outlinewidth": 0,
                            "ticks": ""
                          }
                        },
                        "type": "scattercarpet"
                      }
                    ],
                    "scattergeo": [
                      {
                        "marker": {
                          "colorbar": {
                            "outlinewidth": 0,
                            "ticks": ""
                          }
                        },
                        "type": "scattergeo"
                      }
                    ],
                    "scattergl": [
                      {
                        "marker": {
                          "colorbar": {
                            "outlinewidth": 0,
                            "ticks": ""
                          }
                        },
                        "type": "scattergl"
                      }
                    ],
                    "scattermapbox": [
                      {
                        "marker": {
                          "colorbar": {
                            "outlinewidth": 0,
                            "ticks": ""
                          }
                        },
                        "type": "scattermapbox"
                      }
                    ],
                    "scatterpolar": [
                      {
                        "marker": {
                          "colorbar": {
                            "outlinewidth": 0,
                            "ticks": ""
                          }
                        },
                        "type": "scatterpolar"
                      }
                    ],
                    "scatterpolargl": [
                      {
                        "marker": {
                          "colorbar": {
                            "outlinewidth": 0,
                            "ticks": ""
                          }
                        },
                        "type": "scatterpolargl"
                      }
                    ],
                    "scatterternary": [
                      {
                        "marker": {
                          "colorbar": {
                            "outlinewidth": 0,
                            "ticks": ""
                          }
                        },
                        "type": "scatterternary"
                      }
                    ],
                    "surface": [
                      {
                        "colorbar": {
                          "outlinewidth": 0,
                          "ticks": ""
                        },
                        "colorscale": [
                          [
                            0,
                            "#0d0887"
                          ],
                          [
                            0.1111111111111111,
                            "#46039f"
                          ],
                          [
                            0.2222222222222222,
                            "#7201a8"
                          ],
                          [
                            0.3333333333333333,
                            "#9c179e"
                          ],
                          [
                            0.4444444444444444,
                            "#bd3786"
                          ],
                          [
                            0.5555555555555556,
                            "#d8576b"
                          ],
                          [
                            0.6666666666666666,
                            "#ed7953"
                          ],
                          [
                            0.7777777777777778,
                            "#fb9f3a"
                          ],
                          [
                            0.8888888888888888,
                            "#fdca26"
                          ],
                          [
                            1,
                            "#f0f921"
                          ]
                        ],
                        "type": "surface"
                      }
                    ],
                    "table": [
                      {
                        "cells": {
                          "fill": {
                            "color": "#EBF0F8"
                          },
                          "line": {
                            "color": "white"
                          }
                        },
                        "header": {
                          "fill": {
                            "color": "#C8D4E3"
                          },
                          "line": {
                            "color": "white"
                          }
                        },
                        "type": "table"
                      }
                    ]
                  },
                  "layout": {
                    "annotationdefaults": {
                      "arrowcolor": "#2a3f5f",
                      "arrowhead": 0,
                      "arrowwidth": 1
                    },
                    "autotypenumbers": "strict",
                    "coloraxis": {
                      "colorbar": {
                        "outlinewidth": 0,
                        "ticks": ""
                      }
                    },
                    "colorscale": {
                      "diverging": [
                        [
                          0,
                          "#8e0152"
                        ],
                        [
                          0.1,
                          "#c51b7d"
                        ],
                        [
                          0.2,
                          "#de77ae"
                        ],
                        [
                          0.3,
                          "#f1b6da"
                        ],
                        [
                          0.4,
                          "#fde0ef"
                        ],
                        [
                          0.5,
                          "#f7f7f7"
                        ],
                        [
                          0.6,
                          "#e6f5d0"
                        ],
                        [
                          0.7,
                          "#b8e186"
                        ],
                        [
                          0.8,
                          "#7fbc41"
                        ],
                        [
                          0.9,
                          "#4d9221"
                        ],
                        [
                          1,
                          "#276419"
                        ]
                      ],
                      "sequential": [
                        [
                          0,
                          "#0d0887"
                        ],
                        [
                          0.1111111111111111,
                          "#46039f"
                        ],
                        [
                          0.2222222222222222,
                          "#7201a8"
                        ],
                        [
                          0.3333333333333333,
                          "#9c179e"
                        ],
                        [
                          0.4444444444444444,
                          "#bd3786"
                        ],
                        [
                          0.5555555555555556,
                          "#d8576b"
                        ],
                        [
                          0.6666666666666666,
                          "#ed7953"
                        ],
                        [
                          0.7777777777777778,
                          "#fb9f3a"
                        ],
                        [
                          0.8888888888888888,
                          "#fdca26"
                        ],
                        [
                          1,
                          "#f0f921"
                        ]
                      ],
                      "sequentialminus": [
                        [
                          0,
                          "#0d0887"
                        ],
                        [
                          0.1111111111111111,
                          "#46039f"
                        ],
                        [
                          0.2222222222222222,
                          "#7201a8"
                        ],
                        [
                          0.3333333333333333,
                          "#9c179e"
                        ],
                        [
                          0.4444444444444444,
                          "#bd3786"
                        ],
                        [
                          0.5555555555555556,
                          "#d8576b"
                        ],
                        [
                          0.6666666666666666,
                          "#ed7953"
                        ],
                        [
                          0.7777777777777778,
                          "#fb9f3a"
                        ],
                        [
                          0.8888888888888888,
                          "#fdca26"
                        ],
                        [
                          1,
                          "#f0f921"
                        ]
                      ]
                    },
                    "colorway": [
                      "#636efa",
                      "#EF553B",
                      "#00cc96",
                      "#ab63fa",
                      "#FFA15A",
                      "#19d3f3",
                      "#FF6692",
                      "#B6E880",
                      "#FF97FF",
                      "#FECB52"
                    ],
                    "font": {
                      "color": "#2a3f5f"
                    },
                    "geo": {
                      "bgcolor": "white",
                      "lakecolor": "white",
                      "landcolor": "white",
                      "showlakes": true,
                      "showland": true,
                      "subunitcolor": "#C8D4E3"
                    },
                    "hoverlabel": {
                      "align": "left"
                    },
                    "hovermode": "closest",
                    "mapbox": {
                      "style": "light"
                    },
                    "paper_bgcolor": "white",
                    "plot_bgcolor": "white",
                    "polar": {
                      "angularaxis": {
                        "gridcolor": "#EBF0F8",
                        "linecolor": "#EBF0F8",
                        "ticks": ""
                      },
                      "bgcolor": "white",
                      "radialaxis": {
                        "gridcolor": "#EBF0F8",
                        "linecolor": "#EBF0F8",
                        "ticks": ""
                      }
                    },
                    "scene": {
                      "xaxis": {
                        "backgroundcolor": "white",
                        "gridcolor": "#DFE8F3",
                        "gridwidth": 2,
                        "linecolor": "#EBF0F8",
                        "showbackground": true,
                        "ticks": "",
                        "zerolinecolor": "#EBF0F8"
                      },
                      "yaxis": {
                        "backgroundcolor": "white",
                        "gridcolor": "#DFE8F3",
                        "gridwidth": 2,
                        "linecolor": "#EBF0F8",
                        "showbackground": true,
                        "ticks": "",
                        "zerolinecolor": "#EBF0F8"
                      },
                      "zaxis": {
                        "backgroundcolor": "white",
                        "gridcolor": "#DFE8F3",
                        "gridwidth": 2,
                        "linecolor": "#EBF0F8",
                        "showbackground": true,
                        "ticks": "",
                        "zerolinecolor": "#EBF0F8"
                      }
                    },
                    "shapedefaults": {
                      "line": {
                        "color": "#2a3f5f"
                      }
                    },
                    "ternary": {
                      "aaxis": {
                        "gridcolor": "#DFE8F3",
                        "linecolor": "#A2B1C6",
                        "ticks": ""
                      },
                      "baxis": {
                        "gridcolor": "#DFE8F3",
                        "linecolor": "#A2B1C6",
                        "ticks": ""
                      },
                      "bgcolor": "white",
                      "caxis": {
                        "gridcolor": "#DFE8F3",
                        "linecolor": "#A2B1C6",
                        "ticks": ""
                      }
                    },
                    "title": {
                      "x": 0.05
                    },
                    "xaxis": {
                      "automargin": true,
                      "gridcolor": "#EBF0F8",
                      "linecolor": "#EBF0F8",
                      "ticks": "",
                      "title": {
                        "standoff": 15
                      },
                      "zerolinecolor": "#EBF0F8",
                      "zerolinewidth": 2
                    },
                    "yaxis": {
                      "automargin": true,
                      "gridcolor": "#EBF0F8",
                      "linecolor": "#EBF0F8",
                      "ticks": "",
                      "title": {
                        "standoff": 15
                      },
                      "zerolinecolor": "#EBF0F8",
                      "zerolinewidth": 2
                    }
                  }
                },
                "title": {
                  "text": "Comparaison des métriques entre différents modèles"
                },
                "xaxis": {
                  "title": {
                    "text": "Métriques"
                  }
                },
                "yaxis": {
                  "title": {
                    "text": "Valeurs"
                  }
                }
              }
            }
          },
          "metadata": {},
          "output_type": "display_data"
        }
      ],
      "source": [
        "results = [y_pred_raw, grid_test_preds, grid_test_preds_reduced]\n",
        "test_type = [y_test_raw, y_test, y_test]\n",
        "prediction_type = ['Modèle Brute', 'Modèle Complet', 'Modèle Réduit']\n",
        "\n",
        "gini_test_brute = np.round(2 * roc_auc_score(y_test_raw, y_pred_raw) - 1,2)\n",
        "gini_test_complet = np.round(2 * roc_auc_score(y_test, grid_test_preds_probs) - 1,2)\n",
        "gini_test_reduced = np.round(2 * roc_auc_score(y_test, grid_test_preds_probs_reduced) - 1,2)\n",
        "\n",
        "metrics_brute = []\n",
        "metrics_complet = []\n",
        "metrics_reduced = []\n",
        "\n",
        "for i, pred_type in enumerate(results):\n",
        "    cr = classification_report(test_type[i], pred_type, output_dict=True)\n",
        "    precision = np.round(cr['1']['precision'], 2)\n",
        "    recall = np.round(cr['1']['recall'], 2)\n",
        "    f1 = np.round(cr['1']['f1-score'], 2)\n",
        "    gini = [gini_test_brute, gini_test_complet, gini_test_reduced][i]\n",
        "    \n",
        "    if prediction_type[i] == 'Modèle Brute':\n",
        "        metrics_brute = [precision, recall, f1, gini]\n",
        "    elif prediction_type[i] == 'Modèle Complet':\n",
        "        metrics_complet = [precision, recall, f1, gini]\n",
        "    else:\n",
        "        metrics_reduced = [precision, recall, f1, gini]\n",
        "\n",
        "metric_names = ['Precision', 'Recall', 'F1-Score', 'Indice de Gini']\n",
        "\n",
        "df = pd.DataFrame({\n",
        "    'Metric': metric_names,\n",
        "    'Modèle Brute': metrics_brute,\n",
        "    'Modèle Complet': metrics_complet,\n",
        "    'Modèle Réduit': metrics_reduced\n",
        "})\n",
        "\n",
        "fig = go.Figure()\n",
        "\n",
        "fig.add_trace(go.Bar(\n",
        "    x=df['Metric'],\n",
        "    y=df['Modèle Brute'],\n",
        "    name='Modèle Brute',\n",
        "    marker_color='red',\n",
        "    text=df['Modèle Brute'],\n",
        "    textposition='auto'\n",
        "))\n",
        "\n",
        "fig.add_trace(go.Bar(\n",
        "    x=df['Metric'],\n",
        "    y=df['Modèle Complet'],\n",
        "    name='Modèle Complet',\n",
        "    marker_color='blue',\n",
        "    text=df['Modèle Complet'],\n",
        "    textposition='auto'\n",
        "))\n",
        "\n",
        "fig.add_trace(go.Bar(\n",
        "    x=df['Metric'],\n",
        "    y=df['Modèle Réduit'],\n",
        "    name='Modèle Réduit',\n",
        "    marker_color='green',\n",
        "    text=df['Modèle Réduit'],\n",
        "    textposition='auto'\n",
        "))\n",
        "\n",
        "fig.update_layout(\n",
        "    title='Comparaison des métriques entre différents modèles',\n",
        "    xaxis_title='Métriques',\n",
        "    yaxis_title='Valeurs',\n",
        "    barmode='group', \n",
        "    template='plotly_white'\n",
        ")\n",
        "\n",
        "fig.show()\n"
      ]
    }
  ],
  "metadata": {
    "accelerator": "GPU",
    "colab": {
      "gpuType": "T4",
      "provenance": []
    },
    "kernelspec": {
      "display_name": ".venv",
      "language": "python",
      "name": "python3"
    },
    "language_info": {
      "codemirror_mode": {
        "name": "ipython",
        "version": 3
      },
      "file_extension": ".py",
      "mimetype": "text/x-python",
      "name": "python",
      "nbconvert_exporter": "python",
      "pygments_lexer": "ipython3",
      "version": "3.12.5"
    }
  },
  "nbformat": 4,
  "nbformat_minor": 0
}
